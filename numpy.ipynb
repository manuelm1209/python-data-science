{
 "cells": [
  {
   "cell_type": "markdown",
   "id": "6bfea9dc",
   "metadata": {},
   "source": [
    "# NumPy Tutorial"
   ]
  },
  {
   "cell_type": "code",
   "execution_count": 4,
   "id": "b75cbf47",
   "metadata": {},
   "outputs": [
    {
     "name": "stdout",
     "output_type": "stream",
     "text": [
      "a: [1 2 3]\n",
      "b: [4 5 6]\n"
     ]
    }
   ],
   "source": [
    "import numpy as np\n",
    "a = np.array([1, 2, 3])\n",
    "b = np.array([4, 5, 6])\n",
    "print(f\"a: {a}\")\n",
    "print(f\"b: {b}\")"
   ]
  },
  {
   "cell_type": "markdown",
   "id": "3a416cf1",
   "metadata": {},
   "source": [
    "NumPy type"
   ]
  },
  {
   "cell_type": "code",
   "execution_count": 5,
   "id": "5a6a86fd",
   "metadata": {},
   "outputs": [
    {
     "data": {
      "text/plain": [
       "numpy.ndarray"
      ]
     },
     "execution_count": 5,
     "metadata": {},
     "output_type": "execute_result"
    }
   ],
   "source": [
    "type(a)"
   ]
  },
  {
   "cell_type": "markdown",
   "id": "9444e4bd",
   "metadata": {},
   "source": [
    "Define as int or float for example"
   ]
  },
  {
   "cell_type": "code",
   "execution_count": 6,
   "id": "0a981a00",
   "metadata": {},
   "outputs": [
    {
     "data": {
      "text/plain": [
       "dtype('float32')"
      ]
     },
     "execution_count": 6,
     "metadata": {},
     "output_type": "execute_result"
    }
   ],
   "source": [
    "a = np.array([1, 2, 3],dtype='f')\n",
    "a.dtype"
   ]
  },
  {
   "cell_type": "markdown",
   "id": "4be46dce",
   "metadata": {},
   "source": [
    "### Dimensions (ndim)"
   ]
  },
  {
   "cell_type": "markdown",
   "id": "514ce2e0",
   "metadata": {},
   "source": [
    "2 Dimensions"
   ]
  },
  {
   "cell_type": "code",
   "execution_count": 7,
   "id": "8ffe8e73",
   "metadata": {},
   "outputs": [
    {
     "name": "stdout",
     "output_type": "stream",
     "text": [
      "a ndim: 2\n"
     ]
    }
   ],
   "source": [
    "a = np.array([[1, 2, 3], [4, 5, 6]])\n",
    "print(f\"a ndim: {a.ndim}\")"
   ]
  },
  {
   "cell_type": "code",
   "execution_count": 8,
   "id": "50e2e134",
   "metadata": {},
   "outputs": [
    {
     "name": "stdout",
     "output_type": "stream",
     "text": [
      "4\n",
      "4\n"
     ]
    }
   ],
   "source": [
    "print(a[1][0])\n",
    "print(a[1, 0])"
   ]
  },
  {
   "cell_type": "markdown",
   "id": "388db2a4",
   "metadata": {},
   "source": [
    "3 Dimensions"
   ]
  },
  {
   "cell_type": "code",
   "execution_count": 9,
   "id": "c1a02f66",
   "metadata": {},
   "outputs": [
    {
     "name": "stdout",
     "output_type": "stream",
     "text": [
      "b ndim: 3\n"
     ]
    }
   ],
   "source": [
    "b = np.array([[[1, 2, 3], [4, 5, 6]], [[1, 2, 3], [4, 5, 6]], [[1, 2, 3], [4, 5, 6]]])\n",
    "print(f\"b ndim: {b.ndim}\")"
   ]
  },
  {
   "cell_type": "code",
   "execution_count": 10,
   "id": "5ce70a15",
   "metadata": {},
   "outputs": [
    {
     "name": "stdout",
     "output_type": "stream",
     "text": [
      "6\n",
      "6\n"
     ]
    }
   ],
   "source": [
    "print(b[1][1][2])\n",
    "print(b[1,1,2])"
   ]
  },
  {
   "cell_type": "markdown",
   "id": "a7e6ffa7",
   "metadata": {},
   "source": [
    "## Shape"
   ]
  },
  {
   "cell_type": "markdown",
   "id": "c0a4e3b3",
   "metadata": {},
   "source": [
    "It shows the element in each level"
   ]
  },
  {
   "cell_type": "code",
   "execution_count": 11,
   "id": "5ae4f97f",
   "metadata": {},
   "outputs": [
    {
     "data": {
      "text/plain": [
       "(3, 2, 3)"
      ]
     },
     "execution_count": 11,
     "metadata": {},
     "output_type": "execute_result"
    }
   ],
   "source": [
    "c = np.array([[[1, 2, 3], [4, 5, 6]], [[1, 2, 3], [4, 5, 6]], [[1, 2, 3], [4, 5, 6]]])\n",
    "c.shape"
   ]
  },
  {
   "cell_type": "markdown",
   "id": "cf3a5698",
   "metadata": {},
   "source": [
    "You can also go by level:"
   ]
  },
  {
   "cell_type": "code",
   "execution_count": 12,
   "id": "5abb6503",
   "metadata": {},
   "outputs": [
    {
     "name": "stdout",
     "output_type": "stream",
     "text": [
      "3\n",
      "2\n",
      "3\n"
     ]
    }
   ],
   "source": [
    "print(c.shape[0])\n",
    "print(c.shape[1])\n",
    "print(c.shape[2])"
   ]
  },
  {
   "cell_type": "markdown",
   "id": "3a12ee4c",
   "metadata": {},
   "source": [
    "### Show total of elements"
   ]
  },
  {
   "cell_type": "code",
   "execution_count": 14,
   "id": "94da0a89",
   "metadata": {},
   "outputs": [
    {
     "data": {
      "text/plain": [
       "18"
      ]
     },
     "execution_count": 14,
     "metadata": {},
     "output_type": "execute_result"
    }
   ],
   "source": [
    "c.size"
   ]
  },
  {
   "cell_type": "markdown",
   "id": "e0833693",
   "metadata": {},
   "source": [
    "### Create an array (arange())"
   ]
  },
  {
   "cell_type": "code",
   "execution_count": 16,
   "id": "812e7742",
   "metadata": {},
   "outputs": [
    {
     "name": "stdout",
     "output_type": "stream",
     "text": [
      "[ 0  1  2  3  4  5  6  7  8  9 10 11 12 13 14 15 16 17 18 19 20 21 22 23\n",
      " 24 25 26 27 28 29 30 31 32 33 34 35 36 37 38 39 40 41 42 43 44 45 46 47\n",
      " 48 49 50 51 52 53 54 55 56 57 58 59 60 61 62 63 64 65 66 67 68 69 70 71\n",
      " 72 73 74 75 76 77 78 79 80 81 82 83 84 85 86 87 88 89 90 91 92 93 94 95\n",
      " 96 97 98 99]\n"
     ]
    }
   ],
   "source": [
    "A = np.arange(100)\n",
    "print(A)"
   ]
  },
  {
   "cell_type": "markdown",
   "id": "c2eead04",
   "metadata": {},
   "source": [
    "Start from 20"
   ]
  },
  {
   "cell_type": "code",
   "execution_count": 17,
   "id": "fb90a4a3",
   "metadata": {},
   "outputs": [
    {
     "name": "stdout",
     "output_type": "stream",
     "text": [
      "[20 21 22 23 24 25 26 27 28 29 30 31 32 33 34 35 36 37 38 39 40 41 42 43\n",
      " 44 45 46 47 48 49 50 51 52 53 54 55 56 57 58 59 60 61 62 63 64 65 66 67\n",
      " 68 69 70 71 72 73 74 75 76 77 78 79 80 81 82 83 84 85 86 87 88 89 90 91\n",
      " 92 93 94 95 96 97 98 99]\n"
     ]
    }
   ],
   "source": [
    "A = np.arange(20,100)\n",
    "print(A)"
   ]
  },
  {
   "cell_type": "markdown",
   "id": "facc0873",
   "metadata": {},
   "source": [
    "### np.random.permutation"
   ]
  },
  {
   "cell_type": "markdown",
   "id": "35ac9cf5",
   "metadata": {},
   "source": [
    "Randoms the values you pass"
   ]
  },
  {
   "cell_type": "code",
   "execution_count": 19,
   "id": "44458f3b",
   "metadata": {},
   "outputs": [
    {
     "name": "stdout",
     "output_type": "stream",
     "text": [
      "[2 4 7 3 6 9 0 8 1 5]\n"
     ]
    }
   ],
   "source": [
    "A = np.random.permutation(np.arange(10))\n",
    "print(A)"
   ]
  },
  {
   "cell_type": "markdown",
   "id": "af17665c",
   "metadata": {},
   "source": [
    "Generate random integer"
   ]
  },
  {
   "cell_type": "code",
   "execution_count": 23,
   "id": "0df5783e",
   "metadata": {},
   "outputs": [
    {
     "name": "stdout",
     "output_type": "stream",
     "text": [
      "74\n"
     ]
    }
   ],
   "source": [
    "v = np.random.randint(20, 100)\n",
    "print(v)"
   ]
  },
  {
   "cell_type": "code",
   "execution_count": 30,
   "id": "aad8b086",
   "metadata": {},
   "outputs": [
    {
     "name": "stdout",
     "output_type": "stream",
     "text": [
      "[8.47940207e-01 1.88238660e-01 8.06843697e-01 4.97412670e-01\n",
      " 3.74237059e-01 9.95258779e-01 6.59209079e-01 9.41678003e-01\n",
      " 8.29297784e-01 5.85278526e-01 8.37981870e-01 8.87558024e-02\n",
      " 3.45168090e-01 9.28656986e-01 1.54392767e-01 3.96829660e-01\n",
      " 1.03733714e-01 7.60261942e-01 2.52420265e-01 5.22488690e-01\n",
      " 8.23234449e-01 8.80547932e-01 2.73470869e-01 7.03667505e-01\n",
      " 1.48104792e-01 5.18282381e-01 3.21426027e-01 9.46567473e-01\n",
      " 4.65764157e-01 5.04331129e-01 1.79172534e-01 2.51247196e-01\n",
      " 4.45515387e-01 7.80860410e-01 4.29480089e-02 2.58000424e-01\n",
      " 6.51253817e-01 4.46932454e-01 4.51910197e-01 5.06287391e-01\n",
      " 7.63898856e-01 9.78395495e-01 6.76254365e-01 5.85601775e-01\n",
      " 4.12927032e-01 8.06312263e-01 1.38522902e-01 4.87339254e-01\n",
      " 9.24773115e-01 6.63350337e-02 1.14514809e-01 9.44265224e-01\n",
      " 5.96487962e-01 4.49651069e-01 9.67393327e-01 2.28815706e-01\n",
      " 8.48328814e-01 4.07687026e-01 1.55299702e-02 1.44396037e-01\n",
      " 7.63347336e-01 2.03762606e-01 3.81109598e-01 1.94671965e-01\n",
      " 6.27632615e-01 9.51468444e-01 9.98876534e-01 1.59375835e-01\n",
      " 9.32670480e-03 5.65349237e-01 8.56622734e-01 8.90429067e-01\n",
      " 4.22491389e-01 6.36225204e-02 6.30461052e-01 4.57042338e-01\n",
      " 1.97939589e-01 6.50043417e-01 2.56851657e-01 2.58932140e-01\n",
      " 7.80300058e-01 8.93680831e-01 6.58656571e-02 5.63442214e-01\n",
      " 4.19552688e-01 5.65070435e-01 8.63767951e-01 7.94305366e-01\n",
      " 8.03775249e-01 6.87476394e-01 6.58292642e-01 4.74636455e-01\n",
      " 7.03627767e-01 3.10002230e-02 2.01248091e-01 3.45357948e-01\n",
      " 3.84030871e-01 2.12359539e-01 3.73843849e-01 8.43646270e-01\n",
      " 7.42798222e-01 8.13666504e-01 1.18661339e-01 7.33126362e-01\n",
      " 2.66441466e-01 1.88792490e-01 7.14023160e-01 8.11437271e-01\n",
      " 6.16306774e-01 8.53054179e-01 3.80128095e-01 3.56191500e-03\n",
      " 5.53934888e-01 2.61260391e-01 6.67407797e-01 5.91263422e-01\n",
      " 7.50494258e-01 8.03752711e-01 9.34293708e-01 7.24388565e-01\n",
      " 3.44020230e-01 2.71276558e-01 9.11877314e-01 1.67895407e-01\n",
      " 7.13211323e-01 5.90450899e-02 1.24041455e-01 2.63406719e-01\n",
      " 4.31590016e-01 5.77646848e-01 3.87569364e-01 5.66524298e-01\n",
      " 9.51293643e-01 6.51645208e-01 6.38230067e-01 7.67317412e-01\n",
      " 8.70819609e-02 1.72445897e-01 5.91285502e-01 2.62022554e-01\n",
      " 4.02369941e-01 3.52954094e-01 6.09897677e-02 7.34474401e-01\n",
      " 3.89282462e-01 9.47968287e-01 4.84772157e-01 9.53646718e-01\n",
      " 3.95553483e-01 5.06628717e-01 4.24247455e-01 5.24264312e-01\n",
      " 7.34455866e-01 9.58466171e-01 8.79303510e-01 6.59118787e-01\n",
      " 9.87670360e-01 1.68506255e-01 8.68807283e-01 6.85867630e-01\n",
      " 3.76191016e-01 3.42594524e-01 7.34990547e-01 9.92173858e-01\n",
      " 5.51438355e-01 3.08446173e-01 1.65674359e-01 4.71110933e-01\n",
      " 9.25535956e-01 6.73868276e-01 4.98227227e-01 7.84887196e-01\n",
      " 1.69061300e-01 7.39517957e-01 6.16809314e-01 1.36135207e-01\n",
      " 1.32414177e-01 6.24214714e-02 6.82029532e-01 6.50573770e-01\n",
      " 6.64049491e-02 2.52606031e-01 6.14357496e-01 4.94223955e-01\n",
      " 3.00036846e-01 8.70439346e-01 1.69457481e-01 3.58209065e-01\n",
      " 4.06513029e-01 7.70651409e-01 2.61225616e-01 4.79051796e-01\n",
      " 5.14424019e-01 9.17706913e-02 5.58815608e-01 9.03979400e-01\n",
      " 3.57612431e-01 5.56082036e-01 5.34978816e-01 8.36009273e-01\n",
      " 5.53550787e-01 3.31508862e-01 9.01508710e-01 8.53966365e-01\n",
      " 4.56718512e-01 3.27868896e-01 6.64938636e-01 4.70598589e-01\n",
      " 2.40773025e-01 2.58957284e-01 8.70128423e-02 2.00245996e-01\n",
      " 5.33480924e-01 7.78091827e-01 2.79110450e-01 3.35542692e-01\n",
      " 8.77193821e-01 6.19272995e-01 9.28098448e-01 2.42314313e-01\n",
      " 1.82466936e-01 6.34620171e-01 9.75351391e-02 6.93690498e-01\n",
      " 3.99999425e-01 9.60759437e-01 9.04863742e-02 1.43832564e-01\n",
      " 9.20138340e-01 8.72028372e-01 3.54368521e-01 4.24507601e-01\n",
      " 4.03856329e-02 6.87537408e-01 3.94036500e-01 7.43397011e-02\n",
      " 5.02180644e-01 4.95841444e-01 4.19749629e-02 1.97161623e-01\n",
      " 1.74765960e-01 4.50891344e-01 5.89946823e-01 7.95451212e-01\n",
      " 5.18507099e-01 5.92752224e-01 3.26577180e-01 9.94187554e-01\n",
      " 8.03776345e-01 2.94544116e-01 2.04466315e-02 9.34486879e-01\n",
      " 8.18949344e-01 2.60152375e-02 3.13369453e-01 8.03505208e-01\n",
      " 4.37917087e-01 7.42105669e-01 6.07875022e-02 5.35052920e-01\n",
      " 9.27475087e-01 8.52914909e-01 1.31435403e-01 2.61117862e-01\n",
      " 2.42890800e-01 5.42853541e-01 8.25436545e-01 5.09871099e-01\n",
      " 7.97646365e-01 3.50221838e-01 5.51181829e-02 5.84384790e-01\n",
      " 7.99506466e-01 8.25388929e-01 3.66900967e-01 5.00820392e-01\n",
      " 8.44718924e-01 7.71192644e-02 6.67475527e-02 1.99201951e-02\n",
      " 2.00680457e-01 4.02556924e-01 9.26103282e-01 2.41347032e-01\n",
      " 1.67903719e-01 9.17868491e-01 3.43844817e-01 8.91063201e-01\n",
      " 5.90843125e-01 7.79943674e-01 6.46149947e-01 2.19323705e-01\n",
      " 2.00703257e-01 2.62509254e-01 4.27861745e-01 5.76930548e-01\n",
      " 1.41556896e-02 6.99529150e-01 4.27294807e-01 4.18447504e-02\n",
      " 3.76800710e-02 6.16263568e-01 6.42922607e-01 1.90030988e-02\n",
      " 5.03184580e-01 9.50143468e-01 1.23092413e-01 8.14095050e-01\n",
      " 3.84846174e-01 3.02846361e-01 2.27759717e-01 7.49317092e-01\n",
      " 1.84518932e-01 2.64857431e-01 2.96014832e-03 1.46599658e-01\n",
      " 4.35702295e-01 3.83691817e-01 9.87133370e-01 3.30276305e-01\n",
      " 4.33754452e-01 8.50239697e-01 8.34463407e-01 5.87655803e-01\n",
      " 6.45802951e-01 9.12774247e-01 6.11805825e-02 7.60656892e-01\n",
      " 3.91873589e-01 4.37110626e-01 5.81117172e-01 9.21445815e-01\n",
      " 2.54101904e-01 9.07350176e-03 4.55968848e-01 9.72048677e-01\n",
      " 1.77009456e-01 7.45601500e-01 3.31222322e-01 8.12972211e-01\n",
      " 5.50075060e-01 1.45288653e-01 7.42363125e-01 7.66163373e-01\n",
      " 6.57042029e-01 5.88652521e-01 5.10234803e-01 1.61193829e-02\n",
      " 5.40026772e-01 9.49215002e-02 2.39856358e-01 7.60679018e-01\n",
      " 3.46548917e-01 4.46913888e-02 2.54281148e-01 1.74473990e-01\n",
      " 7.92667309e-01 9.83828545e-01 8.18404781e-01 6.19877269e-01\n",
      " 3.33774018e-01 6.20146764e-01 5.13435764e-01 2.04777474e-01\n",
      " 4.11900898e-02 7.79025404e-01 6.58405775e-01 9.44355701e-01\n",
      " 9.87533536e-01 2.68798585e-01 3.65691096e-01 6.71048554e-01\n",
      " 3.29380257e-01 4.58298851e-01 4.67273753e-01 8.08337009e-01\n",
      " 6.47996478e-01 2.94552237e-01 8.21316494e-01 6.34262367e-01\n",
      " 3.88101153e-01 5.16519077e-01 5.17319299e-01 5.42061479e-01\n",
      " 3.51429691e-01 8.75108717e-01 1.37218894e-01 3.96456797e-01\n",
      " 3.61940906e-01 1.09359956e-01 6.65003036e-01 9.10632800e-02\n",
      " 6.05977667e-01 9.16142417e-02 9.09716479e-01 8.76350021e-01\n",
      " 4.37526030e-01 7.16665303e-01 2.98296257e-01 3.91904053e-01\n",
      " 9.79501538e-01 2.20776172e-02 4.08968580e-01 8.55199729e-01\n",
      " 8.84251862e-01 4.58963471e-01 9.28876772e-01 4.40878547e-01\n",
      " 1.79865870e-03 2.13767281e-01 1.56037954e-01 4.50174023e-01\n",
      " 9.93323520e-01 7.45013990e-01 1.78035460e-01 4.21517014e-01\n",
      " 8.23930057e-01 8.21991351e-01 8.28022439e-01 4.97524527e-01\n",
      " 2.64622546e-01 2.66171393e-01 3.17128346e-01 7.46097708e-01\n",
      " 1.94328248e-01 9.85961187e-01 1.01782601e-01 7.94067079e-01\n",
      " 8.04840294e-01 5.25068152e-02 7.99584167e-02 7.46834659e-01\n",
      " 5.65892927e-01 7.88784969e-01 3.18350140e-01 6.22257687e-01\n",
      " 4.71058926e-01 6.12347247e-01 3.96628718e-01 6.65117163e-01\n",
      " 8.50767039e-01 8.63459143e-01 1.00921441e-01 8.05518406e-01\n",
      " 6.80588478e-01 6.28676175e-01 2.70319225e-01 7.05442709e-02\n",
      " 4.57550838e-01 2.96576252e-01 3.19693202e-01 7.44243823e-01\n",
      " 2.71159693e-01 4.33020174e-02 3.77712884e-01 3.06039487e-01\n",
      " 9.49052441e-01 5.01441849e-01 2.38763103e-01 2.26225578e-02\n",
      " 4.62538690e-01 7.62511338e-01 2.01129426e-01 8.90705527e-01\n",
      " 7.95334719e-01 3.03686729e-01 3.62127283e-01 3.15624421e-01\n",
      " 9.48792794e-01 7.46670378e-02 5.75391114e-02 4.07632913e-01\n",
      " 3.70237848e-01 7.33002534e-01 9.58624959e-01 5.54851703e-05\n",
      " 9.87514204e-01 8.88827270e-01 8.51258911e-01 4.96166636e-03\n",
      " 5.14027462e-01 5.01734917e-01 3.55619799e-01 4.23983675e-01\n",
      " 2.48986381e-01 3.07892347e-01 3.73368273e-01 9.57427127e-01\n",
      " 9.32636761e-01 2.27236718e-01 4.64061200e-01 6.14556832e-01\n",
      " 2.93244074e-02 3.32107319e-01 1.61714225e-01 9.15348301e-01\n",
      " 4.42935365e-01 6.73339661e-01 9.80884953e-01 6.57565974e-01\n",
      " 2.43329532e-01 1.29685045e-01 3.54280426e-01 9.74619711e-01\n",
      " 9.02098411e-01 2.51305728e-01 6.16351930e-01 3.04771692e-01\n",
      " 8.70753015e-01 1.26764097e-01 2.18491190e-01 7.37441358e-01\n",
      " 4.83033021e-01 1.04477842e-01 5.53620279e-01 8.75343531e-02\n",
      " 1.48356591e-01 3.90892465e-01 1.92276892e-01 2.21616620e-02\n",
      " 9.61638103e-01 7.93105512e-01 5.64567136e-01 2.85472054e-01\n",
      " 5.95367189e-01 7.04653808e-01 8.14075922e-01 3.20469553e-01\n",
      " 7.61032697e-02 2.09224386e-02 3.51958820e-01 5.52162987e-01\n",
      " 2.70802502e-01 4.78344495e-02 9.66243640e-01 1.18383397e-02\n",
      " 9.77353437e-01 9.85058157e-01 4.60942707e-01 8.16902403e-01\n",
      " 9.92551769e-01 9.93189818e-01 9.98469706e-01 4.57344198e-01\n",
      " 6.14617623e-01 3.60245984e-01 2.90610134e-01 5.46756255e-01\n",
      " 8.11766539e-01 1.42590244e-01 1.48784398e-01 7.51550012e-02\n",
      " 6.23774801e-01 5.37414442e-01 9.80692563e-01 9.73729282e-01\n",
      " 6.90509551e-01 7.57368167e-01 3.01843664e-01 9.31174239e-02\n",
      " 2.24146107e-01 5.96149393e-02 7.93548982e-01 7.60299297e-01\n",
      " 6.13844119e-01 6.31277066e-01 7.84516470e-01 3.26747814e-01\n",
      " 8.88850591e-01 2.25612629e-01 3.28674680e-01 3.57934292e-01\n",
      " 2.62284880e-01 9.57530610e-01 2.24705406e-01 9.94595999e-01\n",
      " 4.86257798e-01 7.50401009e-01 1.85225990e-01 9.87000186e-02\n",
      " 3.32220945e-01 5.92944350e-01 8.35685585e-01 8.65958410e-01\n",
      " 6.40505740e-01 1.74037266e-02 6.93286686e-02 2.93136341e-01\n",
      " 9.20108762e-01 4.69821820e-01 4.05051028e-01 3.31967160e-02\n",
      " 6.35017023e-01 8.69789131e-01 8.87787248e-01 6.58149372e-01\n",
      " 9.06113826e-01 8.58753797e-01 6.58814800e-01 7.41724012e-01\n",
      " 7.26811272e-01 4.66817861e-01 9.97190317e-01 2.25352636e-01\n",
      " 5.63215759e-01 5.54472809e-01 1.08949751e-01 3.95818786e-01\n",
      " 5.45785718e-01 5.14275693e-01 6.31073267e-01 2.23087330e-01\n",
      " 7.08304925e-01 7.68492587e-01 1.13012254e-01 8.23164724e-01\n",
      " 3.55724947e-01 6.78431768e-01 3.46094082e-01 7.86446475e-01\n",
      " 3.91091216e-02 8.19206483e-01 5.36318073e-01 5.64277234e-02\n",
      " 3.32725587e-01 1.20962942e-01 4.42524589e-01 7.69492373e-01\n",
      " 8.89625815e-01 3.75909178e-01 2.52137963e-01 7.28758024e-01\n",
      " 3.20198200e-01 8.24084721e-01 8.69826293e-01 4.20056554e-01\n",
      " 7.59003120e-01 3.35084452e-01 5.67913901e-01 6.58889165e-01\n",
      " 1.83546895e-01 3.16899034e-01 8.34778551e-01 3.49990733e-01\n",
      " 1.22186463e-01 5.24331899e-01 9.36593210e-01 5.23997498e-01\n",
      " 4.21383967e-01 4.51674262e-01 5.90902185e-01 9.15481744e-01\n",
      " 6.98224193e-02 3.72897558e-01 1.41455184e-01 7.35298554e-01\n",
      " 1.96689689e-02 5.80958841e-01 6.82397369e-01 3.80456797e-01\n",
      " 5.79298257e-02 3.69074085e-01 8.76839712e-01 9.79973393e-01\n",
      " 5.36522566e-01 8.98806194e-04 9.48497125e-02 6.09373120e-01\n",
      " 6.96226124e-01 6.45356372e-01 9.81195662e-01 4.73247942e-01\n",
      " 8.30428529e-01 2.92177159e-01 6.21113118e-01 7.09571346e-01\n",
      " 1.99843054e-01 5.36553321e-01 9.12924840e-01 9.33953969e-01\n",
      " 3.08151771e-01 4.84022605e-01 3.07184144e-01 4.91902730e-01\n",
      " 8.60211983e-01 1.57322008e-01 7.94084990e-01 4.73785890e-01\n",
      " 3.65094837e-01 6.97846798e-01 6.92179689e-01 9.33873266e-01\n",
      " 7.91373117e-01 9.29744140e-02 8.00349039e-01 8.25169993e-01\n",
      " 9.01773668e-01 5.66741477e-01 9.41813897e-01 7.49008363e-01\n",
      " 6.86791895e-01 6.24289994e-01 6.85994788e-01 5.60128241e-01\n",
      " 3.57744961e-02 2.11805226e-01 3.98190625e-02 7.38151072e-02\n",
      " 4.86455512e-01 7.54379013e-01 2.30962311e-01 5.01827149e-02\n",
      " 8.73216801e-01 9.68113569e-01 4.40451722e-01 6.97947682e-01\n",
      " 9.84057856e-01 1.22212160e-01 9.21701058e-01 8.47691056e-01\n",
      " 3.71730081e-02 8.82792991e-01 5.02502734e-01 2.47211997e-02\n",
      " 2.79965419e-02 5.79145541e-01 1.85750777e-01 1.74911228e-01\n",
      " 7.27565269e-02 4.73934002e-03 4.77227834e-01 2.90952115e-01\n",
      " 2.71300656e-02 4.99433453e-01 8.62548321e-01 2.04566083e-01\n",
      " 2.94131356e-01 4.71875252e-01 6.06967751e-02 1.65124353e-01\n",
      " 5.95688770e-01 8.08292388e-01 7.11729344e-01 3.98769625e-01\n",
      " 2.67956019e-01 2.35708852e-01 7.47578564e-01 8.31053927e-01\n",
      " 4.76126702e-01 6.57664489e-01 7.79947664e-01 5.91512309e-01\n",
      " 8.38560015e-01 3.90988725e-01 9.16288029e-01 3.06114012e-01\n",
      " 2.92802931e-01 6.90694758e-01 9.13511368e-01 3.65472156e-01\n",
      " 1.56482587e-01 7.87318950e-01 1.47563470e-01 7.34080774e-01\n",
      " 1.35138884e-01 7.15406855e-01 4.85913288e-01 6.50792102e-01\n",
      " 6.62067331e-01 2.41940882e-02 8.18553149e-01 7.70927398e-02\n",
      " 1.29952821e-01 1.09789782e-01 3.22984183e-01 7.24482606e-01\n",
      " 1.75476527e-02 7.89955222e-01 7.07209367e-01 5.54623476e-01\n",
      " 8.03328480e-01 1.56400389e-01 1.95890874e-01 9.05622767e-01\n",
      " 9.82200213e-01 7.64175838e-01 2.17434992e-01 8.07774208e-01\n",
      " 8.93364558e-01 4.04904014e-01 4.01739156e-01 4.68417581e-01\n",
      " 1.55285320e-01 6.97700289e-01 3.87862968e-01 2.12814108e-02\n",
      " 5.18758324e-01 5.81739742e-01 7.14246380e-02 4.68631074e-01\n",
      " 6.63353160e-01 4.57185156e-01 9.47706080e-01 2.85421211e-01\n",
      " 1.63582867e-01 3.57560741e-01 2.03630684e-01 2.60473435e-01\n",
      " 6.24406728e-02 5.31033950e-01 9.67564379e-01 4.48795863e-01\n",
      " 7.22357863e-01 1.84233078e-01 7.26395158e-01 6.34122967e-01\n",
      " 7.78248050e-01 1.95785989e-01 2.22711277e-01 6.03225293e-01\n",
      " 1.80854213e-01 9.14833113e-01 4.44934240e-01 2.75204813e-01\n",
      " 5.37097110e-01 2.95787672e-01 3.71763004e-01 5.92211613e-02\n",
      " 3.88697936e-01 5.84068533e-01 5.89290992e-01 2.96532579e-01\n",
      " 1.51978489e-01 5.17869342e-01 5.92313658e-01 8.25428862e-01\n",
      " 3.57353201e-01 6.96307549e-01 1.19446848e-01 1.72331053e-01\n",
      " 4.49691353e-01 3.07552111e-01 1.43297484e-02 6.87915276e-01\n",
      " 5.06877767e-01 3.52792188e-01 3.18040550e-02 4.19367208e-02\n",
      " 9.39060413e-01 4.77124350e-01 6.86068055e-01 2.07882464e-01\n",
      " 4.27497388e-01 5.98446685e-01 8.22503275e-01 7.05804182e-02\n",
      " 2.96841085e-01 3.41182438e-01 2.17135965e-01 6.45867693e-01\n",
      " 1.55956588e-01 1.56088217e-01 8.31717397e-01 6.71589092e-01\n",
      " 8.37663123e-01 4.87414231e-02 9.78622484e-01 6.29032080e-01\n",
      " 4.38562466e-01 3.72668146e-02 3.75323246e-01 8.34421772e-01\n",
      " 1.67605413e-01 2.95430360e-01 7.83794628e-01 2.43959429e-01\n",
      " 7.51708418e-01 2.47815621e-01 4.44828353e-01 4.11548187e-01\n",
      " 9.80674679e-01 9.42636515e-01 5.16140862e-01 7.68843946e-01\n",
      " 9.48982662e-01 2.61009751e-01 8.71967858e-01 8.21140509e-01\n",
      " 1.97286381e-02 6.91379288e-01 4.21791419e-01 3.38529477e-01\n",
      " 7.87286213e-01 7.25142302e-01 2.66743698e-01 7.88596046e-01\n",
      " 8.94517902e-01 1.75457327e-01 9.09371663e-01 1.48911314e-01\n",
      " 1.37509820e-01 6.52607446e-01 2.81646887e-01 2.35515768e-01\n",
      " 9.87952356e-01 5.49329772e-01 3.01846567e-01 5.57953696e-01\n",
      " 9.21654636e-01 4.19552360e-01 7.29848741e-01 2.53447163e-01\n",
      " 6.43812966e-01 3.15511457e-01 6.96489166e-01 3.37854273e-01\n",
      " 2.94549324e-02 1.50594584e-01 9.77857872e-01 5.40809902e-01\n",
      " 5.47536004e-01 7.53985412e-01 1.88845495e-01 1.16814425e-02\n",
      " 9.61779866e-01 2.26821101e-01 2.47973251e-01 6.45552201e-01\n",
      " 2.20255121e-01 6.93475769e-01 3.34331827e-01 8.49050910e-01\n",
      " 7.31587954e-02 3.11245455e-02 6.98614392e-01 3.80377602e-01\n",
      " 6.57027597e-02 7.26105415e-01 9.43660825e-01 4.17825221e-01\n",
      " 9.44948480e-01 4.94767834e-01 7.51096447e-01 8.37575261e-01\n",
      " 4.64829957e-01 6.85683181e-02 5.07159233e-01 3.51374999e-01\n",
      " 3.37950026e-01 9.01908842e-01 7.27268969e-01 8.25183871e-01\n",
      " 2.14315044e-02 3.66292562e-01 8.90338110e-01 6.30050249e-01\n",
      " 4.64179512e-01 1.00014869e-01 6.48821434e-01 3.16156424e-01\n",
      " 2.12767714e-01 1.84142910e-01 9.06332226e-01 3.42572431e-01\n",
      " 8.50946331e-01 7.34240768e-02 5.62876720e-01 8.52190177e-01\n",
      " 5.64801782e-01 6.23735379e-01 9.66575248e-01 5.62953349e-01\n",
      " 6.36370902e-02 3.18960420e-01 4.18501254e-01 2.63499579e-01\n",
      " 4.65968342e-01 6.36384063e-01 2.32764217e-02 2.79975372e-01\n",
      " 3.09441954e-01 5.09520276e-01 9.38019137e-01 4.65975813e-01\n",
      " 3.90600146e-01 9.62990581e-01 9.41496660e-01 2.63394652e-02\n",
      " 6.54058999e-01 7.38888750e-01 2.35803423e-01 7.05705733e-01\n",
      " 6.51596157e-01 9.15630596e-01 8.58221141e-01 2.47487389e-01\n",
      " 9.65856993e-01 6.80366186e-01 4.48685846e-01 8.02465676e-01]\n"
     ]
    }
   ],
   "source": [
    "A = np.random.rand(1000)\n",
    "print(A)"
   ]
  },
  {
   "cell_type": "markdown",
   "id": "422a7003",
   "metadata": {},
   "source": [
    "rand generates uniform distrubution"
   ]
  },
  {
   "cell_type": "code",
   "execution_count": null,
   "id": "9b20c78a",
   "metadata": {},
   "outputs": [
    {
     "data": {
      "text/plain": [
       "(array([110.,  86., 100., 113.,  97.,  96.,  97.,  93., 103., 105.]),\n",
       " array([5.54851703e-05, 9.99375900e-02, 1.99819695e-01, 2.99701800e-01,\n",
       "        3.99583905e-01, 4.99466010e-01, 5.99348114e-01, 6.99230219e-01,\n",
       "        7.99112324e-01, 8.98994429e-01, 9.98876534e-01]),\n",
       " <BarContainer object of 10 artists>)"
      ]
     },
     "execution_count": 31,
     "metadata": {},
     "output_type": "execute_result"
    },
    {
     "data": {
      "image/png": "[encoded data removed]",
      "text/plain": [
       "<Figure size 640x480 with 1 Axes>"
      ]
     },
     "metadata": {},
     "output_type": "display_data"
    }
   ],
   "source": [
    "import matplotlib.pyplot as plt\n",
    "plt.hist(A, bins=100)"
   ]
  },
  {
   "cell_type": "markdown",
   "id": "daa65aa9",
   "metadata": {},
   "source": [
    "With **randn** the distrubution is "
   ]
  },
  {
   "cell_type": "markdown",
   "id": "2317d4c8",
   "metadata": {},
   "source": [
    "### Reshape"
   ]
  },
  {
   "cell_type": "code",
   "execution_count": null,
   "id": "c3a5a9f3",
   "metadata": {},
   "outputs": [],
   "source": []
  },
  {
   "cell_type": "code",
   "execution_count": null,
   "id": "6bd72b72",
   "metadata": {},
   "outputs": [],
   "source": []
  }
 ],
 "metadata": {
  "kernelspec": {
   "display_name": ".venv",
   "language": "python",
   "name": "python3"
  },
  "language_info": {
   "codemirror_mode": {
    "name": "ipython",
    "version": 3
   },
   "file_extension": ".py",
   "mimetype": "text/x-python",
   "name": "python",
   "nbconvert_exporter": "python",
   "pygments_lexer": "ipython3",
   "version": "3.13.2"
  }
 },
 "nbformat": 4,
 "nbformat_minor": 5
}
