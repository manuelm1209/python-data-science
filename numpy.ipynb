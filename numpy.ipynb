{
 "cells": [
  {
   "cell_type": "markdown",
   "id": "6bfea9dc",
   "metadata": {},
   "source": [
    "# NumPy Tutorial"
   ]
  },
  {
   "cell_type": "code",
   "execution_count": 31,
   "id": "b75cbf47",
   "metadata": {},
   "outputs": [
    {
     "name": "stdout",
     "output_type": "stream",
     "text": [
      "a: [1 2 3]\n",
      "b: [4 5 6]\n"
     ]
    }
   ],
   "source": [
    "import numpy as np\n",
    "a = np.array([1, 2, 3])\n",
    "b = np.array([4, 5, 6])\n",
    "print(f\"a: {a}\")\n",
    "print(f\"b: {b}\")"
   ]
  },
  {
   "cell_type": "markdown",
   "id": "3a416cf1",
   "metadata": {},
   "source": [
    "NumPy type"
   ]
  },
  {
   "cell_type": "code",
   "execution_count": 32,
   "id": "5a6a86fd",
   "metadata": {},
   "outputs": [
    {
     "data": {
      "text/plain": [
       "numpy.ndarray"
      ]
     },
     "execution_count": 32,
     "metadata": {},
     "output_type": "execute_result"
    }
   ],
   "source": [
    "type(a)"
   ]
  },
  {
   "cell_type": "markdown",
   "id": "9444e4bd",
   "metadata": {},
   "source": [
    "Define as int or float for example"
   ]
  },
  {
   "cell_type": "code",
   "execution_count": 33,
   "id": "0a981a00",
   "metadata": {},
   "outputs": [
    {
     "data": {
      "text/plain": [
       "dtype('float32')"
      ]
     },
     "execution_count": 33,
     "metadata": {},
     "output_type": "execute_result"
    }
   ],
   "source": [
    "a = np.array([1, 2, 3],dtype='f')\n",
    "a.dtype"
   ]
  },
  {
   "cell_type": "markdown",
   "id": "4be46dce",
   "metadata": {},
   "source": [
    "### Dimensions (ndim)"
   ]
  },
  {
   "cell_type": "markdown",
   "id": "514ce2e0",
   "metadata": {},
   "source": [
    "2 Dimensions"
   ]
  },
  {
   "cell_type": "code",
   "execution_count": 34,
   "id": "8ffe8e73",
   "metadata": {},
   "outputs": [
    {
     "name": "stdout",
     "output_type": "stream",
     "text": [
      "a ndim: 2\n"
     ]
    }
   ],
   "source": [
    "a = np.array([[1, 2, 3], [4, 5, 6]])\n",
    "print(f\"a ndim: {a.ndim}\")"
   ]
  },
  {
   "cell_type": "code",
   "execution_count": 35,
   "id": "50e2e134",
   "metadata": {},
   "outputs": [
    {
     "name": "stdout",
     "output_type": "stream",
     "text": [
      "4\n",
      "4\n"
     ]
    }
   ],
   "source": [
    "print(a[1][0])\n",
    "print(a[1, 0])"
   ]
  },
  {
   "cell_type": "markdown",
   "id": "388db2a4",
   "metadata": {},
   "source": [
    "3 Dimensions"
   ]
  },
  {
   "cell_type": "code",
   "execution_count": 36,
   "id": "c1a02f66",
   "metadata": {},
   "outputs": [
    {
     "name": "stdout",
     "output_type": "stream",
     "text": [
      "b ndim: 3\n"
     ]
    }
   ],
   "source": [
    "b = np.array([[[1, 2, 3], [4, 5, 6]], [[1, 2, 3], [4, 5, 6]], [[1, 2, 3], [4, 5, 6]]])\n",
    "print(f\"b ndim: {b.ndim}\")"
   ]
  },
  {
   "cell_type": "code",
   "execution_count": 37,
   "id": "5ce70a15",
   "metadata": {},
   "outputs": [
    {
     "name": "stdout",
     "output_type": "stream",
     "text": [
      "6\n",
      "6\n"
     ]
    }
   ],
   "source": [
    "print(b[1][1][2])\n",
    "print(b[1,1,2])"
   ]
  },
  {
   "cell_type": "markdown",
   "id": "a7e6ffa7",
   "metadata": {},
   "source": [
    "## Shape"
   ]
  },
  {
   "cell_type": "markdown",
   "id": "c0a4e3b3",
   "metadata": {},
   "source": [
    "It shows the element in each level"
   ]
  },
  {
   "cell_type": "code",
   "execution_count": 38,
   "id": "5ae4f97f",
   "metadata": {},
   "outputs": [
    {
     "data": {
      "text/plain": [
       "(3, 2, 3)"
      ]
     },
     "execution_count": 38,
     "metadata": {},
     "output_type": "execute_result"
    }
   ],
   "source": [
    "c = np.array([[[1, 2, 3], [4, 5, 6]], [[1, 2, 3], [4, 5, 6]], [[1, 2, 3], [4, 5, 6]]])\n",
    "c.shape"
   ]
  },
  {
   "cell_type": "markdown",
   "id": "cf3a5698",
   "metadata": {},
   "source": [
    "You can also go by level:"
   ]
  },
  {
   "cell_type": "code",
   "execution_count": 39,
   "id": "5abb6503",
   "metadata": {},
   "outputs": [
    {
     "name": "stdout",
     "output_type": "stream",
     "text": [
      "3\n",
      "2\n",
      "3\n"
     ]
    }
   ],
   "source": [
    "print(c.shape[0])\n",
    "print(c.shape[1])\n",
    "print(c.shape[2])"
   ]
  },
  {
   "cell_type": "markdown",
   "id": "3a12ee4c",
   "metadata": {},
   "source": [
    "### Show total of elements"
   ]
  },
  {
   "cell_type": "code",
   "execution_count": 40,
   "id": "94da0a89",
   "metadata": {},
   "outputs": [
    {
     "data": {
      "text/plain": [
       "18"
      ]
     },
     "execution_count": 40,
     "metadata": {},
     "output_type": "execute_result"
    }
   ],
   "source": [
    "c.size"
   ]
  },
  {
   "cell_type": "markdown",
   "id": "e0833693",
   "metadata": {},
   "source": [
    "### Create an array (arange())"
   ]
  },
  {
   "cell_type": "code",
   "execution_count": 41,
   "id": "812e7742",
   "metadata": {},
   "outputs": [
    {
     "name": "stdout",
     "output_type": "stream",
     "text": [
      "[ 0  1  2  3  4  5  6  7  8  9 10 11 12 13 14 15 16 17 18 19 20 21 22 23\n",
      " 24 25 26 27 28 29 30 31 32 33 34 35 36 37 38 39 40 41 42 43 44 45 46 47\n",
      " 48 49 50 51 52 53 54 55 56 57 58 59 60 61 62 63 64 65 66 67 68 69 70 71\n",
      " 72 73 74 75 76 77 78 79 80 81 82 83 84 85 86 87 88 89 90 91 92 93 94 95\n",
      " 96 97 98 99]\n"
     ]
    }
   ],
   "source": [
    "A = np.arange(100)\n",
    "print(A)"
   ]
  },
  {
   "cell_type": "markdown",
   "id": "c2eead04",
   "metadata": {},
   "source": [
    "Start from 20"
   ]
  },
  {
   "cell_type": "code",
   "execution_count": 63,
   "id": "fb90a4a3",
   "metadata": {},
   "outputs": [
    {
     "name": "stdout",
     "output_type": "stream",
     "text": [
      "[20 21 22 23 24 25 26 27 28 29 30 31 32 33 34 35 36 37 38 39 40 41 42 43\n",
      " 44 45 46 47 48 49 50 51 52 53 54 55 56 57 58 59 60 61 62 63 64 65 66 67\n",
      " 68 69 70 71 72 73 74 75 76 77 78 79 80 81 82 83 84 85 86 87 88 89 90 91\n",
      " 92 93 94 95 96 97 98 99]\n"
     ]
    }
   ],
   "source": [
    "A = np.arange(20,100)\n",
    "print(A)"
   ]
  },
  {
   "cell_type": "markdown",
   "id": "facc0873",
   "metadata": {},
   "source": [
    "### np.random.permutation"
   ]
  },
  {
   "cell_type": "markdown",
   "id": "35ac9cf5",
   "metadata": {},
   "source": [
    "Randoms the values you pass"
   ]
  },
  {
   "cell_type": "code",
   "execution_count": 43,
   "id": "44458f3b",
   "metadata": {},
   "outputs": [
    {
     "name": "stdout",
     "output_type": "stream",
     "text": [
      "[4 8 1 7 6 5 9 3 2 0]\n"
     ]
    }
   ],
   "source": [
    "A = np.random.permutation(np.arange(10))\n",
    "print(A)"
   ]
  },
  {
   "cell_type": "markdown",
   "id": "af17665c",
   "metadata": {},
   "source": [
    "Generate random integer"
   ]
  },
  {
   "cell_type": "code",
   "execution_count": 44,
   "id": "0df5783e",
   "metadata": {},
   "outputs": [
    {
     "name": "stdout",
     "output_type": "stream",
     "text": [
      "67\n"
     ]
    }
   ],
   "source": [
    "v = np.random.randint(20, 100)\n",
    "print(v)"
   ]
  },
  {
   "cell_type": "code",
   "execution_count": 45,
   "id": "aad8b086",
   "metadata": {},
   "outputs": [
    {
     "name": "stdout",
     "output_type": "stream",
     "text": [
      "[0.10074922 0.60899073 0.77715311 ... 0.4620954  0.94953882 0.40438109]\n"
     ]
    }
   ],
   "source": [
    "A = np.random.rand(10000)\n",
    "print(A)"
   ]
  },
  {
   "cell_type": "markdown",
   "id": "422a7003",
   "metadata": {},
   "source": [
    "rand generates uniform distrubution"
   ]
  },
  {
   "cell_type": "code",
   "execution_count": 46,
   "id": "9b20c78a",
   "metadata": {},
   "outputs": [
    {
     "data": {
      "text/plain": [
       "(array([103.,  88.,  90., 115., 101.,  95.,  90.,  90., 103.,  98.,  91.,\n",
       "        110.,  97.,  92., 106.,  99., 109.,  92.,  87., 103.,  83., 117.,\n",
       "        104., 110.,  94.,  99.,  96.,  92., 104.,  97.,  98., 100.,  98.,\n",
       "        110., 115., 104.,  89.,  92., 115., 122.,  96., 101., 102., 111.,\n",
       "        100.,  98.,  93., 115., 102., 105.,  91.,  92.,  96.,  84.,  98.,\n",
       "         90., 106.,  98., 110., 101., 121., 110., 107.,  91., 106., 110.,\n",
       "         96., 111.,  86., 102., 103.,  65., 100., 107.,  88.,  94., 105.,\n",
       "        109.,  95., 109., 108.,  93., 100.,  79.,  98.,  96., 109.,  97.,\n",
       "         88.,  96., 107., 108., 100., 114.,  90., 105., 103., 111., 104.,\n",
       "         92.]),\n",
       " array([8.58911546e-05, 1.00845347e-02, 2.00831783e-02, 3.00818219e-02,\n",
       "        4.00804654e-02, 5.00791090e-02, 6.00777526e-02, 7.00763962e-02,\n",
       "        8.00750397e-02, 9.00736833e-02, 1.00072327e-01, 1.10070970e-01,\n",
       "        1.20069614e-01, 1.30068258e-01, 1.40066901e-01, 1.50065545e-01,\n",
       "        1.60064188e-01, 1.70062832e-01, 1.80061475e-01, 1.90060119e-01,\n",
       "        2.00058763e-01, 2.10057406e-01, 2.20056050e-01, 2.30054693e-01,\n",
       "        2.40053337e-01, 2.50051980e-01, 2.60050624e-01, 2.70049268e-01,\n",
       "        2.80047911e-01, 2.90046555e-01, 3.00045198e-01, 3.10043842e-01,\n",
       "        3.20042485e-01, 3.30041129e-01, 3.40039773e-01, 3.50038416e-01,\n",
       "        3.60037060e-01, 3.70035703e-01, 3.80034347e-01, 3.90032990e-01,\n",
       "        4.00031634e-01, 4.10030278e-01, 4.20028921e-01, 4.30027565e-01,\n",
       "        4.40026208e-01, 4.50024852e-01, 4.60023495e-01, 4.70022139e-01,\n",
       "        4.80020783e-01, 4.90019426e-01, 5.00018070e-01, 5.10016713e-01,\n",
       "        5.20015357e-01, 5.30014000e-01, 5.40012644e-01, 5.50011288e-01,\n",
       "        5.60009931e-01, 5.70008575e-01, 5.80007218e-01, 5.90005862e-01,\n",
       "        6.00004505e-01, 6.10003149e-01, 6.20001793e-01, 6.30000436e-01,\n",
       "        6.39999080e-01, 6.49997723e-01, 6.59996367e-01, 6.69995010e-01,\n",
       "        6.79993654e-01, 6.89992298e-01, 6.99990941e-01, 7.09989585e-01,\n",
       "        7.19988228e-01, 7.29986872e-01, 7.39985515e-01, 7.49984159e-01,\n",
       "        7.59982803e-01, 7.69981446e-01, 7.79980090e-01, 7.89978733e-01,\n",
       "        7.99977377e-01, 8.09976020e-01, 8.19974664e-01, 8.29973308e-01,\n",
       "        8.39971951e-01, 8.49970595e-01, 8.59969238e-01, 8.69967882e-01,\n",
       "        8.79966525e-01, 8.89965169e-01, 8.99963813e-01, 9.09962456e-01,\n",
       "        9.19961100e-01, 9.29959743e-01, 9.39958387e-01, 9.49957030e-01,\n",
       "        9.59955674e-01, 9.69954318e-01, 9.79952961e-01, 9.89951605e-01,\n",
       "        9.99950248e-01]),\n",
       " <BarContainer object of 100 artists>)"
      ]
     },
     "execution_count": 46,
     "metadata": {},
     "output_type": "execute_result"
    },
    {
     "data": {
      "image/png": "[encoded data removed]",
      "text/plain": [
       "<Figure size 640x480 with 1 Axes>"
      ]
     },
     "metadata": {},
     "output_type": "display_data"
    }
   ],
   "source": [
    "import matplotlib.pyplot as plt\n",
    "plt.hist(A, bins=100)"
   ]
  },
  {
   "cell_type": "markdown",
   "id": "daa65aa9",
   "metadata": {},
   "source": [
    "With **randn** the distrubution is gauss"
   ]
  },
  {
   "cell_type": "code",
   "execution_count": 47,
   "id": "eabb94b3",
   "metadata": {},
   "outputs": [
    {
     "data": {
      "text/plain": [
       "(array([2.000e+00, 1.000e+00, 2.000e+00, 0.000e+00, 2.000e+00, 2.000e+00,\n",
       "        1.000e+00, 3.000e+00, 4.000e+00, 9.000e+00, 1.200e+01, 2.100e+01,\n",
       "        2.400e+01, 3.300e+01, 3.700e+01, 4.400e+01, 5.500e+01, 8.300e+01,\n",
       "        1.150e+02, 1.440e+02, 1.580e+02, 2.130e+02, 2.860e+02, 3.900e+02,\n",
       "        4.070e+02, 5.570e+02, 5.710e+02, 7.310e+02, 8.760e+02, 1.067e+03,\n",
       "        1.151e+03, 1.313e+03, 1.517e+03, 1.650e+03, 1.914e+03, 2.123e+03,\n",
       "        2.302e+03, 2.528e+03, 2.805e+03, 3.108e+03, 3.094e+03, 3.383e+03,\n",
       "        3.411e+03, 3.702e+03, 3.716e+03, 3.722e+03, 3.721e+03, 3.671e+03,\n",
       "        3.577e+03, 3.624e+03, 3.465e+03, 3.358e+03, 3.252e+03, 3.086e+03,\n",
       "        2.879e+03, 2.708e+03, 2.419e+03, 2.273e+03, 2.007e+03, 1.876e+03,\n",
       "        1.644e+03, 1.469e+03, 1.235e+03, 1.094e+03, 9.950e+02, 8.080e+02,\n",
       "        6.830e+02, 5.380e+02, 4.720e+02, 4.020e+02, 2.980e+02, 2.610e+02,\n",
       "        2.050e+02, 1.600e+02, 1.280e+02, 9.800e+01, 7.300e+01, 6.000e+01,\n",
       "        4.300e+01, 4.100e+01, 3.000e+01, 9.000e+00, 1.900e+01, 9.000e+00,\n",
       "        6.000e+00, 3.000e+00, 3.000e+00, 1.000e+00, 2.000e+00, 0.000e+00,\n",
       "        2.000e+00, 3.000e+00, 0.000e+00, 0.000e+00, 0.000e+00, 0.000e+00,\n",
       "        0.000e+00, 0.000e+00, 0.000e+00, 1.000e+00]),\n",
       " array([-4.39081305, -4.29688323, -4.20295341, -4.10902359, -4.01509377,\n",
       "        -3.92116395, -3.82723413, -3.73330431, -3.63937449, -3.54544467,\n",
       "        -3.45151485, -3.35758503, -3.26365521, -3.16972539, -3.07579557,\n",
       "        -2.98186575, -2.88793593, -2.79400611, -2.70007629, -2.60614647,\n",
       "        -2.51221665, -2.41828683, -2.32435701, -2.23042719, -2.13649737,\n",
       "        -2.04256755, -1.94863773, -1.85470792, -1.7607781 , -1.66684828,\n",
       "        -1.57291846, -1.47898864, -1.38505882, -1.291129  , -1.19719918,\n",
       "        -1.10326936, -1.00933954, -0.91540972, -0.8214799 , -0.72755008,\n",
       "        -0.63362026, -0.53969044, -0.44576062, -0.3518308 , -0.25790098,\n",
       "        -0.16397116, -0.07004134,  0.02388848,  0.1178183 ,  0.21174812,\n",
       "         0.30567794,  0.39960776,  0.49353758,  0.5874674 ,  0.68139722,\n",
       "         0.77532704,  0.86925686,  0.96318668,  1.0571165 ,  1.15104632,\n",
       "         1.24497614,  1.33890596,  1.43283578,  1.5267656 ,  1.62069542,\n",
       "         1.71462524,  1.80855506,  1.90248488,  1.9964147 ,  2.09034452,\n",
       "         2.18427434,  2.27820416,  2.37213398,  2.4660638 ,  2.55999362,\n",
       "         2.65392344,  2.74785325,  2.84178307,  2.93571289,  3.02964271,\n",
       "         3.12357253,  3.21750235,  3.31143217,  3.40536199,  3.49929181,\n",
       "         3.59322163,  3.68715145,  3.78108127,  3.87501109,  3.96894091,\n",
       "         4.06287073,  4.15680055,  4.25073037,  4.34466019,  4.43859001,\n",
       "         4.53251983,  4.62644965,  4.72037947,  4.81430929,  4.90823911,\n",
       "         5.00216893]),\n",
       " <BarContainer object of 100 artists>)"
      ]
     },
     "execution_count": 47,
     "metadata": {},
     "output_type": "execute_result"
    },
    {
     "data": {
      "image/png": "[encoded data removed]",
      "text/plain": [
       "<Figure size 640x480 with 1 Axes>"
      ]
     },
     "metadata": {},
     "output_type": "display_data"
    }
   ],
   "source": [
    "B = np.random.randn(100000)\n",
    "plt.hist(B, bins=100)"
   ]
  },
  {
   "cell_type": "markdown",
   "id": "792ce08d",
   "metadata": {},
   "source": [
    "Create a 2 dimentional array of random numbers"
   ]
  },
  {
   "cell_type": "code",
   "execution_count": 48,
   "id": "c35436c0",
   "metadata": {},
   "outputs": [
    {
     "name": "stdout",
     "output_type": "stream",
     "text": [
      "[[0.05175675 0.43015332 0.51506836]\n",
      " [0.5985425  0.38021401 0.36971081]]\n"
     ]
    }
   ],
   "source": [
    "C =  np.random.rand(2,3)\n",
    "print(C)"
   ]
  },
  {
   "cell_type": "markdown",
   "id": "2cc107ab",
   "metadata": {},
   "source": [
    "Adding more dimentions"
   ]
  },
  {
   "cell_type": "code",
   "execution_count": 49,
   "id": "168563e2",
   "metadata": {},
   "outputs": [
    {
     "data": {
      "text/plain": [
       "4"
      ]
     },
     "execution_count": 49,
     "metadata": {},
     "output_type": "execute_result"
    }
   ],
   "source": [
    "D = np.random.randn(2,3,2,4)\n",
    "D.ndim"
   ]
  },
  {
   "cell_type": "code",
   "execution_count": 50,
   "id": "3b5cca54",
   "metadata": {},
   "outputs": [
    {
     "name": "stdout",
     "output_type": "stream",
     "text": [
      "[[[[ 0.35170341  0.41097965  0.24601335 -0.5812095 ]\n",
      "   [-0.4482474  -1.43718216  1.53367716  0.67071187]]\n",
      "\n",
      "  [[ 1.42785149 -1.09592042  0.63788999 -0.16778774]\n",
      "   [ 0.24424552  2.33024872 -0.6545273  -1.0598129 ]]\n",
      "\n",
      "  [[ 0.68071279  0.47271356  0.13025385  1.18211908]\n",
      "   [ 1.85649985 -0.39132095  0.91162736 -0.42883098]]]\n",
      "\n",
      "\n",
      " [[[ 0.03963141  1.49533821 -1.96820644  1.15835543]\n",
      "   [-1.01592748 -1.1835713  -0.56641787  0.11550276]]\n",
      "\n",
      "  [[ 0.25129873  0.10080278 -0.29907314  1.32549089]\n",
      "   [ 0.15832621  0.22115076  1.17813633  0.51504607]]\n",
      "\n",
      "  [[ 0.31549177  0.40861894 -0.361146   -0.18480943]\n",
      "   [-0.94103112  0.24325611  0.99732954 -1.34935553]]]]\n"
     ]
    }
   ],
   "source": [
    "print(D)"
   ]
  },
  {
   "cell_type": "markdown",
   "id": "2317d4c8",
   "metadata": {},
   "source": [
    "### Reshape"
   ]
  },
  {
   "cell_type": "markdown",
   "id": "8442efd1",
   "metadata": {},
   "source": [
    "Reshapes the structure of values"
   ]
  },
  {
   "cell_type": "code",
   "execution_count": 51,
   "id": "b36aa020",
   "metadata": {},
   "outputs": [
    {
     "name": "stdout",
     "output_type": "stream",
     "text": [
      "[ 0  1  2  3  4  5  6  7  8  9 10 11 12 13 14 15 16 17 18 19 20 21 22 23\n",
      " 24 25 26 27 28 29 30 31 32 33 34 35 36 37 38 39 40 41 42 43 44 45 46 47\n",
      " 48 49 50 51 52 53 54 55 56 57 58 59 60 61 62 63 64 65 66 67 68 69 70 71\n",
      " 72 73 74 75 76 77 78 79 80 81 82 83 84 85 86 87 88 89 90 91 92 93 94 95\n",
      " 96 97 98 99]\n"
     ]
    }
   ],
   "source": [
    "E = np.arange(100)\n",
    "print(E)"
   ]
  },
  {
   "cell_type": "code",
   "execution_count": 52,
   "id": "c3a5a9f3",
   "metadata": {},
   "outputs": [
    {
     "name": "stdout",
     "output_type": "stream",
     "text": [
      "[[ 0  1  2  3  4  5  6  7  8  9]\n",
      " [10 11 12 13 14 15 16 17 18 19]\n",
      " [20 21 22 23 24 25 26 27 28 29]\n",
      " [30 31 32 33 34 35 36 37 38 39]\n",
      " [40 41 42 43 44 45 46 47 48 49]\n",
      " [50 51 52 53 54 55 56 57 58 59]\n",
      " [60 61 62 63 64 65 66 67 68 69]\n",
      " [70 71 72 73 74 75 76 77 78 79]\n",
      " [80 81 82 83 84 85 86 87 88 89]\n",
      " [90 91 92 93 94 95 96 97 98 99]]\n"
     ]
    }
   ],
   "source": [
    "E = E.reshape(10,10)\n",
    "print(E)"
   ]
  },
  {
   "cell_type": "code",
   "execution_count": 53,
   "id": "6bd72b72",
   "metadata": {},
   "outputs": [
    {
     "data": {
      "text/plain": [
       "2"
      ]
     },
     "execution_count": 53,
     "metadata": {},
     "output_type": "execute_result"
    }
   ],
   "source": [
    "E.ndim"
   ]
  },
  {
   "cell_type": "code",
   "execution_count": 54,
   "id": "2d5ca832",
   "metadata": {},
   "outputs": [
    {
     "data": {
      "text/plain": [
       "(10, 10)"
      ]
     },
     "execution_count": 54,
     "metadata": {},
     "output_type": "execute_result"
    }
   ],
   "source": [
    "E.shape"
   ]
  },
  {
   "cell_type": "code",
   "execution_count": 55,
   "id": "c8814662",
   "metadata": {},
   "outputs": [
    {
     "name": "stdout",
     "output_type": "stream",
     "text": [
      "(10, 5, 2)\n"
     ]
    }
   ],
   "source": [
    "E = E.reshape(10,5,2)\n",
    "print(E.shape)"
   ]
  },
  {
   "cell_type": "markdown",
   "id": "a75e6690",
   "metadata": {},
   "source": [
    "## Slicing"
   ]
  },
  {
   "cell_type": "markdown",
   "id": "ca3bd4d7",
   "metadata": {},
   "source": [
    "A[start:end:step]\n",
    "- a[1:5] # index 1 till 5 but not 5\n",
    "- a[:5] # index 0 till 5 but not 5\n",
    "- a[:5] # index 0 till 5 but not 5\n",
    "- a[2:] # index 2 till end including last element\n",
    "- a[::-1] # from end till start (reverse the array) a[::2] # from start till end every other element\n",
    "- a[::2,:] ?"
   ]
  },
  {
   "cell_type": "code",
   "execution_count": 56,
   "id": "200d8e75",
   "metadata": {},
   "outputs": [
    {
     "name": "stdout",
     "output_type": "stream",
     "text": [
      "[3 4 5 6 7 8 9]\n"
     ]
    }
   ],
   "source": [
    "F = np.arange(100)\n",
    "b = F[3:10]\n",
    "print(b)"
   ]
  },
  {
   "cell_type": "markdown",
   "id": "149a70d8",
   "metadata": {},
   "source": [
    "When you change a value in the sliced array, it will be changed in the original array."
   ]
  },
  {
   "cell_type": "code",
   "execution_count": 57,
   "id": "df9170aa",
   "metadata": {},
   "outputs": [
    {
     "name": "stdout",
     "output_type": "stream",
     "text": [
      "b: [-1000     4     5     6     7     8     9]\n",
      "\n",
      "F: [    0     1     2 -1000     4     5     6     7     8     9    10    11\n",
      "    12    13    14    15    16    17    18    19    20    21    22    23\n",
      "    24    25    26    27    28    29    30    31    32    33    34    35\n",
      "    36    37    38    39    40    41    42    43    44    45    46    47\n",
      "    48    49    50    51    52    53    54    55    56    57    58    59\n",
      "    60    61    62    63    64    65    66    67    68    69    70    71\n",
      "    72    73    74    75    76    77    78    79    80    81    82    83\n",
      "    84    85    86    87    88    89    90    91    92    93    94    95\n",
      "    96    97    98    99]\n"
     ]
    }
   ],
   "source": [
    "b[0] = -1000\n",
    "print(f\"b: {b}\\n\")\n",
    "print(f\"F: {F}\")"
   ]
  },
  {
   "cell_type": "markdown",
   "id": "8b302ad3",
   "metadata": {},
   "source": [
    "If we don't want this to happen, we can use the copy function to copy the sliced array."
   ]
  },
  {
   "cell_type": "code",
   "execution_count": 58,
   "id": "3793a798",
   "metadata": {},
   "outputs": [
    {
     "name": "stdout",
     "output_type": "stream",
     "text": [
      "c: [-1000     4     5 -2000     7     8     9]\n",
      "\n",
      "F: [    0     1     2 -1000     4     5     6     7     8     9    10    11\n",
      "    12    13    14    15    16    17    18    19    20    21    22    23\n",
      "    24    25    26    27    28    29    30    31    32    33    34    35\n",
      "    36    37    38    39    40    41    42    43    44    45    46    47\n",
      "    48    49    50    51    52    53    54    55    56    57    58    59\n",
      "    60    61    62    63    64    65    66    67    68    69    70    71\n",
      "    72    73    74    75    76    77    78    79    80    81    82    83\n",
      "    84    85    86    87    88    89    90    91    92    93    94    95\n",
      "    96    97    98    99]\n"
     ]
    }
   ],
   "source": [
    "c = F[3:10].copy()\n",
    "c[3] = -2000\n",
    "print(f\"c: {c}\\n\")\n",
    "print(f\"F: {F}\")"
   ]
  },
  {
   "cell_type": "markdown",
   "id": "41bf7ecf",
   "metadata": {},
   "source": [
    "Reverse the array"
   ]
  },
  {
   "cell_type": "code",
   "execution_count": 59,
   "id": "2f6137f8",
   "metadata": {},
   "outputs": [
    {
     "data": {
      "text/plain": [
       "array([   99,    98,    97,    96,    95,    94,    93,    92,    91,\n",
       "          90,    89,    88,    87,    86,    85,    84,    83,    82,\n",
       "          81,    80,    79,    78,    77,    76,    75,    74,    73,\n",
       "          72,    71,    70,    69,    68,    67,    66,    65,    64,\n",
       "          63,    62,    61,    60,    59,    58,    57,    56,    55,\n",
       "          54,    53,    52,    51,    50,    49,    48,    47,    46,\n",
       "          45,    44,    43,    42,    41,    40,    39,    38,    37,\n",
       "          36,    35,    34,    33,    32,    31,    30,    29,    28,\n",
       "          27,    26,    25,    24,    23,    22,    21,    20,    19,\n",
       "          18,    17,    16,    15,    14,    13,    12,    11,    10,\n",
       "           9,     8,     7,     6,     5,     4, -1000,     2,     1,\n",
       "           0])"
      ]
     },
     "execution_count": 59,
     "metadata": {},
     "output_type": "execute_result"
    }
   ],
   "source": [
    "F[::-1]"
   ]
  },
  {
   "cell_type": "code",
   "execution_count": 60,
   "id": "9bf879b4",
   "metadata": {},
   "outputs": [
    {
     "data": {
      "text/plain": [
       "array([99, 94, 89, 84, 79, 74, 69, 64, 59, 54, 49, 44, 39, 34, 29, 24, 19,\n",
       "       14,  9,  4])"
      ]
     },
     "execution_count": 60,
     "metadata": {},
     "output_type": "execute_result"
    }
   ],
   "source": [
    "F[::-5]"
   ]
  },
  {
   "cell_type": "code",
   "execution_count": 64,
   "id": "c9172940",
   "metadata": {},
   "outputs": [
    {
     "data": {
      "text/plain": [
       "array([ 0,  1,  2,  3,  4,  5,  6,  7,  8,  9, 10, 11, 12, 13, 14, 15, 16,\n",
       "       17, 18, 19, 20, 21, 22, 23, 24, 25, 26, 27, 28, 29, 30, 31, 32, 33,\n",
       "       34, 35, 36, 37, 38, 39, 40, 41, 42, 43, 44, 45, 46, 47, 48, 49, 50,\n",
       "       51, 52, 53, 54, 55, 56, 57, 58, 59, 60, 61, 62, 63, 64, 65, 66, 67,\n",
       "       68, 69, 70, 71, 72, 73, 74, 75, 76, 77, 78, 79, 80, 81, 82, 83, 84,\n",
       "       85, 86, 87, 88, 89, 90, 91, 92, 93, 94, 95, 96, 97, 98, 99])"
      ]
     },
     "execution_count": 64,
     "metadata": {},
     "output_type": "execute_result"
    }
   ],
   "source": [
    "A = np.arange(100)\n",
    "A"
   ]
  },
  {
   "cell_type": "code",
   "execution_count": 67,
   "id": "8799415e",
   "metadata": {},
   "outputs": [
    {
     "data": {
      "text/plain": [
       "array([3, 4, 5])"
      ]
     },
     "execution_count": 67,
     "metadata": {},
     "output_type": "execute_result"
    }
   ],
   "source": [
    "B = A[[3,4,5]]\n",
    "B"
   ]
  },
  {
   "cell_type": "markdown",
   "id": "de45a951",
   "metadata": {},
   "source": [
    "Modify the new array"
   ]
  },
  {
   "cell_type": "code",
   "execution_count": 68,
   "id": "57789549",
   "metadata": {},
   "outputs": [
    {
     "data": {
      "text/plain": [
       "array([-1000,     4,     5])"
      ]
     },
     "execution_count": 68,
     "metadata": {},
     "output_type": "execute_result"
    }
   ],
   "source": [
    "B[0] = -1000\n",
    "B"
   ]
  },
  {
   "cell_type": "code",
   "execution_count": 72,
   "id": "21182d0f",
   "metadata": {},
   "outputs": [
    {
     "data": {
      "text/plain": [
       "array([ 0,  1,  2,  3,  4,  5,  6,  7,  8,  9, 10, 11, 12, 13, 14, 15, 16,\n",
       "       17, 18, 19, 20, 21, 22, 23, 24, 25, 26, 27, 28, 29, 30, 31, 32, 33,\n",
       "       34, 35, 36, 37, 38, 39, 40, 41, 42, 43, 44, 45, 46, 47, 48, 49, 50,\n",
       "       51, 52, 53, 54, 55, 56, 57, 58, 59, 60, 61, 62, 63, 64, 65, 66, 67,\n",
       "       68, 69, 70, 71, 72, 73, 74, 75, 76, 77, 78, 79, 80, 81, 82, 83, 84,\n",
       "       85, 86, 87, 88, 89, 90, 91, 92, 93, 94, 95, 96, 97, 98, 99])"
      ]
     },
     "execution_count": 72,
     "metadata": {},
     "output_type": "execute_result"
    }
   ],
   "source": [
    "A"
   ]
  },
  {
   "cell_type": "markdown",
   "id": "7dcae514",
   "metadata": {},
   "source": [
    "Access Elements smaller than 40"
   ]
  },
  {
   "cell_type": "code",
   "execution_count": 74,
   "id": "a78b9a8d",
   "metadata": {},
   "outputs": [
    {
     "data": {
      "text/plain": [
       "array([ 0,  1,  2,  3,  4,  5,  6,  7,  8,  9, 10, 11, 12, 13, 14, 15, 16,\n",
       "       17, 18, 19, 20, 21, 22, 23, 24, 25, 26, 27, 28, 29, 30, 31, 32, 33,\n",
       "       34, 35, 36, 37, 38, 39])"
      ]
     },
     "execution_count": 74,
     "metadata": {},
     "output_type": "execute_result"
    }
   ],
   "source": [
    "B = A[A < 40]\n",
    "B\n"
   ]
  },
  {
   "cell_type": "markdown",
   "id": "2658513e",
   "metadata": {},
   "source": [
    "Access elements smaller than 40 and bigger than 20"
   ]
  },
  {
   "cell_type": "code",
   "execution_count": 75,
   "id": "501de483",
   "metadata": {},
   "outputs": [
    {
     "data": {
      "text/plain": [
       "array([21, 22, 23, 24, 25, 26, 27, 28, 29, 30, 31, 32, 33, 34, 35, 36, 37,\n",
       "       38, 39])"
      ]
     },
     "execution_count": 75,
     "metadata": {},
     "output_type": "execute_result"
    }
   ],
   "source": [
    "B = A[(A < 40) & (A > 20)]\n",
    "B"
   ]
  },
  {
   "cell_type": "markdown",
   "id": "3051870c",
   "metadata": {},
   "source": [
    "## Broadcasting"
   ]
  },
  {
   "cell_type": "code",
   "execution_count": 76,
   "id": "79b563a2",
   "metadata": {},
   "outputs": [
    {
     "name": "stdout",
     "output_type": "stream",
     "text": [
      "[[1 2 3]\n",
      " [4 5 6]\n",
      " [7 8 9]]\n"
     ]
    }
   ],
   "source": [
    "matrix_3x3 = np.array([[1, 2, 3], [4, 5, 6], [7, 8, 9]])\n",
    "print(matrix_3x3)"
   ]
  },
  {
   "cell_type": "code",
   "execution_count": 77,
   "id": "21ccd7d7",
   "metadata": {},
   "outputs": [
    {
     "data": {
      "text/plain": [
       "array([[11, 12, 13],\n",
       "       [14, 15, 16],\n",
       "       [17, 18, 19]])"
      ]
     },
     "execution_count": 77,
     "metadata": {},
     "output_type": "execute_result"
    }
   ],
   "source": [
    "matrix_3x3 + 10"
   ]
  },
  {
   "cell_type": "markdown",
   "id": "bfc855c9",
   "metadata": {},
   "source": [
    "### hstack, vstack"
   ]
  },
  {
   "cell_type": "code",
   "execution_count": 80,
   "id": "b7777fb5",
   "metadata": {},
   "outputs": [
    {
     "data": {
      "text/plain": [
       "array([[10.,  1.,  5.,  5.,  1.,  1.],\n",
       "       [ 2.,  1.,  7.,  2.,  5.,  1.],\n",
       "       [ 4.,  3.,  6.,  6.,  4.,  6.]])"
      ]
     },
     "execution_count": 80,
     "metadata": {},
     "output_type": "execute_result"
    }
   ],
   "source": [
    "C = np.hstack((A, B))\n",
    "C"
   ]
  },
  {
   "cell_type": "code",
   "execution_count": 81,
   "id": "58d26684",
   "metadata": {},
   "outputs": [
    {
     "data": {
      "text/plain": [
       "array([[10.,  1.,  5.],\n",
       "       [ 2.,  1.,  7.],\n",
       "       [ 4.,  3.,  6.],\n",
       "       [ 5.,  1.,  1.],\n",
       "       [ 2.,  5.,  1.],\n",
       "       [ 6.,  4.,  6.]])"
      ]
     },
     "execution_count": 81,
     "metadata": {},
     "output_type": "execute_result"
    }
   ],
   "source": [
    "D = np.vstack((A, B))\n",
    "D"
   ]
  },
  {
   "cell_type": "markdown",
   "id": "a1557688",
   "metadata": {},
   "source": [
    "### Sort"
   ]
  },
  {
   "cell_type": "code",
   "execution_count": 83,
   "id": "b4fd5516",
   "metadata": {},
   "outputs": [
    {
     "data": {
      "text/plain": [
       "array([2, 7, 0, 4, 3, 8, 9, 5, 6, 1])"
      ]
     },
     "execution_count": 83,
     "metadata": {},
     "output_type": "execute_result"
    }
   ],
   "source": [
    "A = np.random.permutation(np.arange (10))\n",
    "A"
   ]
  },
  {
   "cell_type": "code",
   "execution_count": 89,
   "id": "b9b21331",
   "metadata": {},
   "outputs": [
    {
     "data": {
      "text/plain": [
       "array([0, 1, 2, 3, 4, 5, 6, 7, 8, 9])"
      ]
     },
     "execution_count": 89,
     "metadata": {},
     "output_type": "execute_result"
    }
   ],
   "source": [
    "A.sort()\n",
    "A"
   ]
  },
  {
   "cell_type": "markdown",
   "id": "f40f7114",
   "metadata": {},
   "source": [
    "Order in descending order"
   ]
  },
  {
   "cell_type": "code",
   "execution_count": 90,
   "id": "fb1167f7",
   "metadata": {},
   "outputs": [
    {
     "data": {
      "text/plain": [
       "array([9, 8, 7, 6, 5, 4, 3, 2, 1, 0])"
      ]
     },
     "execution_count": 90,
     "metadata": {},
     "output_type": "execute_result"
    }
   ],
   "source": [
    "A = A[::-1]\n",
    "A"
   ]
  },
  {
   "cell_type": "code",
   "execution_count": 93,
   "id": "204788ac",
   "metadata": {},
   "outputs": [
    {
     "data": {
      "text/plain": [
       "array(['13er', 'abc', 'howare you', 'u765'], dtype='<U10')"
      ]
     },
     "execution_count": 93,
     "metadata": {},
     "output_type": "execute_result"
    }
   ],
   "source": [
    "A = np.array ([\"abc\", 'howare you', 'u765', '13er'])\n",
    "A.sort()\n",
    "A"
   ]
  },
  {
   "cell_type": "markdown",
   "id": "14f98bd3",
   "metadata": {},
   "source": [
    "### How fast is NumPy?"
   ]
  },
  {
   "cell_type": "code",
   "execution_count": 110,
   "id": "c4135cb7",
   "metadata": {},
   "outputs": [
    {
     "data": {
      "text/plain": [
       "array([0.6289288 , 0.85141018, 0.5242073 , ..., 0.81306167, 0.795072  ,\n",
       "       0.85104757], shape=(10000000,))"
      ]
     },
     "execution_count": 110,
     "metadata": {},
     "output_type": "execute_result"
    }
   ],
   "source": [
    "B = np.random.rand(10000000)\n",
    "B"
   ]
  },
  {
   "cell_type": "code",
   "execution_count": 111,
   "id": "8e58b94f",
   "metadata": {},
   "outputs": [
    {
     "name": "stdout",
     "output_type": "stream",
     "text": [
      "396 ms ± 10.4 ms per loop (mean ± std. dev. of 7 runs, 1 loop each)\n"
     ]
    }
   ],
   "source": [
    "%timeit sum(B)"
   ]
  },
  {
   "cell_type": "code",
   "execution_count": 112,
   "id": "0a7530ee",
   "metadata": {},
   "outputs": [
    {
     "name": "stdout",
     "output_type": "stream",
     "text": [
      "1.53 ms ± 76.5 μs per loop (mean ± std. dev. of 7 runs, 1,000 loops each)\n"
     ]
    }
   ],
   "source": [
    "%timeit np.sum(B)"
   ]
  }
 ],
 "metadata": {
  "kernelspec": {
   "display_name": ".venv",
   "language": "python",
   "name": "python3"
  },
  "language_info": {
   "codemirror_mode": {
    "name": "ipython",
    "version": 3
   },
   "file_extension": ".py",
   "mimetype": "text/x-python",
   "name": "python",
   "nbconvert_exporter": "python",
   "pygments_lexer": "ipython3",
   "version": "3.13.2"
  }
 },
 "nbformat": 4,
 "nbformat_minor": 5
}
