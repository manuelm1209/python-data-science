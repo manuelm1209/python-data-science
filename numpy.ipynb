{
 "cells": [
  {
   "cell_type": "markdown",
   "id": "6bfea9dc",
   "metadata": {},
   "source": [
    "# NumPy Tutorial"
   ]
  },
  {
   "cell_type": "code",
   "execution_count": 4,
   "id": "b75cbf47",
   "metadata": {},
   "outputs": [
    {
     "name": "stdout",
     "output_type": "stream",
     "text": [
      "a: [1 2 3]\n",
      "b: [4 5 6]\n"
     ]
    }
   ],
   "source": [
    "import numpy as np\n",
    "a = np.array([1, 2, 3])\n",
    "b = np.array([4, 5, 6])\n",
    "print(f\"a: {a}\")\n",
    "print(f\"b: {b}\")"
   ]
  },
  {
   "cell_type": "markdown",
   "id": "3a416cf1",
   "metadata": {},
   "source": [
    "NumPy type"
   ]
  },
  {
   "cell_type": "code",
   "execution_count": 5,
   "id": "5a6a86fd",
   "metadata": {},
   "outputs": [
    {
     "data": {
      "text/plain": [
       "numpy.ndarray"
      ]
     },
     "execution_count": 5,
     "metadata": {},
     "output_type": "execute_result"
    }
   ],
   "source": [
    "type(a)"
   ]
  },
  {
   "cell_type": "markdown",
   "id": "9444e4bd",
   "metadata": {},
   "source": [
    "Define as int or float for example"
   ]
  },
  {
   "cell_type": "code",
   "execution_count": 6,
   "id": "0a981a00",
   "metadata": {},
   "outputs": [
    {
     "data": {
      "text/plain": [
       "dtype('float32')"
      ]
     },
     "execution_count": 6,
     "metadata": {},
     "output_type": "execute_result"
    }
   ],
   "source": [
    "a = np.array([1, 2, 3],dtype='f')\n",
    "a.dtype"
   ]
  },
  {
   "cell_type": "markdown",
   "id": "4be46dce",
   "metadata": {},
   "source": [
    "### Dimensions (ndim)"
   ]
  },
  {
   "cell_type": "markdown",
   "id": "514ce2e0",
   "metadata": {},
   "source": [
    "2 Dimensions"
   ]
  },
  {
   "cell_type": "code",
   "execution_count": 7,
   "id": "8ffe8e73",
   "metadata": {},
   "outputs": [
    {
     "name": "stdout",
     "output_type": "stream",
     "text": [
      "a ndim: 2\n"
     ]
    }
   ],
   "source": [
    "a = np.array([[1, 2, 3], [4, 5, 6]])\n",
    "print(f\"a ndim: {a.ndim}\")"
   ]
  },
  {
   "cell_type": "code",
   "execution_count": 8,
   "id": "50e2e134",
   "metadata": {},
   "outputs": [
    {
     "name": "stdout",
     "output_type": "stream",
     "text": [
      "4\n",
      "4\n"
     ]
    }
   ],
   "source": [
    "print(a[1][0])\n",
    "print(a[1, 0])"
   ]
  },
  {
   "cell_type": "markdown",
   "id": "388db2a4",
   "metadata": {},
   "source": [
    "3 Dimensions"
   ]
  },
  {
   "cell_type": "code",
   "execution_count": 9,
   "id": "c1a02f66",
   "metadata": {},
   "outputs": [
    {
     "name": "stdout",
     "output_type": "stream",
     "text": [
      "b ndim: 3\n"
     ]
    }
   ],
   "source": [
    "b = np.array([[[1, 2, 3], [4, 5, 6]], [[1, 2, 3], [4, 5, 6]], [[1, 2, 3], [4, 5, 6]]])\n",
    "print(f\"b ndim: {b.ndim}\")"
   ]
  },
  {
   "cell_type": "code",
   "execution_count": 10,
   "id": "5ce70a15",
   "metadata": {},
   "outputs": [
    {
     "name": "stdout",
     "output_type": "stream",
     "text": [
      "6\n",
      "6\n"
     ]
    }
   ],
   "source": [
    "print(b[1][1][2])\n",
    "print(b[1,1,2])"
   ]
  },
  {
   "cell_type": "markdown",
   "id": "a7e6ffa7",
   "metadata": {},
   "source": [
    "## Shape"
   ]
  },
  {
   "cell_type": "markdown",
   "id": "c0a4e3b3",
   "metadata": {},
   "source": [
    "It shows the element in each level"
   ]
  },
  {
   "cell_type": "code",
   "execution_count": 11,
   "id": "5ae4f97f",
   "metadata": {},
   "outputs": [
    {
     "data": {
      "text/plain": [
       "(3, 2, 3)"
      ]
     },
     "execution_count": 11,
     "metadata": {},
     "output_type": "execute_result"
    }
   ],
   "source": [
    "c = np.array([[[1, 2, 3], [4, 5, 6]], [[1, 2, 3], [4, 5, 6]], [[1, 2, 3], [4, 5, 6]]])\n",
    "c.shape"
   ]
  },
  {
   "cell_type": "markdown",
   "id": "cf3a5698",
   "metadata": {},
   "source": [
    "You can also go by level:"
   ]
  },
  {
   "cell_type": "code",
   "execution_count": 12,
   "id": "5abb6503",
   "metadata": {},
   "outputs": [
    {
     "name": "stdout",
     "output_type": "stream",
     "text": [
      "3\n",
      "2\n",
      "3\n"
     ]
    }
   ],
   "source": [
    "print(c.shape[0])\n",
    "print(c.shape[1])\n",
    "print(c.shape[2])"
   ]
  },
  {
   "cell_type": "markdown",
   "id": "3a12ee4c",
   "metadata": {},
   "source": [
    "### Show total of elements"
   ]
  },
  {
   "cell_type": "code",
   "execution_count": 14,
   "id": "94da0a89",
   "metadata": {},
   "outputs": [
    {
     "data": {
      "text/plain": [
       "18"
      ]
     },
     "execution_count": 14,
     "metadata": {},
     "output_type": "execute_result"
    }
   ],
   "source": [
    "c.size"
   ]
  },
  {
   "cell_type": "markdown",
   "id": "e0833693",
   "metadata": {},
   "source": [
    "### Create an array (arange())"
   ]
  },
  {
   "cell_type": "code",
   "execution_count": 16,
   "id": "812e7742",
   "metadata": {},
   "outputs": [
    {
     "name": "stdout",
     "output_type": "stream",
     "text": [
      "[ 0  1  2  3  4  5  6  7  8  9 10 11 12 13 14 15 16 17 18 19 20 21 22 23\n",
      " 24 25 26 27 28 29 30 31 32 33 34 35 36 37 38 39 40 41 42 43 44 45 46 47\n",
      " 48 49 50 51 52 53 54 55 56 57 58 59 60 61 62 63 64 65 66 67 68 69 70 71\n",
      " 72 73 74 75 76 77 78 79 80 81 82 83 84 85 86 87 88 89 90 91 92 93 94 95\n",
      " 96 97 98 99]\n"
     ]
    }
   ],
   "source": [
    "A = np.arange(100)\n",
    "print(A)"
   ]
  },
  {
   "cell_type": "markdown",
   "id": "c2eead04",
   "metadata": {},
   "source": [
    "Start from 20"
   ]
  },
  {
   "cell_type": "code",
   "execution_count": 17,
   "id": "fb90a4a3",
   "metadata": {},
   "outputs": [
    {
     "name": "stdout",
     "output_type": "stream",
     "text": [
      "[20 21 22 23 24 25 26 27 28 29 30 31 32 33 34 35 36 37 38 39 40 41 42 43\n",
      " 44 45 46 47 48 49 50 51 52 53 54 55 56 57 58 59 60 61 62 63 64 65 66 67\n",
      " 68 69 70 71 72 73 74 75 76 77 78 79 80 81 82 83 84 85 86 87 88 89 90 91\n",
      " 92 93 94 95 96 97 98 99]\n"
     ]
    }
   ],
   "source": [
    "A = np.arange(20,100)\n",
    "print(A)"
   ]
  },
  {
   "cell_type": "markdown",
   "id": "facc0873",
   "metadata": {},
   "source": [
    "### np.random.permutation"
   ]
  },
  {
   "cell_type": "markdown",
   "id": "35ac9cf5",
   "metadata": {},
   "source": [
    "Randoms the values you pass"
   ]
  },
  {
   "cell_type": "code",
   "execution_count": 19,
   "id": "44458f3b",
   "metadata": {},
   "outputs": [
    {
     "name": "stdout",
     "output_type": "stream",
     "text": [
      "[2 4 7 3 6 9 0 8 1 5]\n"
     ]
    }
   ],
   "source": [
    "A = np.random.permutation(np.arange(10))\n",
    "print(A)"
   ]
  },
  {
   "cell_type": "markdown",
   "id": "af17665c",
   "metadata": {},
   "source": [
    "Generate random integer"
   ]
  },
  {
   "cell_type": "code",
   "execution_count": 23,
   "id": "0df5783e",
   "metadata": {},
   "outputs": [
    {
     "name": "stdout",
     "output_type": "stream",
     "text": [
      "74\n"
     ]
    }
   ],
   "source": [
    "v = np.random.randint(20, 100)\n",
    "print(v)"
   ]
  },
  {
   "cell_type": "code",
   "execution_count": 38,
   "id": "aad8b086",
   "metadata": {},
   "outputs": [
    {
     "name": "stdout",
     "output_type": "stream",
     "text": [
      "[0.34780864 0.46056447 0.31932852 ... 0.78361289 0.24077323 0.88908973]\n"
     ]
    }
   ],
   "source": [
    "A = np.random.rand(10000)\n",
    "print(A)"
   ]
  },
  {
   "cell_type": "markdown",
   "id": "422a7003",
   "metadata": {},
   "source": [
    "rand generates uniform distrubution"
   ]
  },
  {
   "cell_type": "code",
   "execution_count": 39,
   "id": "9b20c78a",
   "metadata": {},
   "outputs": [
    {
     "data": {
      "text/plain": [
       "(array([ 98.,  88., 106., 106., 107., 126., 120.,  90., 112., 105.,  91.,\n",
       "         96.,  87., 102., 107., 107., 111.,  90.,  95., 113.,  97., 118.,\n",
       "         90.,  86., 104., 103.,  90., 108.,  81., 100., 110.,  93.,  96.,\n",
       "        105.,  86.,  88.,  94., 104., 111., 100.,  85., 107.,  97., 102.,\n",
       "        100.,  94., 109.,  95.,  99.,  99.,  99.,  96., 104., 118., 101.,\n",
       "        112.,  89., 101., 100.,  82., 107.,  75.,  98., 102., 104.,  92.,\n",
       "        121., 100., 104.,  93.,  89.,  97., 100.,  94., 106.,  95.,  93.,\n",
       "         87.,  92.,  96., 109., 105., 107.,  81., 108., 103., 103.,  77.,\n",
       "        112., 104., 103., 107., 102., 107.,  97.,  87., 117., 117., 106.,\n",
       "         93.]),\n",
       " array([2.83613821e-04, 1.02805436e-02, 2.02774735e-02, 3.02744033e-02,\n",
       "        4.02713331e-02, 5.02682629e-02, 6.02651927e-02, 7.02621225e-02,\n",
       "        8.02590524e-02, 9.02559822e-02, 1.00252912e-01, 1.10249842e-01,\n",
       "        1.20246772e-01, 1.30243701e-01, 1.40240631e-01, 1.50237561e-01,\n",
       "        1.60234491e-01, 1.70231421e-01, 1.80228351e-01, 1.90225280e-01,\n",
       "        2.00222210e-01, 2.10219140e-01, 2.20216070e-01, 2.30213000e-01,\n",
       "        2.40209929e-01, 2.50206859e-01, 2.60203789e-01, 2.70200719e-01,\n",
       "        2.80197649e-01, 2.90194579e-01, 3.00191508e-01, 3.10188438e-01,\n",
       "        3.20185368e-01, 3.30182298e-01, 3.40179228e-01, 3.50176157e-01,\n",
       "        3.60173087e-01, 3.70170017e-01, 3.80166947e-01, 3.90163877e-01,\n",
       "        4.00160807e-01, 4.10157736e-01, 4.20154666e-01, 4.30151596e-01,\n",
       "        4.40148526e-01, 4.50145456e-01, 4.60142385e-01, 4.70139315e-01,\n",
       "        4.80136245e-01, 4.90133175e-01, 5.00130105e-01, 5.10127035e-01,\n",
       "        5.20123964e-01, 5.30120894e-01, 5.40117824e-01, 5.50114754e-01,\n",
       "        5.60111684e-01, 5.70108613e-01, 5.80105543e-01, 5.90102473e-01,\n",
       "        6.00099403e-01, 6.10096333e-01, 6.20093262e-01, 6.30090192e-01,\n",
       "        6.40087122e-01, 6.50084052e-01, 6.60080982e-01, 6.70077912e-01,\n",
       "        6.80074841e-01, 6.90071771e-01, 7.00068701e-01, 7.10065631e-01,\n",
       "        7.20062561e-01, 7.30059490e-01, 7.40056420e-01, 7.50053350e-01,\n",
       "        7.60050280e-01, 7.70047210e-01, 7.80044140e-01, 7.90041069e-01,\n",
       "        8.00037999e-01, 8.10034929e-01, 8.20031859e-01, 8.30028789e-01,\n",
       "        8.40025718e-01, 8.50022648e-01, 8.60019578e-01, 8.70016508e-01,\n",
       "        8.80013438e-01, 8.90010368e-01, 9.00007297e-01, 9.10004227e-01,\n",
       "        9.20001157e-01, 9.29998087e-01, 9.39995017e-01, 9.49991946e-01,\n",
       "        9.59988876e-01, 9.69985806e-01, 9.79982736e-01, 9.89979666e-01,\n",
       "        9.99976596e-01]),\n",
       " <BarContainer object of 100 artists>)"
      ]
     },
     "execution_count": 39,
     "metadata": {},
     "output_type": "execute_result"
    },
    {
     "data": {
      "image/png": "[encoded data removed]",
      "text/plain": [
       "<Figure size 640x480 with 1 Axes>"
      ]
     },
     "metadata": {},
     "output_type": "display_data"
    }
   ],
   "source": [
    "import matplotlib.pyplot as plt\n",
    "plt.hist(A, bins=100)"
   ]
  },
  {
   "cell_type": "markdown",
   "id": "daa65aa9",
   "metadata": {},
   "source": [
    "With **randn** the distrubution is gauss"
   ]
  },
  {
   "cell_type": "code",
   "execution_count": 35,
   "id": "eabb94b3",
   "metadata": {},
   "outputs": [
    {
     "data": {
      "text/plain": [
       "(array([1.000e+00, 1.000e+00, 0.000e+00, 5.000e+00, 3.000e+00, 7.000e+00,\n",
       "        6.000e+00, 8.000e+00, 5.000e+00, 1.100e+01, 1.600e+01, 2.200e+01,\n",
       "        3.000e+01, 4.400e+01, 4.100e+01, 5.800e+01, 7.100e+01, 9.300e+01,\n",
       "        1.010e+02, 1.390e+02, 1.740e+02, 2.220e+02, 2.840e+02, 2.930e+02,\n",
       "        4.290e+02, 4.710e+02, 5.340e+02, 6.240e+02, 6.950e+02, 8.340e+02,\n",
       "        1.004e+03, 1.114e+03, 1.279e+03, 1.342e+03, 1.548e+03, 1.697e+03,\n",
       "        1.882e+03, 2.073e+03, 2.261e+03, 2.357e+03, 2.560e+03, 2.681e+03,\n",
       "        2.892e+03, 2.962e+03, 3.057e+03, 3.209e+03, 3.311e+03, 3.331e+03,\n",
       "        3.358e+03, 3.449e+03, 3.345e+03, 3.356e+03, 3.218e+03, 3.221e+03,\n",
       "        3.155e+03, 2.804e+03, 2.844e+03, 2.638e+03, 2.501e+03, 2.328e+03,\n",
       "        2.108e+03, 1.942e+03, 1.813e+03, 1.591e+03, 1.398e+03, 1.330e+03,\n",
       "        1.208e+03, 1.060e+03, 9.240e+02, 7.850e+02, 6.290e+02, 5.740e+02,\n",
       "        4.540e+02, 3.990e+02, 3.100e+02, 3.090e+02, 2.360e+02, 1.990e+02,\n",
       "        1.430e+02, 1.140e+02, 1.140e+02, 9.300e+01, 6.600e+01, 5.800e+01,\n",
       "        3.500e+01, 3.000e+01, 1.600e+01, 1.700e+01, 1.100e+01, 9.000e+00,\n",
       "        8.000e+00, 1.000e+00, 5.000e+00, 6.000e+00, 1.000e+00, 1.000e+00,\n",
       "        2.000e+00, 1.000e+00, 0.000e+00, 1.000e+00]),\n",
       " array([-4.14723908, -4.06287493, -3.97851079, -3.89414664, -3.8097825 ,\n",
       "        -3.72541836, -3.64105421, -3.55669007, -3.47232592, -3.38796178,\n",
       "        -3.30359763, -3.21923349, -3.13486935, -3.0505052 , -2.96614106,\n",
       "        -2.88177691, -2.79741277, -2.71304862, -2.62868448, -2.54432034,\n",
       "        -2.45995619, -2.37559205, -2.2912279 , -2.20686376, -2.12249961,\n",
       "        -2.03813547, -1.95377133, -1.86940718, -1.78504304, -1.70067889,\n",
       "        -1.61631475, -1.5319506 , -1.44758646, -1.36322232, -1.27885817,\n",
       "        -1.19449403, -1.11012988, -1.02576574, -0.94140159, -0.85703745,\n",
       "        -0.77267331, -0.68830916, -0.60394502, -0.51958087, -0.43521673,\n",
       "        -0.35085258, -0.26648844, -0.1821243 , -0.09776015, -0.01339601,\n",
       "         0.07096814,  0.15533228,  0.23969642,  0.32406057,  0.40842471,\n",
       "         0.49278886,  0.577153  ,  0.66151715,  0.74588129,  0.83024543,\n",
       "         0.91460958,  0.99897372,  1.08333787,  1.16770201,  1.25206616,\n",
       "         1.3364303 ,  1.42079444,  1.50515859,  1.58952273,  1.67388688,\n",
       "         1.75825102,  1.84261517,  1.92697931,  2.01134345,  2.0957076 ,\n",
       "         2.18007174,  2.26443589,  2.34880003,  2.43316418,  2.51752832,\n",
       "         2.60189246,  2.68625661,  2.77062075,  2.8549849 ,  2.93934904,\n",
       "         3.02371319,  3.10807733,  3.19244147,  3.27680562,  3.36116976,\n",
       "         3.44553391,  3.52989805,  3.6142622 ,  3.69862634,  3.78299048,\n",
       "         3.86735463,  3.95171877,  4.03608292,  4.12044706,  4.20481121,\n",
       "         4.28917535]),\n",
       " <BarContainer object of 100 artists>)"
      ]
     },
     "execution_count": 35,
     "metadata": {},
     "output_type": "execute_result"
    },
    {
     "data": {
      "image/png": "[encoded data removed]",
      "text/plain": [
       "<Figure size 640x480 with 1 Axes>"
      ]
     },
     "metadata": {},
     "output_type": "display_data"
    }
   ],
   "source": [
    "B = np.random.randn(100000)\n",
    "plt.hist(B, bins=100)"
   ]
  },
  {
   "cell_type": "markdown",
   "id": "792ce08d",
   "metadata": {},
   "source": [
    "Create a 2 dimentional array of random numbers"
   ]
  },
  {
   "cell_type": "code",
   "execution_count": 41,
   "id": "c35436c0",
   "metadata": {},
   "outputs": [
    {
     "name": "stdout",
     "output_type": "stream",
     "text": [
      "[[0.90010706 0.98036246 0.27098933]\n",
      " [0.58065493 0.34741546 0.39934801]]\n"
     ]
    }
   ],
   "source": [
    "C =  np.random.rand(2,3)\n",
    "print(C)"
   ]
  },
  {
   "cell_type": "markdown",
   "id": "2cc107ab",
   "metadata": {},
   "source": [
    "Adding more dimentions"
   ]
  },
  {
   "cell_type": "code",
   "execution_count": 47,
   "id": "168563e2",
   "metadata": {},
   "outputs": [
    {
     "data": {
      "text/plain": [
       "4"
      ]
     },
     "execution_count": 47,
     "metadata": {},
     "output_type": "execute_result"
    }
   ],
   "source": [
    "D = np.random.randn(2,3,2,4)\n",
    "D.ndim"
   ]
  },
  {
   "cell_type": "code",
   "execution_count": 48,
   "id": "3b5cca54",
   "metadata": {},
   "outputs": [
    {
     "name": "stdout",
     "output_type": "stream",
     "text": [
      "[[[[ 0.44595713 -0.18577751  0.42179341 -1.62462442]\n",
      "   [-0.33082117 -0.14724916 -0.80006016  2.04313723]]\n",
      "\n",
      "  [[ 0.16142651  0.9794809  -0.09419061 -1.28377829]\n",
      "   [ 0.70189089 -1.59229212 -0.10521534  0.90323149]]\n",
      "\n",
      "  [[-0.19719317 -1.19499484  0.88929153 -1.11840651]\n",
      "   [-1.55870002 -0.08891931 -0.49300788 -0.00345921]]]\n",
      "\n",
      "\n",
      " [[[ 1.42105085 -0.16185907 -0.27941711 -1.03583782]\n",
      "   [ 1.23123576 -1.28086412 -1.8098736   0.61055852]]\n",
      "\n",
      "  [[-1.16669179  0.32202402  0.96686911 -0.7729391 ]\n",
      "   [-0.06770282 -0.69933605 -0.48664393 -1.62552214]]\n",
      "\n",
      "  [[-0.40532369  0.14054112 -3.1601164   0.29296391]\n",
      "   [ 0.49505093  1.31427378 -1.0107157  -0.15727454]]]]\n"
     ]
    }
   ],
   "source": [
    "print(D)"
   ]
  },
  {
   "cell_type": "markdown",
   "id": "2317d4c8",
   "metadata": {},
   "source": [
    "### Reshape"
   ]
  },
  {
   "cell_type": "markdown",
   "id": "8442efd1",
   "metadata": {},
   "source": [
    "Reshapes the structure of values"
   ]
  },
  {
   "cell_type": "code",
   "execution_count": 49,
   "id": "b36aa020",
   "metadata": {},
   "outputs": [
    {
     "name": "stdout",
     "output_type": "stream",
     "text": [
      "[ 0  1  2  3  4  5  6  7  8  9 10 11 12 13 14 15 16 17 18 19 20 21 22 23\n",
      " 24 25 26 27 28 29 30 31 32 33 34 35 36 37 38 39 40 41 42 43 44 45 46 47\n",
      " 48 49 50 51 52 53 54 55 56 57 58 59 60 61 62 63 64 65 66 67 68 69 70 71\n",
      " 72 73 74 75 76 77 78 79 80 81 82 83 84 85 86 87 88 89 90 91 92 93 94 95\n",
      " 96 97 98 99]\n"
     ]
    }
   ],
   "source": [
    "E = np.arange(100)\n",
    "print(E)"
   ]
  },
  {
   "cell_type": "code",
   "execution_count": 50,
   "id": "c3a5a9f3",
   "metadata": {},
   "outputs": [
    {
     "name": "stdout",
     "output_type": "stream",
     "text": [
      "[[ 0  1  2  3  4  5  6  7  8  9]\n",
      " [10 11 12 13 14 15 16 17 18 19]\n",
      " [20 21 22 23 24 25 26 27 28 29]\n",
      " [30 31 32 33 34 35 36 37 38 39]\n",
      " [40 41 42 43 44 45 46 47 48 49]\n",
      " [50 51 52 53 54 55 56 57 58 59]\n",
      " [60 61 62 63 64 65 66 67 68 69]\n",
      " [70 71 72 73 74 75 76 77 78 79]\n",
      " [80 81 82 83 84 85 86 87 88 89]\n",
      " [90 91 92 93 94 95 96 97 98 99]]\n"
     ]
    }
   ],
   "source": [
    "E = E.reshape(10,10)\n",
    "print(E)"
   ]
  },
  {
   "cell_type": "code",
   "execution_count": 51,
   "id": "6bd72b72",
   "metadata": {},
   "outputs": [
    {
     "data": {
      "text/plain": [
       "2"
      ]
     },
     "execution_count": 51,
     "metadata": {},
     "output_type": "execute_result"
    }
   ],
   "source": [
    "E.ndim"
   ]
  },
  {
   "cell_type": "code",
   "execution_count": 52,
   "id": "2d5ca832",
   "metadata": {},
   "outputs": [
    {
     "data": {
      "text/plain": [
       "(10, 10)"
      ]
     },
     "execution_count": 52,
     "metadata": {},
     "output_type": "execute_result"
    }
   ],
   "source": [
    "E.shape"
   ]
  },
  {
   "cell_type": "code",
   "execution_count": 56,
   "id": "c8814662",
   "metadata": {},
   "outputs": [
    {
     "name": "stdout",
     "output_type": "stream",
     "text": [
      "(10, 5, 2)\n"
     ]
    }
   ],
   "source": [
    "E = E.reshape(10,5,2)\n",
    "print(E.shape)"
   ]
  },
  {
   "cell_type": "markdown",
   "id": "a75e6690",
   "metadata": {},
   "source": [
    "## Slicing"
   ]
  },
  {
   "cell_type": "markdown",
   "id": "ca3bd4d7",
   "metadata": {},
   "source": [
    "A[start:end:step]\n",
    "- a[1:5] # index 1 till 5 but not 5\n",
    "- a[:5] # index 0 till 5 but not 5\n",
    "- a[:5] # index 0 till 5 but not 5\n",
    "- a[2:] # index 2 till end including last element\n",
    "- a[::-1] # from end till start (reverse the array) a[::2] # from start till end every other element\n",
    "- a[::2,:] ?"
   ]
  },
  {
   "cell_type": "code",
   "execution_count": 57,
   "id": "200d8e75",
   "metadata": {},
   "outputs": [
    {
     "name": "stdout",
     "output_type": "stream",
     "text": [
      "[3 4 5 6 7 8 9]\n"
     ]
    }
   ],
   "source": [
    "F = np.arange(100)\n",
    "b = F[3:10]\n",
    "print(b)"
   ]
  },
  {
   "cell_type": "markdown",
   "id": "149a70d8",
   "metadata": {},
   "source": [
    "When you change a value in the sliced array, it will be changed in the original array."
   ]
  },
  {
   "cell_type": "code",
   "execution_count": 61,
   "id": "df9170aa",
   "metadata": {},
   "outputs": [
    {
     "name": "stdout",
     "output_type": "stream",
     "text": [
      "b: [-1000     4     5     6     7     8     9]\n",
      "\n",
      "F: [    0     1     2 -1000     4     5     6     7     8     9    10    11\n",
      "    12    13    14    15    16    17    18    19    20    21    22    23\n",
      "    24    25    26    27    28    29    30    31    32    33    34    35\n",
      "    36    37    38    39    40    41    42    43    44    45    46    47\n",
      "    48    49    50    51    52    53    54    55    56    57    58    59\n",
      "    60    61    62    63    64    65    66    67    68    69    70    71\n",
      "    72    73    74    75    76    77    78    79    80    81    82    83\n",
      "    84    85    86    87    88    89    90    91    92    93    94    95\n",
      "    96    97    98    99]\n"
     ]
    }
   ],
   "source": [
    "b[0] = -1000\n",
    "print(f\"b: {b}\\n\")\n",
    "print(f\"F: {F}\")"
   ]
  },
  {
   "cell_type": "markdown",
   "id": "8b302ad3",
   "metadata": {},
   "source": [
    "If we don't want this to happen, we can use the copy function to copy the sliced array."
   ]
  },
  {
   "cell_type": "code",
   "execution_count": 64,
   "id": "3793a798",
   "metadata": {},
   "outputs": [
    {
     "name": "stdout",
     "output_type": "stream",
     "text": [
      "c: [-1000     4     5 -2000     7     8     9]\n",
      "\n",
      "F: [    0     1     2 -1000     4     5     6     7     8     9    10    11\n",
      "    12    13    14    15    16    17    18    19    20    21    22    23\n",
      "    24    25    26    27    28    29    30    31    32    33    34    35\n",
      "    36    37    38    39    40    41    42    43    44    45    46    47\n",
      "    48    49    50    51    52    53    54    55    56    57    58    59\n",
      "    60    61    62    63    64    65    66    67    68    69    70    71\n",
      "    72    73    74    75    76    77    78    79    80    81    82    83\n",
      "    84    85    86    87    88    89    90    91    92    93    94    95\n",
      "    96    97    98    99]\n"
     ]
    }
   ],
   "source": [
    "c = F[3:10].copy()\n",
    "c[3] = -2000\n",
    "print(f\"c: {c}\\n\")\n",
    "print(f\"F: {F}\")"
   ]
  },
  {
   "cell_type": "markdown",
   "id": "41bf7ecf",
   "metadata": {},
   "source": [
    "Reverse the array"
   ]
  },
  {
   "cell_type": "code",
   "execution_count": 66,
   "id": "2f6137f8",
   "metadata": {},
   "outputs": [
    {
     "data": {
      "text/plain": [
       "array([   99,    98,    97,    96,    95,    94,    93,    92,    91,\n",
       "          90,    89,    88,    87,    86,    85,    84,    83,    82,\n",
       "          81,    80,    79,    78,    77,    76,    75,    74,    73,\n",
       "          72,    71,    70,    69,    68,    67,    66,    65,    64,\n",
       "          63,    62,    61,    60,    59,    58,    57,    56,    55,\n",
       "          54,    53,    52,    51,    50,    49,    48,    47,    46,\n",
       "          45,    44,    43,    42,    41,    40,    39,    38,    37,\n",
       "          36,    35,    34,    33,    32,    31,    30,    29,    28,\n",
       "          27,    26,    25,    24,    23,    22,    21,    20,    19,\n",
       "          18,    17,    16,    15,    14,    13,    12,    11,    10,\n",
       "           9,     8,     7,     6,     5,     4, -1000,     2,     1,\n",
       "           0])"
      ]
     },
     "execution_count": 66,
     "metadata": {},
     "output_type": "execute_result"
    }
   ],
   "source": [
    "F[::-1]"
   ]
  },
  {
   "cell_type": "code",
   "execution_count": 68,
   "id": "9bf879b4",
   "metadata": {},
   "outputs": [
    {
     "data": {
      "text/plain": [
       "array([99, 94, 89, 84, 79, 74, 69, 64, 59, 54, 49, 44, 39, 34, 29, 24, 19,\n",
       "       14,  9,  4])"
      ]
     },
     "execution_count": 68,
     "metadata": {},
     "output_type": "execute_result"
    }
   ],
   "source": [
    "F[::-5]"
   ]
  },
  {
   "cell_type": "code",
   "execution_count": null,
   "id": "c9172940",
   "metadata": {},
   "outputs": [],
   "source": []
  }
 ],
 "metadata": {
  "kernelspec": {
   "display_name": ".venv",
   "language": "python",
   "name": "python3"
  },
  "language_info": {
   "codemirror_mode": {
    "name": "ipython",
    "version": 3
   },
   "file_extension": ".py",
   "mimetype": "text/x-python",
   "name": "python",
   "nbconvert_exporter": "python",
   "pygments_lexer": "ipython3",
   "version": "3.13.2"
  }
 },
 "nbformat": 4,
 "nbformat_minor": 5
}
