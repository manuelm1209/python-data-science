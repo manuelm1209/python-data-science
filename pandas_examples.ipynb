{
 "cells": [
  {
   "cell_type": "markdown",
   "id": "14254c2b",
   "metadata": {},
   "source": [
    "# Pandas Tutorial and Examples\n",
    "\n",
    "This notebook provides a comprehensive guide to using pandas, a powerful data manipulation library in Python. We'll cover various operations, from basic to advanced, to help you get started with data analysis."
   ]
  },
  {
   "cell_type": "markdown",
   "id": "ebddc607",
   "metadata": {},
   "source": [
    "## 1. Introduction to Pandas\n",
    "\n",
    "First, let's import pandas and other libraries we'll use throughout this tutorial."
   ]
  },
  {
   "cell_type": "code",
   "execution_count": null,
   "id": "3e8fb312",
   "metadata": {},
   "outputs": [],
   "source": [
    "import pandas as pd\n",
    "import numpy as np\n",
    "import matplotlib.pyplot as plt\n",
    "\n",
    "# Set display options\n",
    "pd.set_option('display.max_columns', None)\n",
    "pd.set_option('display.width', 1000)\n",
    "\n",
    "# For pretty plotting\n",
    "%matplotlib inline\n",
    "plt.style.use('ggplot')"
   ]
  },
  {
   "cell_type": "markdown",
   "id": "78bd513d",
   "metadata": {},
   "source": [
    "## 2. Creating Pandas Objects\n",
    "\n",
    "Pandas has two primary data structures: Series (1-dimensional) and DataFrame (2-dimensional)."
   ]
  },
  {
   "cell_type": "code",
   "execution_count": null,
   "id": "797850c1",
   "metadata": {},
   "outputs": [],
   "source": [
    "# Creating a Series\n",
    "s = pd.Series([1, 3, 5, np.nan, 6, 8])\n",
    "print(\"Series object:\")\n",
    "print(s)"
   ]
  },
  {
   "cell_type": "code",
   "execution_count": null,
   "id": "5c18f547",
   "metadata": {},
   "outputs": [],
   "source": [
    "# Creating a DataFrame from dictionary\n",
    "data = {\n",
    "    'Name': ['John', 'Anna', 'Peter', 'Linda'],\n",
    "    'Age': [28, 34, 29, 42],\n",
    "    'City': ['New York', 'Paris', 'Berlin', 'London'],\n",
    "    'Salary': [65000, 70000, 62000, 85000]\n",
    "}\n",
    "\n",
    "df = pd.DataFrame(data)\n",
    "print(\"DataFrame from dictionary:\")\n",
    "df"
   ]
  },
  {
   "cell_type": "code",
   "execution_count": null,
   "id": "2ca00ef8",
   "metadata": {},
   "outputs": [],
   "source": [
    "# Creating a DataFrame with date range\n",
    "dates = pd.date_range('20230101', periods=6)\n",
    "df2 = pd.DataFrame(np.random.randn(6, 4), index=dates, columns=list('ABCD'))\n",
    "print(\"DataFrame with date index:\")\n",
    "df2"
   ]
  },
  {
   "cell_type": "markdown",
   "id": "ace45298",
   "metadata": {},
   "source": [
    "## 3. Loading Data\n",
    "\n",
    "Pandas can read data from various file formats. Let's load the COVID-19 dataset as an example."
   ]
  },
  {
   "cell_type": "code",
   "execution_count": null,
   "id": "d3be1f33",
   "metadata": {},
   "outputs": [],
   "source": [
    "# Loading data from CSV file\n",
    "covid_df = pd.read_csv('covid_19_data.csv')\n",
    "\n",
    "# Display the first 5 rows\n",
    "covid_df.head()"
   ]
  },
  {
   "cell_type": "markdown",
   "id": "12446c33",
   "metadata": {},
   "source": [
    "## 4. Basic DataFrame Operations\n",
    "\n",
    "Let's explore some basic operations we can perform on our DataFrames."
   ]
  },
  {
   "cell_type": "code",
   "execution_count": null,
   "id": "e85dfce7",
   "metadata": {},
   "outputs": [],
   "source": [
    "# Viewing basic information about the DataFrame\n",
    "print(\"DataFrame shape:\", covid_df.shape)\n",
    "print(\"\\nColumn names:\")\n",
    "print(covid_df.columns.tolist())\n",
    "print(\"\\nData types:\")\n",
    "print(covid_df.dtypes)\n",
    "print(\"\\nSummary statistics:\")\n",
    "covid_df.describe()"
   ]
  },
  {
   "cell_type": "code",
   "execution_count": null,
   "id": "d2bdc7e8",
   "metadata": {},
   "outputs": [],
   "source": [
    "# Accessing specific columns\n",
    "covid_df[['Country/Region', 'Confirmed', 'Deaths', 'Recovered']].head()"
   ]
  },
  {
   "cell_type": "code",
   "execution_count": null,
   "id": "20d5be78",
   "metadata": {},
   "outputs": [],
   "source": [
    "# Accessing rows by position\n",
    "print(\"Rows 2-4:\")\n",
    "covid_df.iloc[2:5]"
   ]
  },
  {
   "cell_type": "code",
   "execution_count": null,
   "id": "b462383e",
   "metadata": {},
   "outputs": [],
   "source": [
    "# Quick check for missing values\n",
    "covid_df.isnull().sum()"
   ]
  },
  {
   "cell_type": "markdown",
   "id": "a2a724c6",
   "metadata": {},
   "source": [
    "## 5. Data Cleaning and Transformation\n",
    "\n",
    "Often, the first step in data analysis is cleaning and transforming data into a usable format."
   ]
  },
  {
   "cell_type": "code",
   "execution_count": null,
   "id": "8208f252",
   "metadata": {},
   "outputs": [],
   "source": [
    "# Create a copy of the dataset to work with\n",
    "df_clean = covid_df.copy()\n",
    "\n",
    "# Renaming columns for better clarity\n",
    "df_clean = df_clean.rename(columns={\n",
    "    'ObservationDate': 'Date',\n",
    "    'Province/State': 'State',\n",
    "    'Country/Region': 'Country'\n",
    "})\n",
    "\n",
    "# Converting date to datetime format\n",
    "df_clean['Date'] = pd.to_datetime(df_clean['Date'])\n",
    "\n",
    "# Drop unnecessary columns\n",
    "df_clean = df_clean.drop(['SNo', 'Last Update'], axis=1)\n",
    "\n",
    "df_clean.head()"
   ]
  },
  {
   "cell_type": "code",
   "execution_count": null,
   "id": "a641d612",
   "metadata": {},
   "outputs": [],
   "source": [
    "# Handling missing values\n",
    "# Fill NaN values in State column with 'Unknown'\n",
    "df_clean['State'] = df_clean['State'].fillna('Unknown')\n",
    "\n",
    "# Fill NaN values in numeric columns with 0\n",
    "df_clean[['Confirmed', 'Deaths', 'Recovered']] = df_clean[['Confirmed', 'Deaths', 'Recovered']].fillna(0)\n",
    "\n",
    "# Verify no more missing values\n",
    "df_clean.isnull().sum()"
   ]
  },
  {
   "cell_type": "markdown",
   "id": "017534bc",
   "metadata": {},
   "source": [
    "## 6. Data Analysis and Aggregation\n",
    "\n",
    "Pandas excels at grouping, summarizing, and transforming data."
   ]
  },
  {
   "cell_type": "code",
   "execution_count": null,
   "id": "23d0ae52",
   "metadata": {},
   "outputs": [],
   "source": [
    "# Let's group by country and date to get a daily summary\n",
    "country_date_summary = df_clean.groupby(['Country', 'Date'])[['Confirmed', 'Deaths', 'Recovered']].sum().reset_index()\n",
    "country_date_summary.head()"
   ]
  },
  {
   "cell_type": "code",
   "execution_count": null,
   "id": "a9ebc435",
   "metadata": {},
   "outputs": [],
   "source": [
    "# Find the countries with the highest confirmed cases\n",
    "latest_date = df_clean['Date'].max()\n",
    "latest_data = df_clean[df_clean['Date'] == latest_date]\n",
    "\n",
    "top_countries = latest_data.groupby('Country')['Confirmed'].sum().sort_values(ascending=False).head(10)\n",
    "top_countries"
   ]
  },
  {
   "cell_type": "code",
   "execution_count": null,
   "id": "262b927c",
   "metadata": {},
   "outputs": [],
   "source": [
    "# Calculate death rate for each country (Deaths/Confirmed)\n",
    "country_totals = df_clean.groupby('Country')[['Confirmed', 'Deaths', 'Recovered']].sum()\n",
    "country_totals['Death_Rate'] = (country_totals['Deaths'] / country_totals['Confirmed'] * 100).round(2)\n",
    "\n",
    "# Show countries with at least 1000 confirmed cases, sorted by death rate\n",
    "high_cases_countries = country_totals[country_totals['Confirmed'] >= 1000].sort_values('Death_Rate', ascending=False)\n",
    "high_cases_countries.head(10)"
   ]
  },
  {
   "cell_type": "code",
   "execution_count": null,
   "id": "7704c582",
   "metadata": {},
   "outputs": [],
   "source": [
    "# Getting time series data for specific countries\n",
    "countries_of_interest = ['US', 'India', 'Brazil', 'UK', 'Russia']\n",
    "timeline_data = country_date_summary[country_date_summary['Country'].isin(countries_of_interest)]\n",
    "\n",
    "# Pivot the data to have countries as columns and dates as index\n",
    "confirmed_timeline = timeline_data.pivot(index='Date', columns='Country', values='Confirmed')\n",
    "confirmed_timeline.tail()"
   ]
  },
  {
   "cell_type": "markdown",
   "id": "2a2017d8",
   "metadata": {},
   "source": [
    "## 7. Advanced Operations\n",
    "\n",
    "Let's explore some more advanced pandas operations."
   ]
  },
  {
   "cell_type": "code",
   "execution_count": null,
   "id": "59da35b3",
   "metadata": {},
   "outputs": [],
   "source": [
    "# Calculate daily new cases instead of cumulative\n",
    "# First, get a single country to demonstrate\n",
    "us_data = country_date_summary[country_date_summary['Country'] == 'US'].sort_values('Date')\n",
    "\n",
    "# Calculate daily changes\n",
    "us_data['New_Confirmed'] = us_data['Confirmed'].diff()\n",
    "us_data['New_Deaths'] = us_data['Deaths'].diff()\n",
    "us_data['New_Recovered'] = us_data['Recovered'].diff()\n",
    "\n",
    "# Replace NaN with 0 (first row will be NaN due to diff())\n",
    "us_data = us_data.fillna({'New_Confirmed': 0, 'New_Deaths': 0, 'New_Recovered': 0})\n",
    "\n",
    "# Show results\n",
    "us_data.head(10)"
   ]
  },
  {
   "cell_type": "code",
   "execution_count": null,
   "id": "507d93b9",
   "metadata": {},
   "outputs": [],
   "source": [
    "# Using rolling window functions to smooth data (7-day moving average)\n",
    "us_data['7d_avg_new_cases'] = us_data['New_Confirmed'].rolling(window=7).mean()\n",
    "us_data['7d_avg_new_deaths'] = us_data['New_Deaths'].rolling(window=7).mean()\n",
    "\n",
    "# Show results\n",
    "us_data[['Date', 'New_Confirmed', '7d_avg_new_cases', 'New_Deaths', '7d_avg_new_deaths']].tail(10)"
   ]
  },
  {
   "cell_type": "markdown",
   "id": "509fe69d",
   "metadata": {},
   "source": [
    "## 8. Data Visualization with Pandas\n",
    "\n",
    "Pandas integrates well with matplotlib to create visualizations directly from DataFrames."
   ]
  },
  {
   "cell_type": "code",
   "execution_count": null,
   "id": "0c68aef1",
   "metadata": {},
   "outputs": [],
   "source": [
    "# Plotting top 10 countries by confirmed cases\n",
    "plt.figure(figsize=(12, 6))\n",
    "top_countries.plot(kind='bar', color='skyblue')\n",
    "plt.title('Top 10 Countries by COVID-19 Confirmed Cases')\n",
    "plt.xlabel('Country')\n",
    "plt.ylabel('Confirmed Cases')\n",
    "plt.xticks(rotation=45)\n",
    "plt.tight_layout()\n",
    "plt.show()"
   ]
  },
  {
   "cell_type": "code",
   "execution_count": null,
   "id": "772893ed",
   "metadata": {},
   "outputs": [],
   "source": [
    "# Time series plot of confirmed cases for selected countries\n",
    "plt.figure(figsize=(14, 7))\n",
    "for country in countries_of_interest:\n",
    "    if country in confirmed_timeline.columns:\n",
    "        plt.plot(confirmed_timeline.index, confirmed_timeline[country], label=country)\n",
    "\n",
    "plt.title('COVID-19 Confirmed Cases Over Time')\n",
    "plt.xlabel('Date')\n",
    "plt.ylabel('Confirmed Cases')\n",
    "plt.legend()\n",
    "plt.grid(True)\n",
    "plt.tight_layout()\n",
    "plt.show()"
   ]
  },
  {
   "cell_type": "code",
   "execution_count": null,
   "id": "2af60619",
   "metadata": {},
   "outputs": [],
   "source": [
    "# Visualizing daily new cases and 7-day moving average for US\n",
    "plt.figure(figsize=(14, 7))\n",
    "plt.bar(us_data['Date'], us_data['New_Confirmed'], color='skyblue', alpha=0.6, label='Daily New Cases')\n",
    "plt.plot(us_data['Date'], us_data['7d_avg_new_cases'], color='red', linewidth=2, label='7-day Moving Average')\n",
    "plt.title('US Daily New COVID-19 Cases')\n",
    "plt.xlabel('Date')\n",
    "plt.ylabel('Number of Cases')\n",
    "plt.legend()\n",
    "plt.grid(True, alpha=0.3)\n",
    "plt.tight_layout()\n",
    "plt.show()"
   ]
  },
  {
   "cell_type": "markdown",
   "id": "2029a611",
   "metadata": {},
   "source": [
    "## 9. Merging and Joining DataFrames\n",
    "\n",
    "Pandas provides powerful tools for combining multiple datasets."
   ]
  },
  {
   "cell_type": "code",
   "execution_count": null,
   "id": "45d2a300",
   "metadata": {},
   "outputs": [],
   "source": [
    "# Create a simple DataFrame with country population data\n",
    "population_data = pd.DataFrame({\n",
    "    'Country': ['US', 'India', 'Brazil', 'UK', 'Russia', 'France', 'Italy', 'Germany', 'Spain', 'China'],\n",
    "    'Population': [331000000, 1380000000, 212000000, 67000000, 146000000, \n",
    "                  67000000, 60000000, 83000000, 47000000, 1400000000]\n",
    "})\n",
    "\n",
    "population_data"
   ]
  },
  {
   "cell_type": "code",
   "execution_count": null,
   "id": "3ef179cb",
   "metadata": {},
   "outputs": [],
   "source": [
    "# Merge COVID data with population data\n",
    "# First, get the latest COVID data for each country\n",
    "latest_country_data = latest_data.groupby('Country')[['Confirmed', 'Deaths', 'Recovered']].sum().reset_index()\n",
    "\n",
    "# Merge with population data\n",
    "merged_data = pd.merge(latest_country_data, population_data, on='Country', how='inner')\n",
    "\n",
    "# Calculate cases per million population\n",
    "merged_data['Cases_Per_Million'] = (merged_data['Confirmed'] / merged_data['Population'] * 1000000).round(2)\n",
    "merged_data['Deaths_Per_Million'] = (merged_data['Deaths'] / merged_data['Population'] * 1000000).round(2)\n",
    "\n",
    "# Sort by cases per million\n",
    "merged_data.sort_values('Cases_Per_Million', ascending=False)"
   ]
  },
  {
   "cell_type": "markdown",
   "id": "0d29fac6",
   "metadata": {},
   "source": [
    "## 10. Exporting Data\n",
    "\n",
    "Pandas makes it easy to export data to various formats."
   ]
  },
  {
   "cell_type": "code",
   "execution_count": null,
   "id": "9a01011a",
   "metadata": {},
   "outputs": [],
   "source": [
    "# Export merged data to CSV\n",
    "# merged_data.to_csv('covid_with_population.csv', index=False)\n",
    "\n",
    "# Export to Excel\n",
    "# merged_data.to_excel('covid_with_population.xlsx', index=False)\n",
    "\n",
    "# Export to JSON\n",
    "# merged_data.to_json('covid_with_population.json', orient='records')"
   ]
  },
  {
   "cell_type": "markdown",
   "id": "d222c3ed",
   "metadata": {},
   "source": [
    "## Summary\n",
    "\n",
    "In this notebook, we've covered the basics of pandas:\n",
    "\n",
    "1. Creating DataFrames\n",
    "2. Reading data from CSV files\n",
    "3. Performing basic DataFrame operations\n",
    "4. Filtering and querying data\n",
    "5. Using groupby and aggregations\n",
    "6. Exporting data to CSV files\n",
    "\n",
    "These operations form the foundation of data manipulation with pandas and can be combined in many ways to handle complex data tasks."
   ]
  }
 ],
 "metadata": {
  "kernelspec": {
   "display_name": ".venv",
   "language": "python",
   "name": "python3"
  },
  "language_info": {
   "codemirror_mode": {
    "name": "ipython",
    "version": 3
   },
   "file_extension": ".py",
   "mimetype": "text/x-python",
   "name": "python",
   "nbconvert_exporter": "python",
   "pygments_lexer": "ipython3",
   "version": "3.13.2"
  }
 },
 "nbformat": 4,
 "nbformat_minor": 5
}
