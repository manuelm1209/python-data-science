{
 "cells": [
  {
   "cell_type": "markdown",
   "id": "28e02737",
   "metadata": {},
   "source": [
    "# Pandas Examples Notebook\n",
    "\n",
    "This notebook demonstrates common operations and functionalities of the pandas library for data manipulation and analysis in Python."
   ]
  },
  {
   "cell_type": "markdown",
   "id": "74e90a39",
   "metadata": {},
   "source": [
    "## Import Required Libraries\n",
    "\n",
    "Import pandas and other necessary libraries like numpy for data manipulation."
   ]
  },
  {
   "cell_type": "code",
   "execution_count": null,
   "id": "421e4e0c",
   "metadata": {},
   "outputs": [],
   "source": [
    "# Import necessary libraries\n",
    "import pandas as pd\n",
    "import numpy as np\n",
    "import matplotlib.pyplot as plt\n",
    "\n",
    "# Display version information\n",
    "print(f\"Pandas version: {pd.__version__}\")\n",
    "print(f\"NumPy version: {np.__version__}\")"
   ]
  },
  {
   "cell_type": "markdown",
   "id": "7967e529",
   "metadata": {},
   "source": [
    "## Create a DataFrame\n",
    "\n",
    "Demonstrate how to create a pandas DataFrame from a dictionary or list."
   ]
  },
  {
   "cell_type": "code",
   "execution_count": null,
   "id": "6700f586",
   "metadata": {},
   "outputs": [],
   "source": [
    "# Method 1: Create DataFrame from a dictionary\n",
    "data_dict = {\n",
    "    'Name': ['John', 'Anna', 'Peter', 'Linda'],\n",
    "    'Age': [28, 34, 29, 42],\n",
    "    'City': ['New York', 'Boston', 'Chicago', 'Seattle'],\n",
    "    'Salary': [65000, 72000, 58000, 93000]\n",
    "}\n",
    "\n",
    "df1 = pd.DataFrame(data_dict)\n",
    "print(\"DataFrame from dictionary:\")\n",
    "display(df1)\n",
    "\n",
    "# Method 2: Create DataFrame from a list of lists\n",
    "data_list = [\n",
    "    ['John', 28, 'New York', 65000],\n",
    "    ['Anna', 34, 'Boston', 72000],\n",
    "    ['Peter', 29, 'Chicago', 58000],\n",
    "    ['Linda', 42, 'Seattle', 93000]\n",
    "]\n",
    "\n",
    "df2 = pd.DataFrame(data_list, columns=['Name', 'Age', 'City', 'Salary'])\n",
    "print(\"\\nDataFrame from list:\")\n",
    "display(df2)"
   ]
  },
  {
   "cell_type": "markdown",
   "id": "132bcf2d",
   "metadata": {},
   "source": [
    "## Read Data from a CSV File\n",
    "\n",
    "Show how to read data from a CSV file into a pandas DataFrame using read_csv()."
   ]
  },
  {
   "cell_type": "code",
   "execution_count": null,
   "id": "1ea0f5ef",
   "metadata": {},
   "outputs": [],
   "source": [
    "# Let's first create a sample CSV file\n",
    "df1.to_csv('sample_data.csv', index=False)\n",
    "\n",
    "# Now let's read it back\n",
    "df_from_csv = pd.read_csv('sample_data.csv')\n",
    "print(\"DataFrame read from CSV:\")\n",
    "display(df_from_csv)\n",
    "\n",
    "# Reading with specific options\n",
    "df_with_options = pd.read_csv('sample_data.csv', \n",
    "                              na_values=['NA', 'N/A', 'Missing'],  # Values to treat as NaN\n",
    "                              dtype={'Age': 'int32', 'Salary': 'float'},  # Column data types\n",
    "                              nrows=3)  # Read only first 3 rows\n",
    "\n",
    "print(\"\\nDataFrame read with specific options:\")\n",
    "display(df_with_options)"
   ]
  },
  {
   "cell_type": "markdown",
   "id": "8a288e91",
   "metadata": {},
   "source": [
    "## DataFrame Operations\n",
    "\n",
    "Perform basic operations like adding, renaming, or dropping columns, and modifying data."
   ]
  },
  {
   "cell_type": "code",
   "execution_count": null,
   "id": "4bbdc16a",
   "metadata": {},
   "outputs": [],
   "source": [
    "# Start with our original DataFrame\n",
    "df = df1.copy()\n",
    "print(\"Original DataFrame:\")\n",
    "display(df)\n",
    "\n",
    "# Add a new column\n",
    "df['Experience'] = [3, 8, 4, 12]\n",
    "print(\"\\nAfter adding 'Experience' column:\")\n",
    "display(df)\n",
    "\n",
    "# Add a calculated column\n",
    "df['Salary_per_year_experience'] = df['Salary'] / df['Experience']\n",
    "print(\"\\nAfter adding calculated column:\")\n",
    "display(df)\n",
    "\n",
    "# Rename columns\n",
    "df = df.rename(columns={'Salary': 'Annual_Salary', 'City': 'Location'})\n",
    "print(\"\\nAfter renaming columns:\")\n",
    "display(df)\n",
    "\n",
    "# Drop a column\n",
    "df = df.drop('Salary_per_year_experience', axis=1)\n",
    "print(\"\\nAfter dropping column:\")\n",
    "display(df)\n",
    "\n",
    "# Modify values\n",
    "df.loc[df['Name'] == 'John', 'Experience'] = 5\n",
    "print(\"\\nAfter modifying John's experience:\")\n",
    "display(df)"
   ]
  },
  {
   "cell_type": "markdown",
   "id": "a7931c0d",
   "metadata": {},
   "source": [
    "## Filtering and Querying Data\n",
    "\n",
    "Use conditional filtering and query() to extract specific rows from the DataFrame."
   ]
  },
  {
   "cell_type": "code",
   "execution_count": null,
   "id": "c78c1b79",
   "metadata": {},
   "outputs": [],
   "source": [
    "# Start with our modified DataFrame\n",
    "print(\"Current DataFrame:\")\n",
    "display(df)\n",
    "\n",
    "# Basic filtering with boolean masks\n",
    "high_salary = df[df['Annual_Salary'] > 70000]\n",
    "print(\"\\nEmployees with salary over 70000:\")\n",
    "display(high_salary)\n",
    "\n",
    "# Multiple conditions\n",
    "young_high_earners = df[(df['Age'] < 35) & (df['Annual_Salary'] > 60000)]\n",
    "print(\"\\nEmployees under 35 with salary over 60000:\")\n",
    "display(young_high_earners)\n",
    "\n",
    "# Using query method\n",
    "experienced_employees = df.query(\"Experience > 5\")\n",
    "print(\"\\nEmployees with more than 5 years of experience:\")\n",
    "display(experienced_employees)\n",
    "\n",
    "# Filtering with string methods\n",
    "boston_employees = df[df['Location'].str.contains('Boston')]\n",
    "print(\"\\nEmployees in Boston:\")\n",
    "display(boston_employees)\n",
    "\n",
    "# Getting unique values\n",
    "unique_locations = df['Location'].unique()\n",
    "print(\"\\nUnique locations:\", unique_locations)"
   ]
  },
  {
   "cell_type": "markdown",
   "id": "de75ce64",
   "metadata": {},
   "source": [
    "## Group By and Aggregations\n",
    "\n",
    "Demonstrate groupby() and aggregation functions like sum(), mean(), and count()."
   ]
  },
  {
   "cell_type": "code",
   "execution_count": null,
   "id": "7ea8813d",
   "metadata": {},
   "outputs": [],
   "source": [
    "# First, let's create a larger dataset for better demonstration\n",
    "data = {\n",
    "    'Department': ['IT', 'HR', 'Finance', 'IT', 'HR', 'Finance', 'IT', 'Marketing'],\n",
    "    'Employee': ['John', 'Anna', 'Peter', 'Linda', 'Bob', 'Sarah', 'Michael', 'Emma'],\n",
    "    'Salary': [65000, 72000, 58000, 93000, 69000, 82000, 75000, 67000],\n",
    "    'Years': [3, 8, 4, 12, 5, 9, 6, 4],\n",
    "    'Projects': [5, 3, 4, 7, 2, 5, 6, 3]\n",
    "}\n",
    "\n",
    "df_department = pd.DataFrame(data)\n",
    "print(\"Department DataFrame:\")\n",
    "display(df_department)\n",
    "\n",
    "# Group by Department and calculate mean\n",
    "dept_avg = df_department.groupby('Department').mean()\n",
    "print(\"\\nAverage metrics by department:\")\n",
    "display(dept_avg)\n",
    "\n",
    "# Group by Department and calculate multiple aggregations\n",
    "dept_stats = df_department.groupby('Department').agg({\n",
    "    'Salary': ['mean', 'min', 'max', 'sum'],\n",
    "    'Projects': ['mean', 'sum'],\n",
    "    'Years': ['mean', 'max']\n",
    "})\n",
    "print(\"\\nMultiple aggregations by department:\")\n",
    "display(dept_stats)\n",
    "\n",
    "# Count employees by department\n",
    "dept_count = df_department.groupby('Department').size()\n",
    "print(\"\\nNumber of employees by department:\")\n",
    "display(dept_count)\n",
    "\n",
    "# Group by multiple columns\n",
    "multi_group = df_department.groupby(['Department', \n",
    "                                     pd.cut(df_department['Years'], bins=[0, 5, 10, 15], \n",
    "                                            labels=['Junior', 'Mid', 'Senior'])\n",
    "                                    ]).mean()\n",
    "print(\"\\nMetrics by department and experience level:\")\n",
    "display(multi_group)"
   ]
  },
  {
   "cell_type": "markdown",
   "id": "f7970114",
   "metadata": {},
   "source": [
    "## Export Data to a CSV File\n",
    "\n",
    "Show how to export a DataFrame to a CSV file using to_csv()."
   ]
  },
  {
   "cell_type": "code",
   "execution_count": null,
   "id": "d046f482",
   "metadata": {},
   "outputs": [],
   "source": [
    "# Basic export to CSV\n",
    "df_department.to_csv('department_data.csv', index=False)\n",
    "print(\"Basic CSV export completed to: 'department_data.csv'\")\n",
    "\n",
    "# Export with specific options\n",
    "dept_stats.to_csv('department_stats.csv',\n",
    "                 float_format='%.2f',  # Format floats to 2 decimal places\n",
    "                 encoding='utf-8',     # Specify encoding\n",
    "                 date_format='%Y-%m-%d')  # Format for date columns if any\n",
    "print(\"Detailed statistics export completed to: 'department_stats.csv'\")\n",
    "\n",
    "# Export specific columns\n",
    "df_department[['Department', 'Employee', 'Salary']].to_csv(\n",
    "    'employee_salaries.csv', index=False)\n",
    "print(\"Filtered columns export completed to: 'employee_salaries.csv'\")\n",
    "\n",
    "# Export to Excel instead of CSV (if openpyxl is installed)\n",
    "try:\n",
    "    df_department.to_excel('department_data.xlsx', sheet_name='Employees', index=False)\n",
    "    print(\"Excel export completed to: 'department_data.xlsx'\")\n",
    "except ImportError:\n",
    "    print(\"Excel export requires openpyxl. Install with: pip install openpyxl\")"
   ]
  },
  {
   "cell_type": "markdown",
   "id": "d222c3ed",
   "metadata": {},
   "source": [
    "## Summary\n",
    "\n",
    "In this notebook, we've covered the basics of pandas:\n",
    "\n",
    "1. Creating DataFrames\n",
    "2. Reading data from CSV files\n",
    "3. Performing basic DataFrame operations\n",
    "4. Filtering and querying data\n",
    "5. Using groupby and aggregations\n",
    "6. Exporting data to CSV files\n",
    "\n",
    "These operations form the foundation of data manipulation with pandas and can be combined in many ways to handle complex data tasks."
   ]
  }
 ],
 "metadata": {
  "language_info": {
   "name": "python"
  }
 },
 "nbformat": 4,
 "nbformat_minor": 5
}
