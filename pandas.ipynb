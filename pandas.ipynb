{
 "cells": [
  {
   "cell_type": "markdown",
   "id": "d9d6a766",
   "metadata": {},
   "source": [
    "# Pandas"
   ]
  },
  {
   "cell_type": "code",
   "execution_count": 1,
   "id": "82f34fd4",
   "metadata": {},
   "outputs": [],
   "source": [
    "import numpy as np\n",
    "import pandas as pd\n",
    "import matplotlib.pyplot as plt"
   ]
  },
  {
   "cell_type": "markdown",
   "id": "a31387d2",
   "metadata": {},
   "source": [
    "Print Pandas version"
   ]
  },
  {
   "cell_type": "code",
   "execution_count": 6,
   "id": "ee20168c",
   "metadata": {},
   "outputs": [
    {
     "name": "stdout",
     "output_type": "stream",
     "text": [
      "2.2.3\n"
     ]
    }
   ],
   "source": [
    "print(pd.__version__)"
   ]
  },
  {
   "cell_type": "code",
   "execution_count": 7,
   "id": "fd940f51",
   "metadata": {},
   "outputs": [],
   "source": [
    "A = pd.Series([0.25, 0.5, 0.75, 1.0], index=['a', 'b', 'c', 'd'])"
   ]
  },
  {
   "cell_type": "markdown",
   "id": "09ea7e88",
   "metadata": {},
   "source": [
    "Call the values"
   ]
  },
  {
   "cell_type": "code",
   "execution_count": 8,
   "id": "c84bd9c8",
   "metadata": {},
   "outputs": [
    {
     "data": {
      "text/plain": [
       "array([0.25, 0.5 , 0.75, 1.  ])"
      ]
     },
     "execution_count": 8,
     "metadata": {},
     "output_type": "execute_result"
    }
   ],
   "source": [
    "A.values"
   ]
  },
  {
   "cell_type": "markdown",
   "id": "108e985d",
   "metadata": {},
   "source": [
    "Call the index"
   ]
  },
  {
   "cell_type": "code",
   "execution_count": 9,
   "id": "733d8344",
   "metadata": {},
   "outputs": [
    {
     "data": {
      "text/plain": [
       "Index(['a', 'b', 'c', 'd'], dtype='object')"
      ]
     },
     "execution_count": 9,
     "metadata": {},
     "output_type": "execute_result"
    }
   ],
   "source": [
    "A.index"
   ]
  },
  {
   "cell_type": "markdown",
   "id": "bad6d8fd",
   "metadata": {},
   "source": [
    "Pandas uses NumPy"
   ]
  },
  {
   "cell_type": "code",
   "execution_count": 10,
   "id": "369c0f40",
   "metadata": {},
   "outputs": [
    {
     "data": {
      "text/plain": [
       "numpy.ndarray"
      ]
     },
     "execution_count": 10,
     "metadata": {},
     "output_type": "execute_result"
    }
   ],
   "source": [
    "type(A.values)"
   ]
  },
  {
   "cell_type": "markdown",
   "id": "a95d5ee0",
   "metadata": {},
   "source": [
    "Access a value using the index"
   ]
  },
  {
   "cell_type": "code",
   "execution_count": 13,
   "id": "df882c3a",
   "metadata": {},
   "outputs": [
    {
     "data": {
      "text/plain": [
       "np.float64(0.75)"
      ]
     },
     "execution_count": 13,
     "metadata": {},
     "output_type": "execute_result"
    }
   ],
   "source": [
    "A['c']"
   ]
  },
  {
   "cell_type": "markdown",
   "id": "fd0684e2",
   "metadata": {},
   "source": [
    "### Slicing"
   ]
  },
  {
   "cell_type": "code",
   "execution_count": 14,
   "id": "72f91544",
   "metadata": {},
   "outputs": [
    {
     "data": {
      "text/plain": [
       "a    0.25\n",
       "b    0.50\n",
       "c    0.75\n",
       "dtype: float64"
      ]
     },
     "execution_count": 14,
     "metadata": {},
     "output_type": "execute_result"
    }
   ],
   "source": [
    "A['a':'c']"
   ]
  },
  {
   "cell_type": "code",
   "execution_count": 15,
   "id": "d150afb1",
   "metadata": {},
   "outputs": [],
   "source": [
    "grades_dict = {'A': 4,'A-': 3.5,'B': 3,'B-': 2.5,'B': 2}\n",
    "grades = pd.Series(grades_dict)"
   ]
  },
  {
   "cell_type": "code",
   "execution_count": 16,
   "id": "8c20c046",
   "metadata": {},
   "outputs": [
    {
     "data": {
      "text/plain": [
       "A     4.0\n",
       "A-    3.5\n",
       "B     2.0\n",
       "B-    2.5\n",
       "dtype: float64"
      ]
     },
     "execution_count": 16,
     "metadata": {},
     "output_type": "execute_result"
    }
   ],
   "source": [
    "grades"
   ]
  },
  {
   "cell_type": "code",
   "execution_count": 17,
   "id": "eddfb6ca",
   "metadata": {},
   "outputs": [],
   "source": [
    "marks_dict = {'A': 85,'A-':80,'B':75,'B-':70,'B': 65}\n",
    "marks = pd.Series(marks_dict)"
   ]
  },
  {
   "cell_type": "code",
   "execution_count": 18,
   "id": "d2828fe8",
   "metadata": {},
   "outputs": [
    {
     "data": {
      "text/plain": [
       "A     85\n",
       "A-    80\n",
       "B     65\n",
       "B-    70\n",
       "dtype: int64"
      ]
     },
     "execution_count": 18,
     "metadata": {},
     "output_type": "execute_result"
    }
   ],
   "source": [
    "marks"
   ]
  },
  {
   "cell_type": "markdown",
   "id": "64aee78f",
   "metadata": {},
   "source": [
    "# Dataflare"
   ]
  },
  {
   "cell_type": "code",
   "execution_count": 22,
   "id": "b9f8c947",
   "metadata": {},
   "outputs": [
    {
     "data": {
      "text/plain": [
       "A     85\n",
       "A-    80\n",
       "B     65\n",
       "B-    70\n",
       "dtype: int64"
      ]
     },
     "execution_count": 22,
     "metadata": {},
     "output_type": "execute_result"
    }
   ],
   "source": [
    "marks"
   ]
  },
  {
   "cell_type": "code",
   "execution_count": 19,
   "id": "ae80ed1c",
   "metadata": {},
   "outputs": [
    {
     "data": {
      "text/plain": [
       "A     4.0\n",
       "A-    3.5\n",
       "B     2.0\n",
       "B-    2.5\n",
       "dtype: float64"
      ]
     },
     "execution_count": 19,
     "metadata": {},
     "output_type": "execute_result"
    }
   ],
   "source": [
    "grades"
   ]
  },
  {
   "cell_type": "code",
   "execution_count": 23,
   "id": "f4057745",
   "metadata": {},
   "outputs": [
    {
     "data": {
      "application/vnd.microsoft.datawrangler.viewer.v0+json": {
       "columns": [
        {
         "name": "index",
         "rawType": "object",
         "type": "string"
        },
        {
         "name": "marks",
         "rawType": "int64",
         "type": "integer"
        },
        {
         "name": "grades",
         "rawType": "float64",
         "type": "float"
        }
       ],
       "conversionMethod": "pd.DataFrame",
       "ref": "5123f33c-c597-4dfa-bf42-b0ca57a606e3",
       "rows": [
        [
         "A",
         "85",
         "4.0"
        ],
        [
         "A-",
         "80",
         "3.5"
        ],
        [
         "B",
         "65",
         "2.0"
        ],
        [
         "B-",
         "70",
         "2.5"
        ]
       ],
       "shape": {
        "columns": 2,
        "rows": 4
       }
      },
      "text/html": [
       "<div>\n",
       "<style scoped>\n",
       "    .dataframe tbody tr th:only-of-type {\n",
       "        vertical-align: middle;\n",
       "    }\n",
       "\n",
       "    .dataframe tbody tr th {\n",
       "        vertical-align: top;\n",
       "    }\n",
       "\n",
       "    .dataframe thead th {\n",
       "        text-align: right;\n",
       "    }\n",
       "</style>\n",
       "<table border=\"1\" class=\"dataframe\">\n",
       "  <thead>\n",
       "    <tr style=\"text-align: right;\">\n",
       "      <th></th>\n",
       "      <th>marks</th>\n",
       "      <th>grades</th>\n",
       "    </tr>\n",
       "  </thead>\n",
       "  <tbody>\n",
       "    <tr>\n",
       "      <th>A</th>\n",
       "      <td>85</td>\n",
       "      <td>4.0</td>\n",
       "    </tr>\n",
       "    <tr>\n",
       "      <th>A-</th>\n",
       "      <td>80</td>\n",
       "      <td>3.5</td>\n",
       "    </tr>\n",
       "    <tr>\n",
       "      <th>B</th>\n",
       "      <td>65</td>\n",
       "      <td>2.0</td>\n",
       "    </tr>\n",
       "    <tr>\n",
       "      <th>B-</th>\n",
       "      <td>70</td>\n",
       "      <td>2.5</td>\n",
       "    </tr>\n",
       "  </tbody>\n",
       "</table>\n",
       "</div>"
      ],
      "text/plain": [
       "    marks  grades\n",
       "A      85     4.0\n",
       "A-     80     3.5\n",
       "B      65     2.0\n",
       "B-     70     2.5"
      ]
     },
     "execution_count": 23,
     "metadata": {},
     "output_type": "execute_result"
    }
   ],
   "source": [
    "D = pd.DataFrame({'marks': marks, 'grades': grades})\n",
    "D"
   ]
  },
  {
   "cell_type": "markdown",
   "id": "5adaefb7",
   "metadata": {},
   "source": []
  },
  {
   "cell_type": "markdown",
   "id": "07baa954",
   "metadata": {},
   "source": [
    "transpose dataframe"
   ]
  },
  {
   "cell_type": "code",
   "execution_count": 26,
   "id": "110010c2",
   "metadata": {},
   "outputs": [
    {
     "data": {
      "application/vnd.microsoft.datawrangler.viewer.v0+json": {
       "columns": [
        {
         "name": "index",
         "rawType": "object",
         "type": "string"
        },
        {
         "name": "A",
         "rawType": "float64",
         "type": "float"
        },
        {
         "name": "A-",
         "rawType": "float64",
         "type": "float"
        },
        {
         "name": "B",
         "rawType": "float64",
         "type": "float"
        },
        {
         "name": "B-",
         "rawType": "float64",
         "type": "float"
        }
       ],
       "conversionMethod": "pd.DataFrame",
       "ref": "b75d6793-cfdb-47b0-bb2a-291ad1ed2e17",
       "rows": [
        [
         "marks",
         "85.0",
         "80.0",
         "65.0",
         "70.0"
        ],
        [
         "grades",
         "4.0",
         "3.5",
         "2.0",
         "2.5"
        ]
       ],
       "shape": {
        "columns": 4,
        "rows": 2
       }
      },
      "text/html": [
       "<div>\n",
       "<style scoped>\n",
       "    .dataframe tbody tr th:only-of-type {\n",
       "        vertical-align: middle;\n",
       "    }\n",
       "\n",
       "    .dataframe tbody tr th {\n",
       "        vertical-align: top;\n",
       "    }\n",
       "\n",
       "    .dataframe thead th {\n",
       "        text-align: right;\n",
       "    }\n",
       "</style>\n",
       "<table border=\"1\" class=\"dataframe\">\n",
       "  <thead>\n",
       "    <tr style=\"text-align: right;\">\n",
       "      <th></th>\n",
       "      <th>A</th>\n",
       "      <th>A-</th>\n",
       "      <th>B</th>\n",
       "      <th>B-</th>\n",
       "    </tr>\n",
       "  </thead>\n",
       "  <tbody>\n",
       "    <tr>\n",
       "      <th>marks</th>\n",
       "      <td>85.0</td>\n",
       "      <td>80.0</td>\n",
       "      <td>65.0</td>\n",
       "      <td>70.0</td>\n",
       "    </tr>\n",
       "    <tr>\n",
       "      <th>grades</th>\n",
       "      <td>4.0</td>\n",
       "      <td>3.5</td>\n",
       "      <td>2.0</td>\n",
       "      <td>2.5</td>\n",
       "    </tr>\n",
       "  </tbody>\n",
       "</table>\n",
       "</div>"
      ],
      "text/plain": [
       "           A    A-     B    B-\n",
       "marks   85.0  80.0  65.0  70.0\n",
       "grades   4.0   3.5   2.0   2.5"
      ]
     },
     "execution_count": 26,
     "metadata": {},
     "output_type": "execute_result"
    }
   ],
   "source": [
    "D.T"
   ]
  },
  {
   "cell_type": "code",
   "execution_count": 27,
   "id": "91d1dbe6",
   "metadata": {},
   "outputs": [
    {
     "data": {
      "application/vnd.microsoft.datawrangler.viewer.v0+json": {
       "columns": [
        {
         "name": "index",
         "rawType": "object",
         "type": "string"
        },
        {
         "name": "marks",
         "rawType": "int64",
         "type": "integer"
        },
        {
         "name": "grades",
         "rawType": "float64",
         "type": "float"
        }
       ],
       "conversionMethod": "pd.DataFrame",
       "ref": "5a34fd9d-d23b-409d-a258-6d0f26adbe1f",
       "rows": [
        [
         "A",
         "85",
         "4.0"
        ],
        [
         "A-",
         "80",
         "3.5"
        ],
        [
         "B",
         "65",
         "2.0"
        ],
        [
         "B-",
         "70",
         "2.5"
        ]
       ],
       "shape": {
        "columns": 2,
        "rows": 4
       }
      },
      "text/html": [
       "<div>\n",
       "<style scoped>\n",
       "    .dataframe tbody tr th:only-of-type {\n",
       "        vertical-align: middle;\n",
       "    }\n",
       "\n",
       "    .dataframe tbody tr th {\n",
       "        vertical-align: top;\n",
       "    }\n",
       "\n",
       "    .dataframe thead th {\n",
       "        text-align: right;\n",
       "    }\n",
       "</style>\n",
       "<table border=\"1\" class=\"dataframe\">\n",
       "  <thead>\n",
       "    <tr style=\"text-align: right;\">\n",
       "      <th></th>\n",
       "      <th>marks</th>\n",
       "      <th>grades</th>\n",
       "    </tr>\n",
       "  </thead>\n",
       "  <tbody>\n",
       "    <tr>\n",
       "      <th>A</th>\n",
       "      <td>85</td>\n",
       "      <td>4.0</td>\n",
       "    </tr>\n",
       "    <tr>\n",
       "      <th>A-</th>\n",
       "      <td>80</td>\n",
       "      <td>3.5</td>\n",
       "    </tr>\n",
       "    <tr>\n",
       "      <th>B</th>\n",
       "      <td>65</td>\n",
       "      <td>2.0</td>\n",
       "    </tr>\n",
       "    <tr>\n",
       "      <th>B-</th>\n",
       "      <td>70</td>\n",
       "      <td>2.5</td>\n",
       "    </tr>\n",
       "  </tbody>\n",
       "</table>\n",
       "</div>"
      ],
      "text/plain": [
       "    marks  grades\n",
       "A      85     4.0\n",
       "A-     80     3.5\n",
       "B      65     2.0\n",
       "B-     70     2.5"
      ]
     },
     "execution_count": 27,
     "metadata": {},
     "output_type": "execute_result"
    }
   ],
   "source": [
    "D"
   ]
  },
  {
   "cell_type": "code",
   "execution_count": 28,
   "id": "1cd08ade",
   "metadata": {},
   "outputs": [
    {
     "data": {
      "text/plain": [
       "array([[85. ,  4. ],\n",
       "       [80. ,  3.5],\n",
       "       [65. ,  2. ],\n",
       "       [70. ,  2.5]])"
      ]
     },
     "execution_count": 28,
     "metadata": {},
     "output_type": "execute_result"
    }
   ],
   "source": [
    "D.values"
   ]
  },
  {
   "cell_type": "markdown",
   "id": "b6a788bd",
   "metadata": {},
   "source": [
    "Accessing specific values of the data frame."
   ]
  },
  {
   "cell_type": "code",
   "execution_count": 29,
   "id": "be841ed5",
   "metadata": {},
   "outputs": [
    {
     "data": {
      "text/plain": [
       "np.float64(65.0)"
      ]
     },
     "execution_count": 29,
     "metadata": {},
     "output_type": "execute_result"
    }
   ],
   "source": [
    "D.values[2,0]"
   ]
  },
  {
   "cell_type": "code",
   "execution_count": 30,
   "id": "2007f467",
   "metadata": {},
   "outputs": [
    {
     "data": {
      "text/plain": [
       "Index(['marks', 'grades'], dtype='object')"
      ]
     },
     "execution_count": 30,
     "metadata": {},
     "output_type": "execute_result"
    }
   ],
   "source": [
    "D.columns"
   ]
  },
  {
   "cell_type": "code",
   "execution_count": 31,
   "id": "639f38af",
   "metadata": {},
   "outputs": [
    {
     "data": {
      "text/plain": [
       "Index(['A', 'A-', 'B', 'B-'], dtype='object')"
      ]
     },
     "execution_count": 31,
     "metadata": {},
     "output_type": "execute_result"
    }
   ],
   "source": [
    "D.index"
   ]
  },
  {
   "cell_type": "markdown",
   "id": "84c736c9",
   "metadata": {},
   "source": [
    "Adding another column"
   ]
  },
  {
   "cell_type": "code",
   "execution_count": 32,
   "id": "0252fc7f",
   "metadata": {},
   "outputs": [
    {
     "data": {
      "application/vnd.microsoft.datawrangler.viewer.v0+json": {
       "columns": [
        {
         "name": "index",
         "rawType": "object",
         "type": "string"
        },
        {
         "name": "marks",
         "rawType": "int64",
         "type": "integer"
        },
        {
         "name": "grades",
         "rawType": "float64",
         "type": "float"
        }
       ],
       "conversionMethod": "pd.DataFrame",
       "ref": "94cc5140-13c8-488e-ac5d-242131577221",
       "rows": [
        [
         "A",
         "85",
         "4.0"
        ],
        [
         "A-",
         "80",
         "3.5"
        ],
        [
         "B",
         "65",
         "2.0"
        ],
        [
         "B-",
         "70",
         "2.5"
        ]
       ],
       "shape": {
        "columns": 2,
        "rows": 4
       }
      },
      "text/html": [
       "<div>\n",
       "<style scoped>\n",
       "    .dataframe tbody tr th:only-of-type {\n",
       "        vertical-align: middle;\n",
       "    }\n",
       "\n",
       "    .dataframe tbody tr th {\n",
       "        vertical-align: top;\n",
       "    }\n",
       "\n",
       "    .dataframe thead th {\n",
       "        text-align: right;\n",
       "    }\n",
       "</style>\n",
       "<table border=\"1\" class=\"dataframe\">\n",
       "  <thead>\n",
       "    <tr style=\"text-align: right;\">\n",
       "      <th></th>\n",
       "      <th>marks</th>\n",
       "      <th>grades</th>\n",
       "    </tr>\n",
       "  </thead>\n",
       "  <tbody>\n",
       "    <tr>\n",
       "      <th>A</th>\n",
       "      <td>85</td>\n",
       "      <td>4.0</td>\n",
       "    </tr>\n",
       "    <tr>\n",
       "      <th>A-</th>\n",
       "      <td>80</td>\n",
       "      <td>3.5</td>\n",
       "    </tr>\n",
       "    <tr>\n",
       "      <th>B</th>\n",
       "      <td>65</td>\n",
       "      <td>2.0</td>\n",
       "    </tr>\n",
       "    <tr>\n",
       "      <th>B-</th>\n",
       "      <td>70</td>\n",
       "      <td>2.5</td>\n",
       "    </tr>\n",
       "  </tbody>\n",
       "</table>\n",
       "</div>"
      ],
      "text/plain": [
       "    marks  grades\n",
       "A      85     4.0\n",
       "A-     80     3.5\n",
       "B      65     2.0\n",
       "B-     70     2.5"
      ]
     },
     "execution_count": 32,
     "metadata": {},
     "output_type": "execute_result"
    }
   ],
   "source": [
    "D"
   ]
  },
  {
   "cell_type": "code",
   "execution_count": 38,
   "id": "e539a7cd",
   "metadata": {},
   "outputs": [
    {
     "data": {
      "application/vnd.microsoft.datawrangler.viewer.v0+json": {
       "columns": [
        {
         "name": "index",
         "rawType": "object",
         "type": "string"
        },
        {
         "name": "marks",
         "rawType": "int64",
         "type": "integer"
        },
        {
         "name": "grades",
         "rawType": "float64",
         "type": "float"
        },
        {
         "name": "ScaledMarks",
         "rawType": "float64",
         "type": "float"
        }
       ],
       "conversionMethod": "pd.DataFrame",
       "ref": "44a94719-f5a4-4a37-83cd-77b35923ad10",
       "rows": [
        [
         "A",
         "85",
         "4.0",
         "8.5"
        ],
        [
         "A-",
         "80",
         "3.5",
         "8.0"
        ],
        [
         "B",
         "65",
         "2.0",
         "6.5"
        ],
        [
         "B-",
         "70",
         "2.5",
         "7.0"
        ]
       ],
       "shape": {
        "columns": 3,
        "rows": 4
       }
      },
      "text/html": [
       "<div>\n",
       "<style scoped>\n",
       "    .dataframe tbody tr th:only-of-type {\n",
       "        vertical-align: middle;\n",
       "    }\n",
       "\n",
       "    .dataframe tbody tr th {\n",
       "        vertical-align: top;\n",
       "    }\n",
       "\n",
       "    .dataframe thead th {\n",
       "        text-align: right;\n",
       "    }\n",
       "</style>\n",
       "<table border=\"1\" class=\"dataframe\">\n",
       "  <thead>\n",
       "    <tr style=\"text-align: right;\">\n",
       "      <th></th>\n",
       "      <th>marks</th>\n",
       "      <th>grades</th>\n",
       "      <th>ScaledMarks</th>\n",
       "    </tr>\n",
       "  </thead>\n",
       "  <tbody>\n",
       "    <tr>\n",
       "      <th>A</th>\n",
       "      <td>85</td>\n",
       "      <td>4.0</td>\n",
       "      <td>8.5</td>\n",
       "    </tr>\n",
       "    <tr>\n",
       "      <th>A-</th>\n",
       "      <td>80</td>\n",
       "      <td>3.5</td>\n",
       "      <td>8.0</td>\n",
       "    </tr>\n",
       "    <tr>\n",
       "      <th>B</th>\n",
       "      <td>65</td>\n",
       "      <td>2.0</td>\n",
       "      <td>6.5</td>\n",
       "    </tr>\n",
       "    <tr>\n",
       "      <th>B-</th>\n",
       "      <td>70</td>\n",
       "      <td>2.5</td>\n",
       "      <td>7.0</td>\n",
       "    </tr>\n",
       "  </tbody>\n",
       "</table>\n",
       "</div>"
      ],
      "text/plain": [
       "    marks  grades  ScaledMarks\n",
       "A      85     4.0          8.5\n",
       "A-     80     3.5          8.0\n",
       "B      65     2.0          6.5\n",
       "B-     70     2.5          7.0"
      ]
     },
     "execution_count": 38,
     "metadata": {},
     "output_type": "execute_result"
    }
   ],
   "source": [
    "D['ScaledMarks'] = D['marks'] / 10\n",
    "D"
   ]
  },
  {
   "cell_type": "markdown",
   "id": "5abad724",
   "metadata": {},
   "source": [
    "Deleting a column"
   ]
  },
  {
   "cell_type": "code",
   "execution_count": 39,
   "id": "b2007b91",
   "metadata": {},
   "outputs": [
    {
     "data": {
      "application/vnd.microsoft.datawrangler.viewer.v0+json": {
       "columns": [
        {
         "name": "index",
         "rawType": "object",
         "type": "string"
        },
        {
         "name": "marks",
         "rawType": "int64",
         "type": "integer"
        },
        {
         "name": "grades",
         "rawType": "float64",
         "type": "float"
        }
       ],
       "conversionMethod": "pd.DataFrame",
       "ref": "a9da2bd3-9e95-4529-8ff5-06b9645ad6f8",
       "rows": [
        [
         "A",
         "85",
         "4.0"
        ],
        [
         "A-",
         "80",
         "3.5"
        ],
        [
         "B",
         "65",
         "2.0"
        ],
        [
         "B-",
         "70",
         "2.5"
        ]
       ],
       "shape": {
        "columns": 2,
        "rows": 4
       }
      },
      "text/html": [
       "<div>\n",
       "<style scoped>\n",
       "    .dataframe tbody tr th:only-of-type {\n",
       "        vertical-align: middle;\n",
       "    }\n",
       "\n",
       "    .dataframe tbody tr th {\n",
       "        vertical-align: top;\n",
       "    }\n",
       "\n",
       "    .dataframe thead th {\n",
       "        text-align: right;\n",
       "    }\n",
       "</style>\n",
       "<table border=\"1\" class=\"dataframe\">\n",
       "  <thead>\n",
       "    <tr style=\"text-align: right;\">\n",
       "      <th></th>\n",
       "      <th>marks</th>\n",
       "      <th>grades</th>\n",
       "    </tr>\n",
       "  </thead>\n",
       "  <tbody>\n",
       "    <tr>\n",
       "      <th>A</th>\n",
       "      <td>85</td>\n",
       "      <td>4.0</td>\n",
       "    </tr>\n",
       "    <tr>\n",
       "      <th>A-</th>\n",
       "      <td>80</td>\n",
       "      <td>3.5</td>\n",
       "    </tr>\n",
       "    <tr>\n",
       "      <th>B</th>\n",
       "      <td>65</td>\n",
       "      <td>2.0</td>\n",
       "    </tr>\n",
       "    <tr>\n",
       "      <th>B-</th>\n",
       "      <td>70</td>\n",
       "      <td>2.5</td>\n",
       "    </tr>\n",
       "  </tbody>\n",
       "</table>\n",
       "</div>"
      ],
      "text/plain": [
       "    marks  grades\n",
       "A      85     4.0\n",
       "A-     80     3.5\n",
       "B      65     2.0\n",
       "B-     70     2.5"
      ]
     },
     "execution_count": 39,
     "metadata": {},
     "output_type": "execute_result"
    }
   ],
   "source": [
    "del D['ScaledMarks']\n",
    "D"
   ]
  },
  {
   "cell_type": "markdown",
   "id": "4d6673e0",
   "metadata": {},
   "source": [
    "Pandas Indexing"
   ]
  },
  {
   "cell_type": "code",
   "execution_count": 40,
   "id": "f620dd36",
   "metadata": {},
   "outputs": [
    {
     "data": {
      "application/vnd.microsoft.datawrangler.viewer.v0+json": {
       "columns": [
        {
         "name": "index",
         "rawType": "object",
         "type": "string"
        },
        {
         "name": "marks",
         "rawType": "int64",
         "type": "integer"
        },
        {
         "name": "grades",
         "rawType": "float64",
         "type": "float"
        }
       ],
       "conversionMethod": "pd.DataFrame",
       "ref": "28cff346-6451-428f-a00c-b6a2f6458e1e",
       "rows": [
        [
         "A",
         "85",
         "4.0"
        ],
        [
         "A-",
         "80",
         "3.5"
        ]
       ],
       "shape": {
        "columns": 2,
        "rows": 2
       }
      },
      "text/html": [
       "<div>\n",
       "<style scoped>\n",
       "    .dataframe tbody tr th:only-of-type {\n",
       "        vertical-align: middle;\n",
       "    }\n",
       "\n",
       "    .dataframe tbody tr th {\n",
       "        vertical-align: top;\n",
       "    }\n",
       "\n",
       "    .dataframe thead th {\n",
       "        text-align: right;\n",
       "    }\n",
       "</style>\n",
       "<table border=\"1\" class=\"dataframe\">\n",
       "  <thead>\n",
       "    <tr style=\"text-align: right;\">\n",
       "      <th></th>\n",
       "      <th>marks</th>\n",
       "      <th>grades</th>\n",
       "    </tr>\n",
       "  </thead>\n",
       "  <tbody>\n",
       "    <tr>\n",
       "      <th>A</th>\n",
       "      <td>85</td>\n",
       "      <td>4.0</td>\n",
       "    </tr>\n",
       "    <tr>\n",
       "      <th>A-</th>\n",
       "      <td>80</td>\n",
       "      <td>3.5</td>\n",
       "    </tr>\n",
       "  </tbody>\n",
       "</table>\n",
       "</div>"
      ],
      "text/plain": [
       "    marks  grades\n",
       "A      85     4.0\n",
       "A-     80     3.5"
      ]
     },
     "execution_count": 40,
     "metadata": {},
     "output_type": "execute_result"
    }
   ],
   "source": [
    "G = D[D['marks'] > 70]\n",
    "G"
   ]
  },
  {
   "cell_type": "code",
   "execution_count": null,
   "id": "bae198a4",
   "metadata": {},
   "outputs": [],
   "source": []
  }
 ],
 "metadata": {
  "kernelspec": {
   "display_name": ".venv",
   "language": "python",
   "name": "python3"
  },
  "language_info": {
   "codemirror_mode": {
    "name": "ipython",
    "version": 3
   },
   "file_extension": ".py",
   "mimetype": "text/x-python",
   "name": "python",
   "nbconvert_exporter": "python",
   "pygments_lexer": "ipython3",
   "version": "3.13.2"
  }
 },
 "nbformat": 4,
 "nbformat_minor": 5
}
