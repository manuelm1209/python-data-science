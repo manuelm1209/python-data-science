{
 "cells": [
  {
   "cell_type": "markdown",
   "id": "d9d6a766",
   "metadata": {},
   "source": [
    "# Pandas"
   ]
  },
  {
   "cell_type": "code",
   "execution_count": 1,
   "id": "82f34fd4",
   "metadata": {},
   "outputs": [],
   "source": [
    "import numpy as np\n",
    "import pandas as pd\n",
    "import matplotlib.pyplot as plt"
   ]
  },
  {
   "cell_type": "markdown",
   "id": "a31387d2",
   "metadata": {},
   "source": [
    "Print Pandas version"
   ]
  },
  {
   "cell_type": "code",
   "execution_count": 2,
   "id": "ee20168c",
   "metadata": {},
   "outputs": [
    {
     "name": "stdout",
     "output_type": "stream",
     "text": [
      "2.2.3\n"
     ]
    }
   ],
   "source": [
    "print(pd.__version__)"
   ]
  },
  {
   "cell_type": "code",
   "execution_count": 3,
   "id": "fd940f51",
   "metadata": {},
   "outputs": [],
   "source": [
    "A = pd.Series([0.25, 0.5, 0.75, 1.0], index=['a', 'b', 'c', 'd'])"
   ]
  },
  {
   "cell_type": "markdown",
   "id": "09ea7e88",
   "metadata": {},
   "source": [
    "Call the values"
   ]
  },
  {
   "cell_type": "code",
   "execution_count": 4,
   "id": "c84bd9c8",
   "metadata": {},
   "outputs": [
    {
     "data": {
      "text/plain": [
       "array([0.25, 0.5 , 0.75, 1.  ])"
      ]
     },
     "execution_count": 4,
     "metadata": {},
     "output_type": "execute_result"
    }
   ],
   "source": [
    "A.values"
   ]
  },
  {
   "cell_type": "markdown",
   "id": "108e985d",
   "metadata": {},
   "source": [
    "Call the index"
   ]
  },
  {
   "cell_type": "code",
   "execution_count": 5,
   "id": "733d8344",
   "metadata": {},
   "outputs": [
    {
     "data": {
      "text/plain": [
       "Index(['a', 'b', 'c', 'd'], dtype='object')"
      ]
     },
     "execution_count": 5,
     "metadata": {},
     "output_type": "execute_result"
    }
   ],
   "source": [
    "A.index"
   ]
  },
  {
   "cell_type": "markdown",
   "id": "bad6d8fd",
   "metadata": {},
   "source": [
    "Pandas uses NumPy"
   ]
  },
  {
   "cell_type": "code",
   "execution_count": 6,
   "id": "369c0f40",
   "metadata": {},
   "outputs": [
    {
     "data": {
      "text/plain": [
       "numpy.ndarray"
      ]
     },
     "execution_count": 6,
     "metadata": {},
     "output_type": "execute_result"
    }
   ],
   "source": [
    "type(A.values)"
   ]
  },
  {
   "cell_type": "markdown",
   "id": "a95d5ee0",
   "metadata": {},
   "source": [
    "Access a value using the index"
   ]
  },
  {
   "cell_type": "code",
   "execution_count": 7,
   "id": "df882c3a",
   "metadata": {},
   "outputs": [
    {
     "data": {
      "text/plain": [
       "np.float64(0.75)"
      ]
     },
     "execution_count": 7,
     "metadata": {},
     "output_type": "execute_result"
    }
   ],
   "source": [
    "A['c']"
   ]
  },
  {
   "cell_type": "markdown",
   "id": "fd0684e2",
   "metadata": {},
   "source": [
    "### Slicing"
   ]
  },
  {
   "cell_type": "code",
   "execution_count": 8,
   "id": "72f91544",
   "metadata": {},
   "outputs": [
    {
     "data": {
      "text/plain": [
       "a    0.25\n",
       "b    0.50\n",
       "c    0.75\n",
       "dtype: float64"
      ]
     },
     "execution_count": 8,
     "metadata": {},
     "output_type": "execute_result"
    }
   ],
   "source": [
    "A['a':'c']"
   ]
  },
  {
   "cell_type": "code",
   "execution_count": 9,
   "id": "d150afb1",
   "metadata": {},
   "outputs": [],
   "source": [
    "grades_dict = {'A': 4,'A-': 3.5,'B': 3,'B-': 2.5,'B': 2}\n",
    "grades = pd.Series(grades_dict)"
   ]
  },
  {
   "cell_type": "code",
   "execution_count": 10,
   "id": "8c20c046",
   "metadata": {},
   "outputs": [
    {
     "data": {
      "text/plain": [
       "A     4.0\n",
       "A-    3.5\n",
       "B     2.0\n",
       "B-    2.5\n",
       "dtype: float64"
      ]
     },
     "execution_count": 10,
     "metadata": {},
     "output_type": "execute_result"
    }
   ],
   "source": [
    "grades"
   ]
  },
  {
   "cell_type": "code",
   "execution_count": 11,
   "id": "eddfb6ca",
   "metadata": {},
   "outputs": [],
   "source": [
    "marks_dict = {'A': 85,'A-':80,'B':75,'B-':70,'B': 65}\n",
    "marks = pd.Series(marks_dict)"
   ]
  },
  {
   "cell_type": "code",
   "execution_count": 12,
   "id": "d2828fe8",
   "metadata": {},
   "outputs": [
    {
     "data": {
      "text/plain": [
       "A     85\n",
       "A-    80\n",
       "B     65\n",
       "B-    70\n",
       "dtype: int64"
      ]
     },
     "execution_count": 12,
     "metadata": {},
     "output_type": "execute_result"
    }
   ],
   "source": [
    "marks"
   ]
  },
  {
   "cell_type": "markdown",
   "id": "64aee78f",
   "metadata": {},
   "source": [
    "# Dataflare"
   ]
  },
  {
   "cell_type": "code",
   "execution_count": 13,
   "id": "b9f8c947",
   "metadata": {},
   "outputs": [
    {
     "data": {
      "text/plain": [
       "A     85\n",
       "A-    80\n",
       "B     65\n",
       "B-    70\n",
       "dtype: int64"
      ]
     },
     "execution_count": 13,
     "metadata": {},
     "output_type": "execute_result"
    }
   ],
   "source": [
    "marks"
   ]
  },
  {
   "cell_type": "code",
   "execution_count": 14,
   "id": "ae80ed1c",
   "metadata": {},
   "outputs": [
    {
     "data": {
      "text/plain": [
       "A     4.0\n",
       "A-    3.5\n",
       "B     2.0\n",
       "B-    2.5\n",
       "dtype: float64"
      ]
     },
     "execution_count": 14,
     "metadata": {},
     "output_type": "execute_result"
    }
   ],
   "source": [
    "grades"
   ]
  },
  {
   "cell_type": "code",
   "execution_count": 15,
   "id": "f4057745",
   "metadata": {},
   "outputs": [
    {
     "data": {
      "application/vnd.microsoft.datawrangler.viewer.v0+json": {
       "columns": [
        {
         "name": "index",
         "rawType": "object",
         "type": "string"
        },
        {
         "name": "marks",
         "rawType": "int64",
         "type": "integer"
        },
        {
         "name": "grades",
         "rawType": "float64",
         "type": "float"
        }
       ],
       "conversionMethod": "pd.DataFrame",
       "ref": "a3042c20-2930-4c87-ab13-cd73fb750663",
       "rows": [
        [
         "A",
         "85",
         "4.0"
        ],
        [
         "A-",
         "80",
         "3.5"
        ],
        [
         "B",
         "65",
         "2.0"
        ],
        [
         "B-",
         "70",
         "2.5"
        ]
       ],
       "shape": {
        "columns": 2,
        "rows": 4
       }
      },
      "text/html": [
       "<div>\n",
       "<style scoped>\n",
       "    .dataframe tbody tr th:only-of-type {\n",
       "        vertical-align: middle;\n",
       "    }\n",
       "\n",
       "    .dataframe tbody tr th {\n",
       "        vertical-align: top;\n",
       "    }\n",
       "\n",
       "    .dataframe thead th {\n",
       "        text-align: right;\n",
       "    }\n",
       "</style>\n",
       "<table border=\"1\" class=\"dataframe\">\n",
       "  <thead>\n",
       "    <tr style=\"text-align: right;\">\n",
       "      <th></th>\n",
       "      <th>marks</th>\n",
       "      <th>grades</th>\n",
       "    </tr>\n",
       "  </thead>\n",
       "  <tbody>\n",
       "    <tr>\n",
       "      <th>A</th>\n",
       "      <td>85</td>\n",
       "      <td>4.0</td>\n",
       "    </tr>\n",
       "    <tr>\n",
       "      <th>A-</th>\n",
       "      <td>80</td>\n",
       "      <td>3.5</td>\n",
       "    </tr>\n",
       "    <tr>\n",
       "      <th>B</th>\n",
       "      <td>65</td>\n",
       "      <td>2.0</td>\n",
       "    </tr>\n",
       "    <tr>\n",
       "      <th>B-</th>\n",
       "      <td>70</td>\n",
       "      <td>2.5</td>\n",
       "    </tr>\n",
       "  </tbody>\n",
       "</table>\n",
       "</div>"
      ],
      "text/plain": [
       "    marks  grades\n",
       "A      85     4.0\n",
       "A-     80     3.5\n",
       "B      65     2.0\n",
       "B-     70     2.5"
      ]
     },
     "execution_count": 15,
     "metadata": {},
     "output_type": "execute_result"
    }
   ],
   "source": [
    "D = pd.DataFrame({'marks': marks, 'grades': grades})\n",
    "D"
   ]
  },
  {
   "cell_type": "markdown",
   "id": "5adaefb7",
   "metadata": {},
   "source": []
  },
  {
   "cell_type": "markdown",
   "id": "07baa954",
   "metadata": {},
   "source": [
    "transpose dataframe"
   ]
  },
  {
   "cell_type": "code",
   "execution_count": 16,
   "id": "110010c2",
   "metadata": {},
   "outputs": [
    {
     "data": {
      "application/vnd.microsoft.datawrangler.viewer.v0+json": {
       "columns": [
        {
         "name": "index",
         "rawType": "object",
         "type": "string"
        },
        {
         "name": "A",
         "rawType": "float64",
         "type": "float"
        },
        {
         "name": "A-",
         "rawType": "float64",
         "type": "float"
        },
        {
         "name": "B",
         "rawType": "float64",
         "type": "float"
        },
        {
         "name": "B-",
         "rawType": "float64",
         "type": "float"
        }
       ],
       "conversionMethod": "pd.DataFrame",
       "ref": "1e0835b0-4d25-4116-b775-35c58d04fb28",
       "rows": [
        [
         "marks",
         "85.0",
         "80.0",
         "65.0",
         "70.0"
        ],
        [
         "grades",
         "4.0",
         "3.5",
         "2.0",
         "2.5"
        ]
       ],
       "shape": {
        "columns": 4,
        "rows": 2
       }
      },
      "text/html": [
       "<div>\n",
       "<style scoped>\n",
       "    .dataframe tbody tr th:only-of-type {\n",
       "        vertical-align: middle;\n",
       "    }\n",
       "\n",
       "    .dataframe tbody tr th {\n",
       "        vertical-align: top;\n",
       "    }\n",
       "\n",
       "    .dataframe thead th {\n",
       "        text-align: right;\n",
       "    }\n",
       "</style>\n",
       "<table border=\"1\" class=\"dataframe\">\n",
       "  <thead>\n",
       "    <tr style=\"text-align: right;\">\n",
       "      <th></th>\n",
       "      <th>A</th>\n",
       "      <th>A-</th>\n",
       "      <th>B</th>\n",
       "      <th>B-</th>\n",
       "    </tr>\n",
       "  </thead>\n",
       "  <tbody>\n",
       "    <tr>\n",
       "      <th>marks</th>\n",
       "      <td>85.0</td>\n",
       "      <td>80.0</td>\n",
       "      <td>65.0</td>\n",
       "      <td>70.0</td>\n",
       "    </tr>\n",
       "    <tr>\n",
       "      <th>grades</th>\n",
       "      <td>4.0</td>\n",
       "      <td>3.5</td>\n",
       "      <td>2.0</td>\n",
       "      <td>2.5</td>\n",
       "    </tr>\n",
       "  </tbody>\n",
       "</table>\n",
       "</div>"
      ],
      "text/plain": [
       "           A    A-     B    B-\n",
       "marks   85.0  80.0  65.0  70.0\n",
       "grades   4.0   3.5   2.0   2.5"
      ]
     },
     "execution_count": 16,
     "metadata": {},
     "output_type": "execute_result"
    }
   ],
   "source": [
    "D.T"
   ]
  },
  {
   "cell_type": "code",
   "execution_count": 17,
   "id": "91d1dbe6",
   "metadata": {},
   "outputs": [
    {
     "data": {
      "application/vnd.microsoft.datawrangler.viewer.v0+json": {
       "columns": [
        {
         "name": "index",
         "rawType": "object",
         "type": "string"
        },
        {
         "name": "marks",
         "rawType": "int64",
         "type": "integer"
        },
        {
         "name": "grades",
         "rawType": "float64",
         "type": "float"
        }
       ],
       "conversionMethod": "pd.DataFrame",
       "ref": "71637c5b-21c4-4360-b0e7-ef066735a3f8",
       "rows": [
        [
         "A",
         "85",
         "4.0"
        ],
        [
         "A-",
         "80",
         "3.5"
        ],
        [
         "B",
         "65",
         "2.0"
        ],
        [
         "B-",
         "70",
         "2.5"
        ]
       ],
       "shape": {
        "columns": 2,
        "rows": 4
       }
      },
      "text/html": [
       "<div>\n",
       "<style scoped>\n",
       "    .dataframe tbody tr th:only-of-type {\n",
       "        vertical-align: middle;\n",
       "    }\n",
       "\n",
       "    .dataframe tbody tr th {\n",
       "        vertical-align: top;\n",
       "    }\n",
       "\n",
       "    .dataframe thead th {\n",
       "        text-align: right;\n",
       "    }\n",
       "</style>\n",
       "<table border=\"1\" class=\"dataframe\">\n",
       "  <thead>\n",
       "    <tr style=\"text-align: right;\">\n",
       "      <th></th>\n",
       "      <th>marks</th>\n",
       "      <th>grades</th>\n",
       "    </tr>\n",
       "  </thead>\n",
       "  <tbody>\n",
       "    <tr>\n",
       "      <th>A</th>\n",
       "      <td>85</td>\n",
       "      <td>4.0</td>\n",
       "    </tr>\n",
       "    <tr>\n",
       "      <th>A-</th>\n",
       "      <td>80</td>\n",
       "      <td>3.5</td>\n",
       "    </tr>\n",
       "    <tr>\n",
       "      <th>B</th>\n",
       "      <td>65</td>\n",
       "      <td>2.0</td>\n",
       "    </tr>\n",
       "    <tr>\n",
       "      <th>B-</th>\n",
       "      <td>70</td>\n",
       "      <td>2.5</td>\n",
       "    </tr>\n",
       "  </tbody>\n",
       "</table>\n",
       "</div>"
      ],
      "text/plain": [
       "    marks  grades\n",
       "A      85     4.0\n",
       "A-     80     3.5\n",
       "B      65     2.0\n",
       "B-     70     2.5"
      ]
     },
     "execution_count": 17,
     "metadata": {},
     "output_type": "execute_result"
    }
   ],
   "source": [
    "D"
   ]
  },
  {
   "cell_type": "code",
   "execution_count": 18,
   "id": "1cd08ade",
   "metadata": {},
   "outputs": [
    {
     "data": {
      "text/plain": [
       "array([[85. ,  4. ],\n",
       "       [80. ,  3.5],\n",
       "       [65. ,  2. ],\n",
       "       [70. ,  2.5]])"
      ]
     },
     "execution_count": 18,
     "metadata": {},
     "output_type": "execute_result"
    }
   ],
   "source": [
    "D.values"
   ]
  },
  {
   "cell_type": "markdown",
   "id": "b6a788bd",
   "metadata": {},
   "source": [
    "Accessing specific values of the data frame."
   ]
  },
  {
   "cell_type": "code",
   "execution_count": 19,
   "id": "be841ed5",
   "metadata": {},
   "outputs": [
    {
     "data": {
      "text/plain": [
       "np.float64(65.0)"
      ]
     },
     "execution_count": 19,
     "metadata": {},
     "output_type": "execute_result"
    }
   ],
   "source": [
    "D.values[2,0]"
   ]
  },
  {
   "cell_type": "code",
   "execution_count": 20,
   "id": "2007f467",
   "metadata": {},
   "outputs": [
    {
     "data": {
      "text/plain": [
       "Index(['marks', 'grades'], dtype='object')"
      ]
     },
     "execution_count": 20,
     "metadata": {},
     "output_type": "execute_result"
    }
   ],
   "source": [
    "D.columns"
   ]
  },
  {
   "cell_type": "code",
   "execution_count": 21,
   "id": "639f38af",
   "metadata": {},
   "outputs": [
    {
     "data": {
      "text/plain": [
       "Index(['A', 'A-', 'B', 'B-'], dtype='object')"
      ]
     },
     "execution_count": 21,
     "metadata": {},
     "output_type": "execute_result"
    }
   ],
   "source": [
    "D.index"
   ]
  },
  {
   "cell_type": "markdown",
   "id": "84c736c9",
   "metadata": {},
   "source": [
    "Adding another column"
   ]
  },
  {
   "cell_type": "code",
   "execution_count": 22,
   "id": "0252fc7f",
   "metadata": {},
   "outputs": [
    {
     "data": {
      "application/vnd.microsoft.datawrangler.viewer.v0+json": {
       "columns": [
        {
         "name": "index",
         "rawType": "object",
         "type": "string"
        },
        {
         "name": "marks",
         "rawType": "int64",
         "type": "integer"
        },
        {
         "name": "grades",
         "rawType": "float64",
         "type": "float"
        }
       ],
       "conversionMethod": "pd.DataFrame",
       "ref": "c2065690-6c50-4a27-a44e-a785efe1f86c",
       "rows": [
        [
         "A",
         "85",
         "4.0"
        ],
        [
         "A-",
         "80",
         "3.5"
        ],
        [
         "B",
         "65",
         "2.0"
        ],
        [
         "B-",
         "70",
         "2.5"
        ]
       ],
       "shape": {
        "columns": 2,
        "rows": 4
       }
      },
      "text/html": [
       "<div>\n",
       "<style scoped>\n",
       "    .dataframe tbody tr th:only-of-type {\n",
       "        vertical-align: middle;\n",
       "    }\n",
       "\n",
       "    .dataframe tbody tr th {\n",
       "        vertical-align: top;\n",
       "    }\n",
       "\n",
       "    .dataframe thead th {\n",
       "        text-align: right;\n",
       "    }\n",
       "</style>\n",
       "<table border=\"1\" class=\"dataframe\">\n",
       "  <thead>\n",
       "    <tr style=\"text-align: right;\">\n",
       "      <th></th>\n",
       "      <th>marks</th>\n",
       "      <th>grades</th>\n",
       "    </tr>\n",
       "  </thead>\n",
       "  <tbody>\n",
       "    <tr>\n",
       "      <th>A</th>\n",
       "      <td>85</td>\n",
       "      <td>4.0</td>\n",
       "    </tr>\n",
       "    <tr>\n",
       "      <th>A-</th>\n",
       "      <td>80</td>\n",
       "      <td>3.5</td>\n",
       "    </tr>\n",
       "    <tr>\n",
       "      <th>B</th>\n",
       "      <td>65</td>\n",
       "      <td>2.0</td>\n",
       "    </tr>\n",
       "    <tr>\n",
       "      <th>B-</th>\n",
       "      <td>70</td>\n",
       "      <td>2.5</td>\n",
       "    </tr>\n",
       "  </tbody>\n",
       "</table>\n",
       "</div>"
      ],
      "text/plain": [
       "    marks  grades\n",
       "A      85     4.0\n",
       "A-     80     3.5\n",
       "B      65     2.0\n",
       "B-     70     2.5"
      ]
     },
     "execution_count": 22,
     "metadata": {},
     "output_type": "execute_result"
    }
   ],
   "source": [
    "D"
   ]
  },
  {
   "cell_type": "code",
   "execution_count": 23,
   "id": "e539a7cd",
   "metadata": {},
   "outputs": [
    {
     "data": {
      "application/vnd.microsoft.datawrangler.viewer.v0+json": {
       "columns": [
        {
         "name": "index",
         "rawType": "object",
         "type": "string"
        },
        {
         "name": "marks",
         "rawType": "int64",
         "type": "integer"
        },
        {
         "name": "grades",
         "rawType": "float64",
         "type": "float"
        },
        {
         "name": "ScaledMarks",
         "rawType": "float64",
         "type": "float"
        }
       ],
       "conversionMethod": "pd.DataFrame",
       "ref": "f98ede6a-c07e-4981-8109-093efcf9e22c",
       "rows": [
        [
         "A",
         "85",
         "4.0",
         "8.5"
        ],
        [
         "A-",
         "80",
         "3.5",
         "8.0"
        ],
        [
         "B",
         "65",
         "2.0",
         "6.5"
        ],
        [
         "B-",
         "70",
         "2.5",
         "7.0"
        ]
       ],
       "shape": {
        "columns": 3,
        "rows": 4
       }
      },
      "text/html": [
       "<div>\n",
       "<style scoped>\n",
       "    .dataframe tbody tr th:only-of-type {\n",
       "        vertical-align: middle;\n",
       "    }\n",
       "\n",
       "    .dataframe tbody tr th {\n",
       "        vertical-align: top;\n",
       "    }\n",
       "\n",
       "    .dataframe thead th {\n",
       "        text-align: right;\n",
       "    }\n",
       "</style>\n",
       "<table border=\"1\" class=\"dataframe\">\n",
       "  <thead>\n",
       "    <tr style=\"text-align: right;\">\n",
       "      <th></th>\n",
       "      <th>marks</th>\n",
       "      <th>grades</th>\n",
       "      <th>ScaledMarks</th>\n",
       "    </tr>\n",
       "  </thead>\n",
       "  <tbody>\n",
       "    <tr>\n",
       "      <th>A</th>\n",
       "      <td>85</td>\n",
       "      <td>4.0</td>\n",
       "      <td>8.5</td>\n",
       "    </tr>\n",
       "    <tr>\n",
       "      <th>A-</th>\n",
       "      <td>80</td>\n",
       "      <td>3.5</td>\n",
       "      <td>8.0</td>\n",
       "    </tr>\n",
       "    <tr>\n",
       "      <th>B</th>\n",
       "      <td>65</td>\n",
       "      <td>2.0</td>\n",
       "      <td>6.5</td>\n",
       "    </tr>\n",
       "    <tr>\n",
       "      <th>B-</th>\n",
       "      <td>70</td>\n",
       "      <td>2.5</td>\n",
       "      <td>7.0</td>\n",
       "    </tr>\n",
       "  </tbody>\n",
       "</table>\n",
       "</div>"
      ],
      "text/plain": [
       "    marks  grades  ScaledMarks\n",
       "A      85     4.0          8.5\n",
       "A-     80     3.5          8.0\n",
       "B      65     2.0          6.5\n",
       "B-     70     2.5          7.0"
      ]
     },
     "execution_count": 23,
     "metadata": {},
     "output_type": "execute_result"
    }
   ],
   "source": [
    "D['ScaledMarks'] = D['marks'] / 10\n",
    "D"
   ]
  },
  {
   "cell_type": "markdown",
   "id": "5abad724",
   "metadata": {},
   "source": [
    "Deleting a column"
   ]
  },
  {
   "cell_type": "code",
   "execution_count": 24,
   "id": "b2007b91",
   "metadata": {},
   "outputs": [
    {
     "data": {
      "application/vnd.microsoft.datawrangler.viewer.v0+json": {
       "columns": [
        {
         "name": "index",
         "rawType": "object",
         "type": "string"
        },
        {
         "name": "marks",
         "rawType": "int64",
         "type": "integer"
        },
        {
         "name": "grades",
         "rawType": "float64",
         "type": "float"
        }
       ],
       "conversionMethod": "pd.DataFrame",
       "ref": "0d8196d8-1c38-41eb-8927-9388499a1dea",
       "rows": [
        [
         "A",
         "85",
         "4.0"
        ],
        [
         "A-",
         "80",
         "3.5"
        ],
        [
         "B",
         "65",
         "2.0"
        ],
        [
         "B-",
         "70",
         "2.5"
        ]
       ],
       "shape": {
        "columns": 2,
        "rows": 4
       }
      },
      "text/html": [
       "<div>\n",
       "<style scoped>\n",
       "    .dataframe tbody tr th:only-of-type {\n",
       "        vertical-align: middle;\n",
       "    }\n",
       "\n",
       "    .dataframe tbody tr th {\n",
       "        vertical-align: top;\n",
       "    }\n",
       "\n",
       "    .dataframe thead th {\n",
       "        text-align: right;\n",
       "    }\n",
       "</style>\n",
       "<table border=\"1\" class=\"dataframe\">\n",
       "  <thead>\n",
       "    <tr style=\"text-align: right;\">\n",
       "      <th></th>\n",
       "      <th>marks</th>\n",
       "      <th>grades</th>\n",
       "    </tr>\n",
       "  </thead>\n",
       "  <tbody>\n",
       "    <tr>\n",
       "      <th>A</th>\n",
       "      <td>85</td>\n",
       "      <td>4.0</td>\n",
       "    </tr>\n",
       "    <tr>\n",
       "      <th>A-</th>\n",
       "      <td>80</td>\n",
       "      <td>3.5</td>\n",
       "    </tr>\n",
       "    <tr>\n",
       "      <th>B</th>\n",
       "      <td>65</td>\n",
       "      <td>2.0</td>\n",
       "    </tr>\n",
       "    <tr>\n",
       "      <th>B-</th>\n",
       "      <td>70</td>\n",
       "      <td>2.5</td>\n",
       "    </tr>\n",
       "  </tbody>\n",
       "</table>\n",
       "</div>"
      ],
      "text/plain": [
       "    marks  grades\n",
       "A      85     4.0\n",
       "A-     80     3.5\n",
       "B      65     2.0\n",
       "B-     70     2.5"
      ]
     },
     "execution_count": 24,
     "metadata": {},
     "output_type": "execute_result"
    }
   ],
   "source": [
    "del D['ScaledMarks']\n",
    "D"
   ]
  },
  {
   "cell_type": "markdown",
   "id": "4d6673e0",
   "metadata": {},
   "source": [
    "### Pandas (Indexing)"
   ]
  },
  {
   "cell_type": "code",
   "execution_count": 25,
   "id": "f620dd36",
   "metadata": {},
   "outputs": [
    {
     "data": {
      "application/vnd.microsoft.datawrangler.viewer.v0+json": {
       "columns": [
        {
         "name": "index",
         "rawType": "object",
         "type": "string"
        },
        {
         "name": "marks",
         "rawType": "int64",
         "type": "integer"
        },
        {
         "name": "grades",
         "rawType": "float64",
         "type": "float"
        }
       ],
       "conversionMethod": "pd.DataFrame",
       "ref": "535d9943-ce75-4ef8-b8b0-461646cdc2a9",
       "rows": [
        [
         "A",
         "85",
         "4.0"
        ],
        [
         "A-",
         "80",
         "3.5"
        ]
       ],
       "shape": {
        "columns": 2,
        "rows": 2
       }
      },
      "text/html": [
       "<div>\n",
       "<style scoped>\n",
       "    .dataframe tbody tr th:only-of-type {\n",
       "        vertical-align: middle;\n",
       "    }\n",
       "\n",
       "    .dataframe tbody tr th {\n",
       "        vertical-align: top;\n",
       "    }\n",
       "\n",
       "    .dataframe thead th {\n",
       "        text-align: right;\n",
       "    }\n",
       "</style>\n",
       "<table border=\"1\" class=\"dataframe\">\n",
       "  <thead>\n",
       "    <tr style=\"text-align: right;\">\n",
       "      <th></th>\n",
       "      <th>marks</th>\n",
       "      <th>grades</th>\n",
       "    </tr>\n",
       "  </thead>\n",
       "  <tbody>\n",
       "    <tr>\n",
       "      <th>A</th>\n",
       "      <td>85</td>\n",
       "      <td>4.0</td>\n",
       "    </tr>\n",
       "    <tr>\n",
       "      <th>A-</th>\n",
       "      <td>80</td>\n",
       "      <td>3.5</td>\n",
       "    </tr>\n",
       "  </tbody>\n",
       "</table>\n",
       "</div>"
      ],
      "text/plain": [
       "    marks  grades\n",
       "A      85     4.0\n",
       "A-     80     3.5"
      ]
     },
     "execution_count": 25,
     "metadata": {},
     "output_type": "execute_result"
    }
   ],
   "source": [
    "G = D[D['marks'] > 70]\n",
    "G"
   ]
  },
  {
   "cell_type": "markdown",
   "id": "ea126fa3",
   "metadata": {},
   "source": [
    "### Pandas (NaN)"
   ]
  },
  {
   "cell_type": "code",
   "execution_count": 26,
   "id": "bae198a4",
   "metadata": {},
   "outputs": [
    {
     "data": {
      "application/vnd.microsoft.datawrangler.viewer.v0+json": {
       "columns": [
        {
         "name": "index",
         "rawType": "int64",
         "type": "integer"
        },
        {
         "name": "a",
         "rawType": "float64",
         "type": "float"
        },
        {
         "name": "b",
         "rawType": "int64",
         "type": "integer"
        },
        {
         "name": "C",
         "rawType": "float64",
         "type": "float"
        }
       ],
       "conversionMethod": "pd.DataFrame",
       "ref": "563ebd9e-7b62-4565-a881-43bf857e9ee3",
       "rows": [
        [
         "0",
         "1.0",
         "2",
         null
        ],
        [
         "1",
         null,
         "3",
         "4.0"
        ],
        [
         "2",
         "5.0",
         "6",
         "7.0"
        ]
       ],
       "shape": {
        "columns": 3,
        "rows": 3
       }
      },
      "text/html": [
       "<div>\n",
       "<style scoped>\n",
       "    .dataframe tbody tr th:only-of-type {\n",
       "        vertical-align: middle;\n",
       "    }\n",
       "\n",
       "    .dataframe tbody tr th {\n",
       "        vertical-align: top;\n",
       "    }\n",
       "\n",
       "    .dataframe thead th {\n",
       "        text-align: right;\n",
       "    }\n",
       "</style>\n",
       "<table border=\"1\" class=\"dataframe\">\n",
       "  <thead>\n",
       "    <tr style=\"text-align: right;\">\n",
       "      <th></th>\n",
       "      <th>a</th>\n",
       "      <th>b</th>\n",
       "      <th>C</th>\n",
       "    </tr>\n",
       "  </thead>\n",
       "  <tbody>\n",
       "    <tr>\n",
       "      <th>0</th>\n",
       "      <td>1.0</td>\n",
       "      <td>2</td>\n",
       "      <td>NaN</td>\n",
       "    </tr>\n",
       "    <tr>\n",
       "      <th>1</th>\n",
       "      <td>NaN</td>\n",
       "      <td>3</td>\n",
       "      <td>4.0</td>\n",
       "    </tr>\n",
       "    <tr>\n",
       "      <th>2</th>\n",
       "      <td>5.0</td>\n",
       "      <td>6</td>\n",
       "      <td>7.0</td>\n",
       "    </tr>\n",
       "  </tbody>\n",
       "</table>\n",
       "</div>"
      ],
      "text/plain": [
       "     a  b    C\n",
       "0  1.0  2  NaN\n",
       "1  NaN  3  4.0\n",
       "2  5.0  6  7.0"
      ]
     },
     "execution_count": 26,
     "metadata": {},
     "output_type": "execute_result"
    }
   ],
   "source": [
    "A = pd.DataFrame([{'a': 1, 'b': 2},{'b':3, 'C':4}, {'a': 5, 'b': 6, 'C': 7}])\n",
    "A"
   ]
  },
  {
   "cell_type": "markdown",
   "id": "c877a8df",
   "metadata": {},
   "source": [
    "Fill Missing Velues"
   ]
  },
  {
   "cell_type": "code",
   "execution_count": 27,
   "id": "7e9789b5",
   "metadata": {},
   "outputs": [
    {
     "data": {
      "application/vnd.microsoft.datawrangler.viewer.v0+json": {
       "columns": [
        {
         "name": "index",
         "rawType": "int64",
         "type": "integer"
        },
        {
         "name": "a",
         "rawType": "float64",
         "type": "float"
        },
        {
         "name": "b",
         "rawType": "int64",
         "type": "integer"
        },
        {
         "name": "C",
         "rawType": "float64",
         "type": "float"
        }
       ],
       "conversionMethod": "pd.DataFrame",
       "ref": "ddc547d5-9cb0-4e3e-83ee-60d081b7c93d",
       "rows": [
        [
         "0",
         "1.0",
         "2",
         "0.0"
        ],
        [
         "1",
         "0.0",
         "3",
         "4.0"
        ],
        [
         "2",
         "5.0",
         "6",
         "7.0"
        ]
       ],
       "shape": {
        "columns": 3,
        "rows": 3
       }
      },
      "text/html": [
       "<div>\n",
       "<style scoped>\n",
       "    .dataframe tbody tr th:only-of-type {\n",
       "        vertical-align: middle;\n",
       "    }\n",
       "\n",
       "    .dataframe tbody tr th {\n",
       "        vertical-align: top;\n",
       "    }\n",
       "\n",
       "    .dataframe thead th {\n",
       "        text-align: right;\n",
       "    }\n",
       "</style>\n",
       "<table border=\"1\" class=\"dataframe\">\n",
       "  <thead>\n",
       "    <tr style=\"text-align: right;\">\n",
       "      <th></th>\n",
       "      <th>a</th>\n",
       "      <th>b</th>\n",
       "      <th>C</th>\n",
       "    </tr>\n",
       "  </thead>\n",
       "  <tbody>\n",
       "    <tr>\n",
       "      <th>0</th>\n",
       "      <td>1.0</td>\n",
       "      <td>2</td>\n",
       "      <td>0.0</td>\n",
       "    </tr>\n",
       "    <tr>\n",
       "      <th>1</th>\n",
       "      <td>0.0</td>\n",
       "      <td>3</td>\n",
       "      <td>4.0</td>\n",
       "    </tr>\n",
       "    <tr>\n",
       "      <th>2</th>\n",
       "      <td>5.0</td>\n",
       "      <td>6</td>\n",
       "      <td>7.0</td>\n",
       "    </tr>\n",
       "  </tbody>\n",
       "</table>\n",
       "</div>"
      ],
      "text/plain": [
       "     a  b    C\n",
       "0  1.0  2  0.0\n",
       "1  0.0  3  4.0\n",
       "2  5.0  6  7.0"
      ]
     },
     "execution_count": 27,
     "metadata": {},
     "output_type": "execute_result"
    }
   ],
   "source": [
    "A.fillna(0)"
   ]
  },
  {
   "cell_type": "markdown",
   "id": "ce4e2dd1",
   "metadata": {},
   "source": [
    "Drop Missing Value"
   ]
  },
  {
   "cell_type": "code",
   "execution_count": 28,
   "id": "9fa832bb",
   "metadata": {},
   "outputs": [
    {
     "data": {
      "application/vnd.microsoft.datawrangler.viewer.v0+json": {
       "columns": [
        {
         "name": "index",
         "rawType": "int64",
         "type": "integer"
        },
        {
         "name": "a",
         "rawType": "float64",
         "type": "float"
        },
        {
         "name": "b",
         "rawType": "int64",
         "type": "integer"
        },
        {
         "name": "C",
         "rawType": "float64",
         "type": "float"
        }
       ],
       "conversionMethod": "pd.DataFrame",
       "ref": "be1c910e-3030-464c-9a74-d90eab1456d4",
       "rows": [
        [
         "2",
         "5.0",
         "6",
         "7.0"
        ]
       ],
       "shape": {
        "columns": 3,
        "rows": 1
       }
      },
      "text/html": [
       "<div>\n",
       "<style scoped>\n",
       "    .dataframe tbody tr th:only-of-type {\n",
       "        vertical-align: middle;\n",
       "    }\n",
       "\n",
       "    .dataframe tbody tr th {\n",
       "        vertical-align: top;\n",
       "    }\n",
       "\n",
       "    .dataframe thead th {\n",
       "        text-align: right;\n",
       "    }\n",
       "</style>\n",
       "<table border=\"1\" class=\"dataframe\">\n",
       "  <thead>\n",
       "    <tr style=\"text-align: right;\">\n",
       "      <th></th>\n",
       "      <th>a</th>\n",
       "      <th>b</th>\n",
       "      <th>C</th>\n",
       "    </tr>\n",
       "  </thead>\n",
       "  <tbody>\n",
       "    <tr>\n",
       "      <th>2</th>\n",
       "      <td>5.0</td>\n",
       "      <td>6</td>\n",
       "      <td>7.0</td>\n",
       "    </tr>\n",
       "  </tbody>\n",
       "</table>\n",
       "</div>"
      ],
      "text/plain": [
       "     a  b    C\n",
       "2  5.0  6  7.0"
      ]
     },
     "execution_count": 28,
     "metadata": {},
     "output_type": "execute_result"
    }
   ],
   "source": [
    "A.dropna()"
   ]
  },
  {
   "cell_type": "markdown",
   "id": "50543a7a",
   "metadata": {},
   "source": [
    "#### Indexing confusion"
   ]
  },
  {
   "cell_type": "code",
   "execution_count": 29,
   "id": "80a5c1d4",
   "metadata": {},
   "outputs": [
    {
     "data": {
      "text/plain": [
       "1    a\n",
       "3    b\n",
       "5    c\n",
       "dtype: object"
      ]
     },
     "execution_count": 29,
     "metadata": {},
     "output_type": "execute_result"
    }
   ],
   "source": [
    "data = pd.Series(['a', 'b', 'c'], index=[1, 3, 5])\n",
    "data"
   ]
  },
  {
   "cell_type": "code",
   "execution_count": 30,
   "id": "3e10cf50",
   "metadata": {},
   "outputs": [
    {
     "data": {
      "text/plain": [
       "'a'"
      ]
     },
     "execution_count": 30,
     "metadata": {},
     "output_type": "execute_result"
    }
   ],
   "source": [
    "data[1]"
   ]
  },
  {
   "cell_type": "code",
   "execution_count": 31,
   "id": "814d7514",
   "metadata": {},
   "outputs": [
    {
     "data": {
      "text/plain": [
       "3    b\n",
       "5    c\n",
       "dtype: object"
      ]
     },
     "execution_count": 31,
     "metadata": {},
     "output_type": "execute_result"
    }
   ],
   "source": [
    "data[1:3]"
   ]
  },
  {
   "cell_type": "markdown",
   "id": "44576736",
   "metadata": {},
   "source": [
    "Explicit index (loc)"
   ]
  },
  {
   "cell_type": "code",
   "execution_count": 32,
   "id": "15688a4e",
   "metadata": {},
   "outputs": [
    {
     "data": {
      "text/plain": [
       "1    a\n",
       "3    b\n",
       "dtype: object"
      ]
     },
     "execution_count": 32,
     "metadata": {},
     "output_type": "execute_result"
    }
   ],
   "source": [
    "data.loc[1:3]"
   ]
  },
  {
   "cell_type": "markdown",
   "id": "128f8179",
   "metadata": {},
   "source": [
    "Implicit index (iloc)"
   ]
  },
  {
   "cell_type": "code",
   "execution_count": 33,
   "id": "404f6a14",
   "metadata": {},
   "outputs": [
    {
     "data": {
      "text/plain": [
       "3    b\n",
       "5    c\n",
       "dtype: object"
      ]
     },
     "execution_count": 33,
     "metadata": {},
     "output_type": "execute_result"
    }
   ],
   "source": [
    "data.iloc[1:3]"
   ]
  },
  {
   "cell_type": "code",
   "execution_count": 34,
   "id": "f7d08fcd",
   "metadata": {},
   "outputs": [
    {
     "data": {
      "application/vnd.microsoft.datawrangler.viewer.v0+json": {
       "columns": [
        {
         "name": "index",
         "rawType": "object",
         "type": "string"
        },
        {
         "name": "marks",
         "rawType": "int64",
         "type": "integer"
        },
        {
         "name": "grades",
         "rawType": "float64",
         "type": "float"
        }
       ],
       "conversionMethod": "pd.DataFrame",
       "ref": "2ba48e46-8240-4244-a3ec-331fd7e05056",
       "rows": [
        [
         "A",
         "85",
         "4.0"
        ],
        [
         "A-",
         "80",
         "3.5"
        ],
        [
         "B",
         "65",
         "2.0"
        ],
        [
         "B-",
         "70",
         "2.5"
        ]
       ],
       "shape": {
        "columns": 2,
        "rows": 4
       }
      },
      "text/html": [
       "<div>\n",
       "<style scoped>\n",
       "    .dataframe tbody tr th:only-of-type {\n",
       "        vertical-align: middle;\n",
       "    }\n",
       "\n",
       "    .dataframe tbody tr th {\n",
       "        vertical-align: top;\n",
       "    }\n",
       "\n",
       "    .dataframe thead th {\n",
       "        text-align: right;\n",
       "    }\n",
       "</style>\n",
       "<table border=\"1\" class=\"dataframe\">\n",
       "  <thead>\n",
       "    <tr style=\"text-align: right;\">\n",
       "      <th></th>\n",
       "      <th>marks</th>\n",
       "      <th>grades</th>\n",
       "    </tr>\n",
       "  </thead>\n",
       "  <tbody>\n",
       "    <tr>\n",
       "      <th>A</th>\n",
       "      <td>85</td>\n",
       "      <td>4.0</td>\n",
       "    </tr>\n",
       "    <tr>\n",
       "      <th>A-</th>\n",
       "      <td>80</td>\n",
       "      <td>3.5</td>\n",
       "    </tr>\n",
       "    <tr>\n",
       "      <th>B</th>\n",
       "      <td>65</td>\n",
       "      <td>2.0</td>\n",
       "    </tr>\n",
       "    <tr>\n",
       "      <th>B-</th>\n",
       "      <td>70</td>\n",
       "      <td>2.5</td>\n",
       "    </tr>\n",
       "  </tbody>\n",
       "</table>\n",
       "</div>"
      ],
      "text/plain": [
       "    marks  grades\n",
       "A      85     4.0\n",
       "A-     80     3.5\n",
       "B      65     2.0\n",
       "B-     70     2.5"
      ]
     },
     "execution_count": 34,
     "metadata": {},
     "output_type": "execute_result"
    }
   ],
   "source": [
    "D"
   ]
  },
  {
   "cell_type": "code",
   "execution_count": 35,
   "id": "3ca6930d",
   "metadata": {},
   "outputs": [
    {
     "data": {
      "text/plain": [
       "marks     65.0\n",
       "grades     2.0\n",
       "Name: B, dtype: float64"
      ]
     },
     "execution_count": 35,
     "metadata": {},
     "output_type": "execute_result"
    }
   ],
   "source": [
    "D.iloc[2,:]"
   ]
  },
  {
   "cell_type": "markdown",
   "id": "f795db29",
   "metadata": {},
   "source": [
    "# csv files"
   ]
  },
  {
   "cell_type": "code",
   "execution_count": 36,
   "id": "f11d6baf",
   "metadata": {},
   "outputs": [],
   "source": [
    "# Install scikit-learn if not already installed\n",
    "# %pip install scikit-learn\n",
    "\n",
    "# Import SimpleImputer from sklearn\n",
    "from sklearn.impute import SimpleImputer"
   ]
  },
  {
   "cell_type": "code",
   "execution_count": 37,
   "id": "08db91b6",
   "metadata": {},
   "outputs": [],
   "source": [
    "df = pd.read_csv('covid_19_data.csv')"
   ]
  },
  {
   "cell_type": "code",
   "execution_count": 38,
   "id": "d2f6e934",
   "metadata": {},
   "outputs": [
    {
     "data": {
      "application/vnd.microsoft.datawrangler.viewer.v0+json": {
       "columns": [
        {
         "name": "index",
         "rawType": "int64",
         "type": "integer"
        },
        {
         "name": "SNo",
         "rawType": "int64",
         "type": "integer"
        },
        {
         "name": "ObservationDate",
         "rawType": "object",
         "type": "string"
        },
        {
         "name": "Province/State",
         "rawType": "object",
         "type": "string"
        },
        {
         "name": "Country/Region",
         "rawType": "object",
         "type": "string"
        },
        {
         "name": "Last Update",
         "rawType": "object",
         "type": "string"
        },
        {
         "name": "Confirmed",
         "rawType": "float64",
         "type": "float"
        },
        {
         "name": "Deaths",
         "rawType": "float64",
         "type": "float"
        },
        {
         "name": "Recovered",
         "rawType": "float64",
         "type": "float"
        }
       ],
       "conversionMethod": "pd.DataFrame",
       "ref": "3264c69a-809a-4a11-9e82-8187a47eca1c",
       "rows": [
        [
         "0",
         "1",
         "01/22/2020",
         "Anhui",
         "Mainland China",
         "1/22/2020 17:00",
         "1.0",
         "0.0",
         "0.0"
        ],
        [
         "1",
         "2",
         "01/22/2020",
         "Beijing",
         "Mainland China",
         "1/22/2020 17:00",
         "14.0",
         "0.0",
         "0.0"
        ],
        [
         "2",
         "3",
         "01/22/2020",
         "Chongqing",
         "Mainland China",
         "1/22/2020 17:00",
         "6.0",
         "0.0",
         "0.0"
        ],
        [
         "3",
         "4",
         "01/22/2020",
         "Fujian",
         "Mainland China",
         "1/22/2020 17:00",
         "1.0",
         "0.0",
         "0.0"
        ],
        [
         "4",
         "5",
         "01/22/2020",
         "Gansu",
         "Mainland China",
         "1/22/2020 17:00",
         "0.0",
         "0.0",
         "0.0"
        ],
        [
         "5",
         "6",
         "01/22/2020",
         "Guangdong",
         "Mainland China",
         "1/22/2020 17:00",
         "26.0",
         "0.0",
         "0.0"
        ],
        [
         "6",
         "7",
         "01/22/2020",
         "Guangxi",
         "Mainland China",
         "1/22/2020 17:00",
         "2.0",
         "0.0",
         "0.0"
        ],
        [
         "7",
         "8",
         "01/22/2020",
         "Guizhou",
         "Mainland China",
         "1/22/2020 17:00",
         "1.0",
         "0.0",
         "0.0"
        ],
        [
         "8",
         "9",
         "01/22/2020",
         "Hainan",
         "Mainland China",
         "1/22/2020 17:00",
         "4.0",
         "0.0",
         "0.0"
        ],
        [
         "9",
         "10",
         "01/22/2020",
         "Hebei",
         "Mainland China",
         "1/22/2020 17:00",
         "1.0",
         "0.0",
         "0.0"
        ]
       ],
       "shape": {
        "columns": 8,
        "rows": 10
       }
      },
      "text/html": [
       "<div>\n",
       "<style scoped>\n",
       "    .dataframe tbody tr th:only-of-type {\n",
       "        vertical-align: middle;\n",
       "    }\n",
       "\n",
       "    .dataframe tbody tr th {\n",
       "        vertical-align: top;\n",
       "    }\n",
       "\n",
       "    .dataframe thead th {\n",
       "        text-align: right;\n",
       "    }\n",
       "</style>\n",
       "<table border=\"1\" class=\"dataframe\">\n",
       "  <thead>\n",
       "    <tr style=\"text-align: right;\">\n",
       "      <th></th>\n",
       "      <th>SNo</th>\n",
       "      <th>ObservationDate</th>\n",
       "      <th>Province/State</th>\n",
       "      <th>Country/Region</th>\n",
       "      <th>Last Update</th>\n",
       "      <th>Confirmed</th>\n",
       "      <th>Deaths</th>\n",
       "      <th>Recovered</th>\n",
       "    </tr>\n",
       "  </thead>\n",
       "  <tbody>\n",
       "    <tr>\n",
       "      <th>0</th>\n",
       "      <td>1</td>\n",
       "      <td>01/22/2020</td>\n",
       "      <td>Anhui</td>\n",
       "      <td>Mainland China</td>\n",
       "      <td>1/22/2020 17:00</td>\n",
       "      <td>1.0</td>\n",
       "      <td>0.0</td>\n",
       "      <td>0.0</td>\n",
       "    </tr>\n",
       "    <tr>\n",
       "      <th>1</th>\n",
       "      <td>2</td>\n",
       "      <td>01/22/2020</td>\n",
       "      <td>Beijing</td>\n",
       "      <td>Mainland China</td>\n",
       "      <td>1/22/2020 17:00</td>\n",
       "      <td>14.0</td>\n",
       "      <td>0.0</td>\n",
       "      <td>0.0</td>\n",
       "    </tr>\n",
       "    <tr>\n",
       "      <th>2</th>\n",
       "      <td>3</td>\n",
       "      <td>01/22/2020</td>\n",
       "      <td>Chongqing</td>\n",
       "      <td>Mainland China</td>\n",
       "      <td>1/22/2020 17:00</td>\n",
       "      <td>6.0</td>\n",
       "      <td>0.0</td>\n",
       "      <td>0.0</td>\n",
       "    </tr>\n",
       "    <tr>\n",
       "      <th>3</th>\n",
       "      <td>4</td>\n",
       "      <td>01/22/2020</td>\n",
       "      <td>Fujian</td>\n",
       "      <td>Mainland China</td>\n",
       "      <td>1/22/2020 17:00</td>\n",
       "      <td>1.0</td>\n",
       "      <td>0.0</td>\n",
       "      <td>0.0</td>\n",
       "    </tr>\n",
       "    <tr>\n",
       "      <th>4</th>\n",
       "      <td>5</td>\n",
       "      <td>01/22/2020</td>\n",
       "      <td>Gansu</td>\n",
       "      <td>Mainland China</td>\n",
       "      <td>1/22/2020 17:00</td>\n",
       "      <td>0.0</td>\n",
       "      <td>0.0</td>\n",
       "      <td>0.0</td>\n",
       "    </tr>\n",
       "    <tr>\n",
       "      <th>5</th>\n",
       "      <td>6</td>\n",
       "      <td>01/22/2020</td>\n",
       "      <td>Guangdong</td>\n",
       "      <td>Mainland China</td>\n",
       "      <td>1/22/2020 17:00</td>\n",
       "      <td>26.0</td>\n",
       "      <td>0.0</td>\n",
       "      <td>0.0</td>\n",
       "    </tr>\n",
       "    <tr>\n",
       "      <th>6</th>\n",
       "      <td>7</td>\n",
       "      <td>01/22/2020</td>\n",
       "      <td>Guangxi</td>\n",
       "      <td>Mainland China</td>\n",
       "      <td>1/22/2020 17:00</td>\n",
       "      <td>2.0</td>\n",
       "      <td>0.0</td>\n",
       "      <td>0.0</td>\n",
       "    </tr>\n",
       "    <tr>\n",
       "      <th>7</th>\n",
       "      <td>8</td>\n",
       "      <td>01/22/2020</td>\n",
       "      <td>Guizhou</td>\n",
       "      <td>Mainland China</td>\n",
       "      <td>1/22/2020 17:00</td>\n",
       "      <td>1.0</td>\n",
       "      <td>0.0</td>\n",
       "      <td>0.0</td>\n",
       "    </tr>\n",
       "    <tr>\n",
       "      <th>8</th>\n",
       "      <td>9</td>\n",
       "      <td>01/22/2020</td>\n",
       "      <td>Hainan</td>\n",
       "      <td>Mainland China</td>\n",
       "      <td>1/22/2020 17:00</td>\n",
       "      <td>4.0</td>\n",
       "      <td>0.0</td>\n",
       "      <td>0.0</td>\n",
       "    </tr>\n",
       "    <tr>\n",
       "      <th>9</th>\n",
       "      <td>10</td>\n",
       "      <td>01/22/2020</td>\n",
       "      <td>Hebei</td>\n",
       "      <td>Mainland China</td>\n",
       "      <td>1/22/2020 17:00</td>\n",
       "      <td>1.0</td>\n",
       "      <td>0.0</td>\n",
       "      <td>0.0</td>\n",
       "    </tr>\n",
       "  </tbody>\n",
       "</table>\n",
       "</div>"
      ],
      "text/plain": [
       "   SNo ObservationDate Province/State  Country/Region      Last Update  \\\n",
       "0    1      01/22/2020          Anhui  Mainland China  1/22/2020 17:00   \n",
       "1    2      01/22/2020        Beijing  Mainland China  1/22/2020 17:00   \n",
       "2    3      01/22/2020      Chongqing  Mainland China  1/22/2020 17:00   \n",
       "3    4      01/22/2020         Fujian  Mainland China  1/22/2020 17:00   \n",
       "4    5      01/22/2020          Gansu  Mainland China  1/22/2020 17:00   \n",
       "5    6      01/22/2020      Guangdong  Mainland China  1/22/2020 17:00   \n",
       "6    7      01/22/2020        Guangxi  Mainland China  1/22/2020 17:00   \n",
       "7    8      01/22/2020        Guizhou  Mainland China  1/22/2020 17:00   \n",
       "8    9      01/22/2020         Hainan  Mainland China  1/22/2020 17:00   \n",
       "9   10      01/22/2020          Hebei  Mainland China  1/22/2020 17:00   \n",
       "\n",
       "   Confirmed  Deaths  Recovered  \n",
       "0        1.0     0.0        0.0  \n",
       "1       14.0     0.0        0.0  \n",
       "2        6.0     0.0        0.0  \n",
       "3        1.0     0.0        0.0  \n",
       "4        0.0     0.0        0.0  \n",
       "5       26.0     0.0        0.0  \n",
       "6        2.0     0.0        0.0  \n",
       "7        1.0     0.0        0.0  \n",
       "8        4.0     0.0        0.0  \n",
       "9        1.0     0.0        0.0  "
      ]
     },
     "execution_count": 38,
     "metadata": {},
     "output_type": "execute_result"
    }
   ],
   "source": [
    "df.head(10)"
   ]
  },
  {
   "cell_type": "markdown",
   "id": "e1fbfaa8",
   "metadata": {},
   "source": [
    "Remove columns\n",
    "- The inplace parameter is used to modify the original DataFrame.\n",
    "- The axis parameter specifies whether to drop rows (0) or columns (1). In this case, we are dropping columns."
   ]
  },
  {
   "cell_type": "code",
   "execution_count": 39,
   "id": "473c9868",
   "metadata": {},
   "outputs": [
    {
     "data": {
      "application/vnd.microsoft.datawrangler.viewer.v0+json": {
       "columns": [
        {
         "name": "index",
         "rawType": "int64",
         "type": "integer"
        },
        {
         "name": "ObservationDate",
         "rawType": "object",
         "type": "string"
        },
        {
         "name": "Province/State",
         "rawType": "object",
         "type": "string"
        },
        {
         "name": "Country/Region",
         "rawType": "object",
         "type": "string"
        },
        {
         "name": "Confirmed",
         "rawType": "float64",
         "type": "float"
        },
        {
         "name": "Deaths",
         "rawType": "float64",
         "type": "float"
        },
        {
         "name": "Recovered",
         "rawType": "float64",
         "type": "float"
        }
       ],
       "conversionMethod": "pd.DataFrame",
       "ref": "605d21b1-340e-4920-867a-a993fc39c810",
       "rows": [
        [
         "0",
         "01/22/2020",
         "Anhui",
         "Mainland China",
         "1.0",
         "0.0",
         "0.0"
        ],
        [
         "1",
         "01/22/2020",
         "Beijing",
         "Mainland China",
         "14.0",
         "0.0",
         "0.0"
        ],
        [
         "2",
         "01/22/2020",
         "Chongqing",
         "Mainland China",
         "6.0",
         "0.0",
         "0.0"
        ],
        [
         "3",
         "01/22/2020",
         "Fujian",
         "Mainland China",
         "1.0",
         "0.0",
         "0.0"
        ],
        [
         "4",
         "01/22/2020",
         "Gansu",
         "Mainland China",
         "0.0",
         "0.0",
         "0.0"
        ],
        [
         "5",
         "01/22/2020",
         "Guangdong",
         "Mainland China",
         "26.0",
         "0.0",
         "0.0"
        ],
        [
         "6",
         "01/22/2020",
         "Guangxi",
         "Mainland China",
         "2.0",
         "0.0",
         "0.0"
        ],
        [
         "7",
         "01/22/2020",
         "Guizhou",
         "Mainland China",
         "1.0",
         "0.0",
         "0.0"
        ],
        [
         "8",
         "01/22/2020",
         "Hainan",
         "Mainland China",
         "4.0",
         "0.0",
         "0.0"
        ],
        [
         "9",
         "01/22/2020",
         "Hebei",
         "Mainland China",
         "1.0",
         "0.0",
         "0.0"
        ]
       ],
       "shape": {
        "columns": 6,
        "rows": 10
       }
      },
      "text/html": [
       "<div>\n",
       "<style scoped>\n",
       "    .dataframe tbody tr th:only-of-type {\n",
       "        vertical-align: middle;\n",
       "    }\n",
       "\n",
       "    .dataframe tbody tr th {\n",
       "        vertical-align: top;\n",
       "    }\n",
       "\n",
       "    .dataframe thead th {\n",
       "        text-align: right;\n",
       "    }\n",
       "</style>\n",
       "<table border=\"1\" class=\"dataframe\">\n",
       "  <thead>\n",
       "    <tr style=\"text-align: right;\">\n",
       "      <th></th>\n",
       "      <th>ObservationDate</th>\n",
       "      <th>Province/State</th>\n",
       "      <th>Country/Region</th>\n",
       "      <th>Confirmed</th>\n",
       "      <th>Deaths</th>\n",
       "      <th>Recovered</th>\n",
       "    </tr>\n",
       "  </thead>\n",
       "  <tbody>\n",
       "    <tr>\n",
       "      <th>0</th>\n",
       "      <td>01/22/2020</td>\n",
       "      <td>Anhui</td>\n",
       "      <td>Mainland China</td>\n",
       "      <td>1.0</td>\n",
       "      <td>0.0</td>\n",
       "      <td>0.0</td>\n",
       "    </tr>\n",
       "    <tr>\n",
       "      <th>1</th>\n",
       "      <td>01/22/2020</td>\n",
       "      <td>Beijing</td>\n",
       "      <td>Mainland China</td>\n",
       "      <td>14.0</td>\n",
       "      <td>0.0</td>\n",
       "      <td>0.0</td>\n",
       "    </tr>\n",
       "    <tr>\n",
       "      <th>2</th>\n",
       "      <td>01/22/2020</td>\n",
       "      <td>Chongqing</td>\n",
       "      <td>Mainland China</td>\n",
       "      <td>6.0</td>\n",
       "      <td>0.0</td>\n",
       "      <td>0.0</td>\n",
       "    </tr>\n",
       "    <tr>\n",
       "      <th>3</th>\n",
       "      <td>01/22/2020</td>\n",
       "      <td>Fujian</td>\n",
       "      <td>Mainland China</td>\n",
       "      <td>1.0</td>\n",
       "      <td>0.0</td>\n",
       "      <td>0.0</td>\n",
       "    </tr>\n",
       "    <tr>\n",
       "      <th>4</th>\n",
       "      <td>01/22/2020</td>\n",
       "      <td>Gansu</td>\n",
       "      <td>Mainland China</td>\n",
       "      <td>0.0</td>\n",
       "      <td>0.0</td>\n",
       "      <td>0.0</td>\n",
       "    </tr>\n",
       "    <tr>\n",
       "      <th>5</th>\n",
       "      <td>01/22/2020</td>\n",
       "      <td>Guangdong</td>\n",
       "      <td>Mainland China</td>\n",
       "      <td>26.0</td>\n",
       "      <td>0.0</td>\n",
       "      <td>0.0</td>\n",
       "    </tr>\n",
       "    <tr>\n",
       "      <th>6</th>\n",
       "      <td>01/22/2020</td>\n",
       "      <td>Guangxi</td>\n",
       "      <td>Mainland China</td>\n",
       "      <td>2.0</td>\n",
       "      <td>0.0</td>\n",
       "      <td>0.0</td>\n",
       "    </tr>\n",
       "    <tr>\n",
       "      <th>7</th>\n",
       "      <td>01/22/2020</td>\n",
       "      <td>Guizhou</td>\n",
       "      <td>Mainland China</td>\n",
       "      <td>1.0</td>\n",
       "      <td>0.0</td>\n",
       "      <td>0.0</td>\n",
       "    </tr>\n",
       "    <tr>\n",
       "      <th>8</th>\n",
       "      <td>01/22/2020</td>\n",
       "      <td>Hainan</td>\n",
       "      <td>Mainland China</td>\n",
       "      <td>4.0</td>\n",
       "      <td>0.0</td>\n",
       "      <td>0.0</td>\n",
       "    </tr>\n",
       "    <tr>\n",
       "      <th>9</th>\n",
       "      <td>01/22/2020</td>\n",
       "      <td>Hebei</td>\n",
       "      <td>Mainland China</td>\n",
       "      <td>1.0</td>\n",
       "      <td>0.0</td>\n",
       "      <td>0.0</td>\n",
       "    </tr>\n",
       "  </tbody>\n",
       "</table>\n",
       "</div>"
      ],
      "text/plain": [
       "  ObservationDate Province/State  Country/Region  Confirmed  Deaths  Recovered\n",
       "0      01/22/2020          Anhui  Mainland China        1.0     0.0        0.0\n",
       "1      01/22/2020        Beijing  Mainland China       14.0     0.0        0.0\n",
       "2      01/22/2020      Chongqing  Mainland China        6.0     0.0        0.0\n",
       "3      01/22/2020         Fujian  Mainland China        1.0     0.0        0.0\n",
       "4      01/22/2020          Gansu  Mainland China        0.0     0.0        0.0\n",
       "5      01/22/2020      Guangdong  Mainland China       26.0     0.0        0.0\n",
       "6      01/22/2020        Guangxi  Mainland China        2.0     0.0        0.0\n",
       "7      01/22/2020        Guizhou  Mainland China        1.0     0.0        0.0\n",
       "8      01/22/2020         Hainan  Mainland China        4.0     0.0        0.0\n",
       "9      01/22/2020          Hebei  Mainland China        1.0     0.0        0.0"
      ]
     },
     "execution_count": 39,
     "metadata": {},
     "output_type": "execute_result"
    }
   ],
   "source": [
    "df.drop([\"SNo\", \"Last Update\"],axis=1,inplace=True) # The inplace parameter is used to modify the original DataFrame and the axis parameter specifies whether to drop rows (0) or columns (1). In this case, we are dropping columns.\n",
    "df.head(10)"
   ]
  },
  {
   "cell_type": "markdown",
   "id": "e32e2964",
   "metadata": {},
   "source": [
    "Rename Columns"
   ]
  },
  {
   "cell_type": "code",
   "execution_count": 40,
   "id": "93315c51",
   "metadata": {},
   "outputs": [
    {
     "data": {
      "application/vnd.microsoft.datawrangler.viewer.v0+json": {
       "columns": [
        {
         "name": "index",
         "rawType": "int64",
         "type": "integer"
        },
        {
         "name": "Date",
         "rawType": "object",
         "type": "string"
        },
        {
         "name": "Province",
         "rawType": "object",
         "type": "string"
        },
        {
         "name": "Country",
         "rawType": "object",
         "type": "string"
        },
        {
         "name": "Confirmed",
         "rawType": "float64",
         "type": "float"
        },
        {
         "name": "Deaths",
         "rawType": "float64",
         "type": "float"
        },
        {
         "name": "Recovered",
         "rawType": "float64",
         "type": "float"
        }
       ],
       "conversionMethod": "pd.DataFrame",
       "ref": "b1524b76-835d-47d4-a741-9bb08e7b2eae",
       "rows": [
        [
         "0",
         "01/22/2020",
         "Anhui",
         "Mainland China",
         "1.0",
         "0.0",
         "0.0"
        ],
        [
         "1",
         "01/22/2020",
         "Beijing",
         "Mainland China",
         "14.0",
         "0.0",
         "0.0"
        ],
        [
         "2",
         "01/22/2020",
         "Chongqing",
         "Mainland China",
         "6.0",
         "0.0",
         "0.0"
        ],
        [
         "3",
         "01/22/2020",
         "Fujian",
         "Mainland China",
         "1.0",
         "0.0",
         "0.0"
        ],
        [
         "4",
         "01/22/2020",
         "Gansu",
         "Mainland China",
         "0.0",
         "0.0",
         "0.0"
        ],
        [
         "5",
         "01/22/2020",
         "Guangdong",
         "Mainland China",
         "26.0",
         "0.0",
         "0.0"
        ],
        [
         "6",
         "01/22/2020",
         "Guangxi",
         "Mainland China",
         "2.0",
         "0.0",
         "0.0"
        ],
        [
         "7",
         "01/22/2020",
         "Guizhou",
         "Mainland China",
         "1.0",
         "0.0",
         "0.0"
        ],
        [
         "8",
         "01/22/2020",
         "Hainan",
         "Mainland China",
         "4.0",
         "0.0",
         "0.0"
        ],
        [
         "9",
         "01/22/2020",
         "Hebei",
         "Mainland China",
         "1.0",
         "0.0",
         "0.0"
        ]
       ],
       "shape": {
        "columns": 6,
        "rows": 10
       }
      },
      "text/html": [
       "<div>\n",
       "<style scoped>\n",
       "    .dataframe tbody tr th:only-of-type {\n",
       "        vertical-align: middle;\n",
       "    }\n",
       "\n",
       "    .dataframe tbody tr th {\n",
       "        vertical-align: top;\n",
       "    }\n",
       "\n",
       "    .dataframe thead th {\n",
       "        text-align: right;\n",
       "    }\n",
       "</style>\n",
       "<table border=\"1\" class=\"dataframe\">\n",
       "  <thead>\n",
       "    <tr style=\"text-align: right;\">\n",
       "      <th></th>\n",
       "      <th>Date</th>\n",
       "      <th>Province</th>\n",
       "      <th>Country</th>\n",
       "      <th>Confirmed</th>\n",
       "      <th>Deaths</th>\n",
       "      <th>Recovered</th>\n",
       "    </tr>\n",
       "  </thead>\n",
       "  <tbody>\n",
       "    <tr>\n",
       "      <th>0</th>\n",
       "      <td>01/22/2020</td>\n",
       "      <td>Anhui</td>\n",
       "      <td>Mainland China</td>\n",
       "      <td>1.0</td>\n",
       "      <td>0.0</td>\n",
       "      <td>0.0</td>\n",
       "    </tr>\n",
       "    <tr>\n",
       "      <th>1</th>\n",
       "      <td>01/22/2020</td>\n",
       "      <td>Beijing</td>\n",
       "      <td>Mainland China</td>\n",
       "      <td>14.0</td>\n",
       "      <td>0.0</td>\n",
       "      <td>0.0</td>\n",
       "    </tr>\n",
       "    <tr>\n",
       "      <th>2</th>\n",
       "      <td>01/22/2020</td>\n",
       "      <td>Chongqing</td>\n",
       "      <td>Mainland China</td>\n",
       "      <td>6.0</td>\n",
       "      <td>0.0</td>\n",
       "      <td>0.0</td>\n",
       "    </tr>\n",
       "    <tr>\n",
       "      <th>3</th>\n",
       "      <td>01/22/2020</td>\n",
       "      <td>Fujian</td>\n",
       "      <td>Mainland China</td>\n",
       "      <td>1.0</td>\n",
       "      <td>0.0</td>\n",
       "      <td>0.0</td>\n",
       "    </tr>\n",
       "    <tr>\n",
       "      <th>4</th>\n",
       "      <td>01/22/2020</td>\n",
       "      <td>Gansu</td>\n",
       "      <td>Mainland China</td>\n",
       "      <td>0.0</td>\n",
       "      <td>0.0</td>\n",
       "      <td>0.0</td>\n",
       "    </tr>\n",
       "    <tr>\n",
       "      <th>5</th>\n",
       "      <td>01/22/2020</td>\n",
       "      <td>Guangdong</td>\n",
       "      <td>Mainland China</td>\n",
       "      <td>26.0</td>\n",
       "      <td>0.0</td>\n",
       "      <td>0.0</td>\n",
       "    </tr>\n",
       "    <tr>\n",
       "      <th>6</th>\n",
       "      <td>01/22/2020</td>\n",
       "      <td>Guangxi</td>\n",
       "      <td>Mainland China</td>\n",
       "      <td>2.0</td>\n",
       "      <td>0.0</td>\n",
       "      <td>0.0</td>\n",
       "    </tr>\n",
       "    <tr>\n",
       "      <th>7</th>\n",
       "      <td>01/22/2020</td>\n",
       "      <td>Guizhou</td>\n",
       "      <td>Mainland China</td>\n",
       "      <td>1.0</td>\n",
       "      <td>0.0</td>\n",
       "      <td>0.0</td>\n",
       "    </tr>\n",
       "    <tr>\n",
       "      <th>8</th>\n",
       "      <td>01/22/2020</td>\n",
       "      <td>Hainan</td>\n",
       "      <td>Mainland China</td>\n",
       "      <td>4.0</td>\n",
       "      <td>0.0</td>\n",
       "      <td>0.0</td>\n",
       "    </tr>\n",
       "    <tr>\n",
       "      <th>9</th>\n",
       "      <td>01/22/2020</td>\n",
       "      <td>Hebei</td>\n",
       "      <td>Mainland China</td>\n",
       "      <td>1.0</td>\n",
       "      <td>0.0</td>\n",
       "      <td>0.0</td>\n",
       "    </tr>\n",
       "  </tbody>\n",
       "</table>\n",
       "</div>"
      ],
      "text/plain": [
       "         Date   Province         Country  Confirmed  Deaths  Recovered\n",
       "0  01/22/2020      Anhui  Mainland China        1.0     0.0        0.0\n",
       "1  01/22/2020    Beijing  Mainland China       14.0     0.0        0.0\n",
       "2  01/22/2020  Chongqing  Mainland China        6.0     0.0        0.0\n",
       "3  01/22/2020     Fujian  Mainland China        1.0     0.0        0.0\n",
       "4  01/22/2020      Gansu  Mainland China        0.0     0.0        0.0\n",
       "5  01/22/2020  Guangdong  Mainland China       26.0     0.0        0.0\n",
       "6  01/22/2020    Guangxi  Mainland China        2.0     0.0        0.0\n",
       "7  01/22/2020    Guizhou  Mainland China        1.0     0.0        0.0\n",
       "8  01/22/2020     Hainan  Mainland China        4.0     0.0        0.0\n",
       "9  01/22/2020      Hebei  Mainland China        1.0     0.0        0.0"
      ]
     },
     "execution_count": 40,
     "metadata": {},
     "output_type": "execute_result"
    }
   ],
   "source": [
    "df.rename(columns={\"ObservationDate\":\"Date\",\"Province/State\":\"Province\",\"Country/Region\":\"Country\"},inplace=True)\n",
    "df.head(10)"
   ]
  },
  {
   "cell_type": "markdown",
   "id": "f4745f45",
   "metadata": {},
   "source": [
    "Change Date format"
   ]
  },
  {
   "cell_type": "code",
   "execution_count": 41,
   "id": "dad16589",
   "metadata": {},
   "outputs": [
    {
     "data": {
      "application/vnd.microsoft.datawrangler.viewer.v0+json": {
       "columns": [
        {
         "name": "index",
         "rawType": "int64",
         "type": "integer"
        },
        {
         "name": "Date",
         "rawType": "datetime64[ns]",
         "type": "datetime"
        },
        {
         "name": "Province",
         "rawType": "object",
         "type": "string"
        },
        {
         "name": "Country",
         "rawType": "object",
         "type": "string"
        },
        {
         "name": "Confirmed",
         "rawType": "float64",
         "type": "float"
        },
        {
         "name": "Deaths",
         "rawType": "float64",
         "type": "float"
        },
        {
         "name": "Recovered",
         "rawType": "float64",
         "type": "float"
        }
       ],
       "conversionMethod": "pd.DataFrame",
       "ref": "11e19f2d-8c5a-4055-94ef-8c29f84a1566",
       "rows": [
        [
         "0",
         "2020-01-22 00:00:00",
         "Anhui",
         "Mainland China",
         "1.0",
         "0.0",
         "0.0"
        ],
        [
         "1",
         "2020-01-22 00:00:00",
         "Beijing",
         "Mainland China",
         "14.0",
         "0.0",
         "0.0"
        ],
        [
         "2",
         "2020-01-22 00:00:00",
         "Chongqing",
         "Mainland China",
         "6.0",
         "0.0",
         "0.0"
        ],
        [
         "3",
         "2020-01-22 00:00:00",
         "Fujian",
         "Mainland China",
         "1.0",
         "0.0",
         "0.0"
        ],
        [
         "4",
         "2020-01-22 00:00:00",
         "Gansu",
         "Mainland China",
         "0.0",
         "0.0",
         "0.0"
        ],
        [
         "5",
         "2020-01-22 00:00:00",
         "Guangdong",
         "Mainland China",
         "26.0",
         "0.0",
         "0.0"
        ],
        [
         "6",
         "2020-01-22 00:00:00",
         "Guangxi",
         "Mainland China",
         "2.0",
         "0.0",
         "0.0"
        ],
        [
         "7",
         "2020-01-22 00:00:00",
         "Guizhou",
         "Mainland China",
         "1.0",
         "0.0",
         "0.0"
        ],
        [
         "8",
         "2020-01-22 00:00:00",
         "Hainan",
         "Mainland China",
         "4.0",
         "0.0",
         "0.0"
        ],
        [
         "9",
         "2020-01-22 00:00:00",
         "Hebei",
         "Mainland China",
         "1.0",
         "0.0",
         "0.0"
        ]
       ],
       "shape": {
        "columns": 6,
        "rows": 10
       }
      },
      "text/html": [
       "<div>\n",
       "<style scoped>\n",
       "    .dataframe tbody tr th:only-of-type {\n",
       "        vertical-align: middle;\n",
       "    }\n",
       "\n",
       "    .dataframe tbody tr th {\n",
       "        vertical-align: top;\n",
       "    }\n",
       "\n",
       "    .dataframe thead th {\n",
       "        text-align: right;\n",
       "    }\n",
       "</style>\n",
       "<table border=\"1\" class=\"dataframe\">\n",
       "  <thead>\n",
       "    <tr style=\"text-align: right;\">\n",
       "      <th></th>\n",
       "      <th>Date</th>\n",
       "      <th>Province</th>\n",
       "      <th>Country</th>\n",
       "      <th>Confirmed</th>\n",
       "      <th>Deaths</th>\n",
       "      <th>Recovered</th>\n",
       "    </tr>\n",
       "  </thead>\n",
       "  <tbody>\n",
       "    <tr>\n",
       "      <th>0</th>\n",
       "      <td>2020-01-22</td>\n",
       "      <td>Anhui</td>\n",
       "      <td>Mainland China</td>\n",
       "      <td>1.0</td>\n",
       "      <td>0.0</td>\n",
       "      <td>0.0</td>\n",
       "    </tr>\n",
       "    <tr>\n",
       "      <th>1</th>\n",
       "      <td>2020-01-22</td>\n",
       "      <td>Beijing</td>\n",
       "      <td>Mainland China</td>\n",
       "      <td>14.0</td>\n",
       "      <td>0.0</td>\n",
       "      <td>0.0</td>\n",
       "    </tr>\n",
       "    <tr>\n",
       "      <th>2</th>\n",
       "      <td>2020-01-22</td>\n",
       "      <td>Chongqing</td>\n",
       "      <td>Mainland China</td>\n",
       "      <td>6.0</td>\n",
       "      <td>0.0</td>\n",
       "      <td>0.0</td>\n",
       "    </tr>\n",
       "    <tr>\n",
       "      <th>3</th>\n",
       "      <td>2020-01-22</td>\n",
       "      <td>Fujian</td>\n",
       "      <td>Mainland China</td>\n",
       "      <td>1.0</td>\n",
       "      <td>0.0</td>\n",
       "      <td>0.0</td>\n",
       "    </tr>\n",
       "    <tr>\n",
       "      <th>4</th>\n",
       "      <td>2020-01-22</td>\n",
       "      <td>Gansu</td>\n",
       "      <td>Mainland China</td>\n",
       "      <td>0.0</td>\n",
       "      <td>0.0</td>\n",
       "      <td>0.0</td>\n",
       "    </tr>\n",
       "    <tr>\n",
       "      <th>5</th>\n",
       "      <td>2020-01-22</td>\n",
       "      <td>Guangdong</td>\n",
       "      <td>Mainland China</td>\n",
       "      <td>26.0</td>\n",
       "      <td>0.0</td>\n",
       "      <td>0.0</td>\n",
       "    </tr>\n",
       "    <tr>\n",
       "      <th>6</th>\n",
       "      <td>2020-01-22</td>\n",
       "      <td>Guangxi</td>\n",
       "      <td>Mainland China</td>\n",
       "      <td>2.0</td>\n",
       "      <td>0.0</td>\n",
       "      <td>0.0</td>\n",
       "    </tr>\n",
       "    <tr>\n",
       "      <th>7</th>\n",
       "      <td>2020-01-22</td>\n",
       "      <td>Guizhou</td>\n",
       "      <td>Mainland China</td>\n",
       "      <td>1.0</td>\n",
       "      <td>0.0</td>\n",
       "      <td>0.0</td>\n",
       "    </tr>\n",
       "    <tr>\n",
       "      <th>8</th>\n",
       "      <td>2020-01-22</td>\n",
       "      <td>Hainan</td>\n",
       "      <td>Mainland China</td>\n",
       "      <td>4.0</td>\n",
       "      <td>0.0</td>\n",
       "      <td>0.0</td>\n",
       "    </tr>\n",
       "    <tr>\n",
       "      <th>9</th>\n",
       "      <td>2020-01-22</td>\n",
       "      <td>Hebei</td>\n",
       "      <td>Mainland China</td>\n",
       "      <td>1.0</td>\n",
       "      <td>0.0</td>\n",
       "      <td>0.0</td>\n",
       "    </tr>\n",
       "  </tbody>\n",
       "</table>\n",
       "</div>"
      ],
      "text/plain": [
       "        Date   Province         Country  Confirmed  Deaths  Recovered\n",
       "0 2020-01-22      Anhui  Mainland China        1.0     0.0        0.0\n",
       "1 2020-01-22    Beijing  Mainland China       14.0     0.0        0.0\n",
       "2 2020-01-22  Chongqing  Mainland China        6.0     0.0        0.0\n",
       "3 2020-01-22     Fujian  Mainland China        1.0     0.0        0.0\n",
       "4 2020-01-22      Gansu  Mainland China        0.0     0.0        0.0\n",
       "5 2020-01-22  Guangdong  Mainland China       26.0     0.0        0.0\n",
       "6 2020-01-22    Guangxi  Mainland China        2.0     0.0        0.0\n",
       "7 2020-01-22    Guizhou  Mainland China        1.0     0.0        0.0\n",
       "8 2020-01-22     Hainan  Mainland China        4.0     0.0        0.0\n",
       "9 2020-01-22      Hebei  Mainland China        1.0     0.0        0.0"
      ]
     },
     "execution_count": 41,
     "metadata": {},
     "output_type": "execute_result"
    }
   ],
   "source": [
    "df['Date'] = pd.to_datetime(df['Date'])\n",
    "df.head(10)"
   ]
  },
  {
   "cell_type": "markdown",
   "id": "51f7d99e",
   "metadata": {},
   "source": [
    "#### Describe"
   ]
  },
  {
   "cell_type": "code",
   "execution_count": 42,
   "id": "196655a9",
   "metadata": {},
   "outputs": [
    {
     "data": {
      "application/vnd.microsoft.datawrangler.viewer.v0+json": {
       "columns": [
        {
         "name": "index",
         "rawType": "object",
         "type": "string"
        },
        {
         "name": "Date",
         "rawType": "object",
         "type": "unknown"
        },
        {
         "name": "Confirmed",
         "rawType": "float64",
         "type": "float"
        },
        {
         "name": "Deaths",
         "rawType": "float64",
         "type": "float"
        },
        {
         "name": "Recovered",
         "rawType": "float64",
         "type": "float"
        }
       ],
       "conversionMethod": "pd.DataFrame",
       "ref": "e2fa8df3-ba1b-41f8-85d1-b6c8d208ab9a",
       "rows": [
        [
         "count",
         "306429",
         "306429.0",
         "306429.0",
         "306429.0"
        ],
        [
         "mean",
         "2020-11-06 01:54:54.146441728",
         "85670.91155863185",
         "2036.4032679674574",
         "50420.28630449468"
        ],
        [
         "min",
         "2020-01-22 00:00:00",
         "-302844.0",
         "-178.0",
         "-854405.0"
        ],
        [
         "25%",
         "2020-07-30 00:00:00",
         "1042.0",
         "13.0",
         "11.0"
        ],
        [
         "50%",
         "2020-11-10 00:00:00",
         "10375.0",
         "192.0",
         "1751.0"
        ],
        [
         "75%",
         "2021-02-18 00:00:00",
         "50752.0",
         "1322.0",
         "20270.0"
        ],
        [
         "max",
         "2021-05-29 00:00:00",
         "5863138.0",
         "112385.0",
         "6399531.0"
        ],
        [
         "std",
         null,
         "277551.6040431502",
         "6410.9380477066725",
         "201512.44783805608"
        ]
       ],
       "shape": {
        "columns": 4,
        "rows": 8
       }
      },
      "text/html": [
       "<div>\n",
       "<style scoped>\n",
       "    .dataframe tbody tr th:only-of-type {\n",
       "        vertical-align: middle;\n",
       "    }\n",
       "\n",
       "    .dataframe tbody tr th {\n",
       "        vertical-align: top;\n",
       "    }\n",
       "\n",
       "    .dataframe thead th {\n",
       "        text-align: right;\n",
       "    }\n",
       "</style>\n",
       "<table border=\"1\" class=\"dataframe\">\n",
       "  <thead>\n",
       "    <tr style=\"text-align: right;\">\n",
       "      <th></th>\n",
       "      <th>Date</th>\n",
       "      <th>Confirmed</th>\n",
       "      <th>Deaths</th>\n",
       "      <th>Recovered</th>\n",
       "    </tr>\n",
       "  </thead>\n",
       "  <tbody>\n",
       "    <tr>\n",
       "      <th>count</th>\n",
       "      <td>306429</td>\n",
       "      <td>3.064290e+05</td>\n",
       "      <td>306429.000000</td>\n",
       "      <td>3.064290e+05</td>\n",
       "    </tr>\n",
       "    <tr>\n",
       "      <th>mean</th>\n",
       "      <td>2020-11-06 01:54:54.146441728</td>\n",
       "      <td>8.567091e+04</td>\n",
       "      <td>2036.403268</td>\n",
       "      <td>5.042029e+04</td>\n",
       "    </tr>\n",
       "    <tr>\n",
       "      <th>min</th>\n",
       "      <td>2020-01-22 00:00:00</td>\n",
       "      <td>-3.028440e+05</td>\n",
       "      <td>-178.000000</td>\n",
       "      <td>-8.544050e+05</td>\n",
       "    </tr>\n",
       "    <tr>\n",
       "      <th>25%</th>\n",
       "      <td>2020-07-30 00:00:00</td>\n",
       "      <td>1.042000e+03</td>\n",
       "      <td>13.000000</td>\n",
       "      <td>1.100000e+01</td>\n",
       "    </tr>\n",
       "    <tr>\n",
       "      <th>50%</th>\n",
       "      <td>2020-11-10 00:00:00</td>\n",
       "      <td>1.037500e+04</td>\n",
       "      <td>192.000000</td>\n",
       "      <td>1.751000e+03</td>\n",
       "    </tr>\n",
       "    <tr>\n",
       "      <th>75%</th>\n",
       "      <td>2021-02-18 00:00:00</td>\n",
       "      <td>5.075200e+04</td>\n",
       "      <td>1322.000000</td>\n",
       "      <td>2.027000e+04</td>\n",
       "    </tr>\n",
       "    <tr>\n",
       "      <th>max</th>\n",
       "      <td>2021-05-29 00:00:00</td>\n",
       "      <td>5.863138e+06</td>\n",
       "      <td>112385.000000</td>\n",
       "      <td>6.399531e+06</td>\n",
       "    </tr>\n",
       "    <tr>\n",
       "      <th>std</th>\n",
       "      <td>NaN</td>\n",
       "      <td>2.775516e+05</td>\n",
       "      <td>6410.938048</td>\n",
       "      <td>2.015124e+05</td>\n",
       "    </tr>\n",
       "  </tbody>\n",
       "</table>\n",
       "</div>"
      ],
      "text/plain": [
       "                                Date     Confirmed         Deaths  \\\n",
       "count                         306429  3.064290e+05  306429.000000   \n",
       "mean   2020-11-06 01:54:54.146441728  8.567091e+04    2036.403268   \n",
       "min              2020-01-22 00:00:00 -3.028440e+05    -178.000000   \n",
       "25%              2020-07-30 00:00:00  1.042000e+03      13.000000   \n",
       "50%              2020-11-10 00:00:00  1.037500e+04     192.000000   \n",
       "75%              2021-02-18 00:00:00  5.075200e+04    1322.000000   \n",
       "max              2021-05-29 00:00:00  5.863138e+06  112385.000000   \n",
       "std                              NaN  2.775516e+05    6410.938048   \n",
       "\n",
       "          Recovered  \n",
       "count  3.064290e+05  \n",
       "mean   5.042029e+04  \n",
       "min   -8.544050e+05  \n",
       "25%    1.100000e+01  \n",
       "50%    1.751000e+03  \n",
       "75%    2.027000e+04  \n",
       "max    6.399531e+06  \n",
       "std    2.015124e+05  "
      ]
     },
     "execution_count": 42,
     "metadata": {},
     "output_type": "execute_result"
    }
   ],
   "source": [
    "df.describe()"
   ]
  },
  {
   "cell_type": "markdown",
   "id": "49fb2b94",
   "metadata": {},
   "source": [
    "#### Info"
   ]
  },
  {
   "cell_type": "code",
   "execution_count": 43,
   "id": "6fd4910c",
   "metadata": {},
   "outputs": [
    {
     "name": "stdout",
     "output_type": "stream",
     "text": [
      "<class 'pandas.core.frame.DataFrame'>\n",
      "RangeIndex: 306429 entries, 0 to 306428\n",
      "Data columns (total 6 columns):\n",
      " #   Column     Non-Null Count   Dtype         \n",
      "---  ------     --------------   -----         \n",
      " 0   Date       306429 non-null  datetime64[ns]\n",
      " 1   Province   228326 non-null  object        \n",
      " 2   Country    306429 non-null  object        \n",
      " 3   Confirmed  306429 non-null  float64       \n",
      " 4   Deaths     306429 non-null  float64       \n",
      " 5   Recovered  306429 non-null  float64       \n",
      "dtypes: datetime64[ns](1), float64(3), object(2)\n",
      "memory usage: 14.0+ MB\n"
     ]
    }
   ],
   "source": [
    "df.info()"
   ]
  },
  {
   "cell_type": "markdown",
   "id": "438caad0",
   "metadata": {},
   "source": [
    "Get rid of non-null values"
   ]
  },
  {
   "cell_type": "code",
   "execution_count": 44,
   "id": "b833e048",
   "metadata": {},
   "outputs": [],
   "source": [
    "df.fillna(\"NA\", inplace=True)"
   ]
  },
  {
   "cell_type": "code",
   "execution_count": 45,
   "id": "b2d6f711",
   "metadata": {},
   "outputs": [
    {
     "name": "stdout",
     "output_type": "stream",
     "text": [
      "<class 'pandas.core.frame.DataFrame'>\n",
      "RangeIndex: 306429 entries, 0 to 306428\n",
      "Data columns (total 6 columns):\n",
      " #   Column     Non-Null Count   Dtype         \n",
      "---  ------     --------------   -----         \n",
      " 0   Date       306429 non-null  datetime64[ns]\n",
      " 1   Province   306429 non-null  object        \n",
      " 2   Country    306429 non-null  object        \n",
      " 3   Confirmed  306429 non-null  float64       \n",
      " 4   Deaths     306429 non-null  float64       \n",
      " 5   Recovered  306429 non-null  float64       \n",
      "dtypes: datetime64[ns](1), float64(3), object(2)\n",
      "memory usage: 14.0+ MB\n"
     ]
    }
   ],
   "source": [
    "df.info()"
   ]
  },
  {
   "cell_type": "markdown",
   "id": "9b619fdd",
   "metadata": {},
   "source": [
    "Access specific columns"
   ]
  },
  {
   "cell_type": "code",
   "execution_count": 46,
   "id": "ffb93258",
   "metadata": {},
   "outputs": [
    {
     "data": {
      "application/vnd.microsoft.datawrangler.viewer.v0+json": {
       "columns": [
        {
         "name": "index",
         "rawType": "int64",
         "type": "integer"
        },
        {
         "name": "Deaths",
         "rawType": "float64",
         "type": "float"
        },
        {
         "name": "Recovered",
         "rawType": "float64",
         "type": "float"
        }
       ],
       "conversionMethod": "pd.DataFrame",
       "ref": "a208c66a-d580-44b8-9305-dcb07ff189d4",
       "rows": [
        [
         "306419",
         "2.0",
         "82.0"
        ],
        [
         "306420",
         "2.0",
         "331.0"
        ],
        [
         "306421",
         "669.0",
         "41650.0"
        ],
        [
         "306422",
         "2797.0",
         "0.0"
        ],
        [
         "306423",
         "1586.0",
         "58882.0"
        ],
        [
         "306424",
         "2335.0",
         "95289.0"
        ],
        [
         "306425",
         "245.0",
         "0.0"
        ],
        [
         "306426",
         "1.0",
         "1324.0"
        ],
        [
         "306427",
         "1738.0",
         "83790.0"
        ],
        [
         "306428",
         "4252.0",
         "0.0"
        ]
       ],
       "shape": {
        "columns": 2,
        "rows": 10
       }
      },
      "text/html": [
       "<div>\n",
       "<style scoped>\n",
       "    .dataframe tbody tr th:only-of-type {\n",
       "        vertical-align: middle;\n",
       "    }\n",
       "\n",
       "    .dataframe tbody tr th {\n",
       "        vertical-align: top;\n",
       "    }\n",
       "\n",
       "    .dataframe thead th {\n",
       "        text-align: right;\n",
       "    }\n",
       "</style>\n",
       "<table border=\"1\" class=\"dataframe\">\n",
       "  <thead>\n",
       "    <tr style=\"text-align: right;\">\n",
       "      <th></th>\n",
       "      <th>Deaths</th>\n",
       "      <th>Recovered</th>\n",
       "    </tr>\n",
       "  </thead>\n",
       "  <tbody>\n",
       "    <tr>\n",
       "      <th>306419</th>\n",
       "      <td>2.0</td>\n",
       "      <td>82.0</td>\n",
       "    </tr>\n",
       "    <tr>\n",
       "      <th>306420</th>\n",
       "      <td>2.0</td>\n",
       "      <td>331.0</td>\n",
       "    </tr>\n",
       "    <tr>\n",
       "      <th>306421</th>\n",
       "      <td>669.0</td>\n",
       "      <td>41650.0</td>\n",
       "    </tr>\n",
       "    <tr>\n",
       "      <th>306422</th>\n",
       "      <td>2797.0</td>\n",
       "      <td>0.0</td>\n",
       "    </tr>\n",
       "    <tr>\n",
       "      <th>306423</th>\n",
       "      <td>1586.0</td>\n",
       "      <td>58882.0</td>\n",
       "    </tr>\n",
       "    <tr>\n",
       "      <th>306424</th>\n",
       "      <td>2335.0</td>\n",
       "      <td>95289.0</td>\n",
       "    </tr>\n",
       "    <tr>\n",
       "      <th>306425</th>\n",
       "      <td>245.0</td>\n",
       "      <td>0.0</td>\n",
       "    </tr>\n",
       "    <tr>\n",
       "      <th>306426</th>\n",
       "      <td>1.0</td>\n",
       "      <td>1324.0</td>\n",
       "    </tr>\n",
       "    <tr>\n",
       "      <th>306427</th>\n",
       "      <td>1738.0</td>\n",
       "      <td>83790.0</td>\n",
       "    </tr>\n",
       "    <tr>\n",
       "      <th>306428</th>\n",
       "      <td>4252.0</td>\n",
       "      <td>0.0</td>\n",
       "    </tr>\n",
       "  </tbody>\n",
       "</table>\n",
       "</div>"
      ],
      "text/plain": [
       "        Deaths  Recovered\n",
       "306419     2.0       82.0\n",
       "306420     2.0      331.0\n",
       "306421   669.0    41650.0\n",
       "306422  2797.0        0.0\n",
       "306423  1586.0    58882.0\n",
       "306424  2335.0    95289.0\n",
       "306425   245.0        0.0\n",
       "306426     1.0     1324.0\n",
       "306427  1738.0    83790.0\n",
       "306428  4252.0        0.0"
      ]
     },
     "execution_count": 46,
     "metadata": {},
     "output_type": "execute_result"
    }
   ],
   "source": [
    "df[[\"Deaths\",\"Recovered\"]].tail(10)"
   ]
  },
  {
   "cell_type": "markdown",
   "id": "b1e3d6ab",
   "metadata": {},
   "source": [
    "Access one column"
   ]
  },
  {
   "cell_type": "code",
   "execution_count": 47,
   "id": "85cffc29",
   "metadata": {},
   "outputs": [
    {
     "data": {
      "text/plain": [
       "306419       2.0\n",
       "306420       2.0\n",
       "306421     669.0\n",
       "306422    2797.0\n",
       "306423    1586.0\n",
       "306424    2335.0\n",
       "306425     245.0\n",
       "306426       1.0\n",
       "306427    1738.0\n",
       "306428    4252.0\n",
       "Name: Deaths, dtype: float64"
      ]
     },
     "execution_count": 47,
     "metadata": {},
     "output_type": "execute_result"
    }
   ],
   "source": [
    "df.Deaths.tail(10)"
   ]
  },
  {
   "cell_type": "markdown",
   "id": "b60afbed",
   "metadata": {},
   "source": [
    "Get Max value"
   ]
  },
  {
   "cell_type": "code",
   "execution_count": 48,
   "id": "312197f6",
   "metadata": {},
   "outputs": [
    {
     "data": {
      "text/plain": [
       "np.float64(112385.0)"
      ]
     },
     "execution_count": 48,
     "metadata": {},
     "output_type": "execute_result"
    }
   ],
   "source": [
    "df.Deaths.max()"
   ]
  },
  {
   "cell_type": "code",
   "execution_count": 49,
   "id": "8cc23ca9",
   "metadata": {},
   "outputs": [
    {
     "data": {
      "text/plain": [
       "np.float64(-178.0)"
      ]
     },
     "execution_count": 49,
     "metadata": {},
     "output_type": "execute_result"
    }
   ],
   "source": [
    "df.Deaths.min()"
   ]
  },
  {
   "cell_type": "markdown",
   "id": "3db6030d",
   "metadata": {},
   "source": [
    "## Grouping"
   ]
  },
  {
   "cell_type": "markdown",
   "id": "72f3f8ca",
   "metadata": {},
   "source": [
    "By country"
   ]
  },
  {
   "cell_type": "code",
   "execution_count": 56,
   "id": "d7ce0180",
   "metadata": {},
   "outputs": [
    {
     "data": {
      "application/vnd.microsoft.datawrangler.viewer.v0+json": {
       "columns": [
        {
         "name": "index",
         "rawType": "int64",
         "type": "integer"
        },
        {
         "name": "Country",
         "rawType": "object",
         "type": "string"
        },
        {
         "name": "Confirmed",
         "rawType": "float64",
         "type": "float"
        },
        {
         "name": "Deaths",
         "rawType": "float64",
         "type": "float"
        },
        {
         "name": "Recovered",
         "rawType": "float64",
         "type": "float"
        }
       ],
       "conversionMethod": "pd.DataFrame",
       "ref": "89c1ea70-55ab-42ab-97c3-d53ae13b6e7c",
       "rows": [
        [
         "0",
         " Azerbaijan",
         "1.0",
         "0.0",
         "0.0"
        ],
        [
         "1",
         "('St. Martin',)",
         "2.0",
         "0.0",
         "0.0"
        ],
        [
         "2",
         "Afghanistan",
         "17026442.0",
         "669075.0",
         "13464399.0"
        ],
        [
         "3",
         "Albania",
         "19768869.0",
         "375955.0",
         "13945256.0"
        ],
        [
         "4",
         "Algeria",
         "27684358.0",
         "834464.0",
         "18959299.0"
        ],
        [
         "5",
         "Andorra",
         "2379802.0",
         "32100.0",
         "2162473.0"
        ],
        [
         "6",
         "Angola",
         "4764863.0",
         "116489.0",
         "3683041.0"
        ],
        [
         "7",
         "Antigua and Barbuda",
         "143868.0",
         "4059.0",
         "109958.0"
        ],
        [
         "8",
         "Argentina",
         "504802880.0",
         "12112441.0",
         "438750295.0"
        ],
        [
         "9",
         "Armenia",
         "42536277.0",
         "770759.0",
         "37101575.0"
        ],
        [
         "10",
         "Aruba",
         "19.0",
         "0.0",
         "0.0"
        ],
        [
         "11",
         "Australia",
         "9447438.0",
         "268435.0",
         "7219933.0"
        ],
        [
         "12",
         "Austria",
         "97965875.0",
         "1678309.0",
         "89050545.0"
        ],
        [
         "13",
         "Azerbaijan",
         "52366764.0",
         "705690.0",
         "46657708.0"
        ],
        [
         "14",
         "Bahamas",
         "2139331.0",
         "45743.0",
         "1701658.0"
        ],
        [
         "15",
         "Bahamas, The",
         "10.0",
         "0.0",
         "0.0"
        ],
        [
         "16",
         "Bahrain",
         "33934748.0",
         "124266.0",
         "31578826.0"
        ],
        [
         "17",
         "Bangladesh",
         "161494811.0",
         "2369239.0",
         "132982094.0"
        ],
        [
         "18",
         "Barbados",
         "474762.0",
         "6612.0",
         "421968.0"
        ],
        [
         "19",
         "Belarus",
         "65435028.0",
         "488800.0",
         "60474253.0"
        ],
        [
         "20",
         "Belgium",
         "179009886.0",
         "6292525.0",
         "3797948.0"
        ],
        [
         "21",
         "Belize",
         "2399352.0",
         "57538.0",
         "2089375.0"
        ],
        [
         "22",
         "Benin",
         "1365462.0",
         "19040.0",
         "1186843.0"
        ],
        [
         "23",
         "Bhutan",
         "196080.0",
         "142.0",
         "172396.0"
        ],
        [
         "24",
         "Bolivia",
         "61346449.0",
         "2989039.0",
         "45815929.0"
        ],
        [
         "25",
         "Bosnia and Herzegovina",
         "31257028.0",
         "1191149.0",
         "23678612.0"
        ],
        [
         "26",
         "Botswana",
         "6063426.0",
         "67635.0",
         "5129818.0"
        ],
        [
         "27",
         "Brazil",
         "2653587540.0",
         "72624610.0",
         "2313677028.0"
        ],
        [
         "28",
         "Brunei",
         "71229.0",
         "1144.0",
         "65938.0"
        ],
        [
         "29",
         "Bulgaria",
         "56530042.0",
         "2186376.0",
         "42095369.0"
        ],
        [
         "30",
         "Burkina Faso",
         "2249316.0",
         "36179.0",
         "2032150.0"
        ],
        [
         "31",
         "Burma",
         "27717649.0",
         "617121.0",
         "24059469.0"
        ],
        [
         "32",
         "Burundi",
         "492722.0",
         "898.0",
         "197308.0"
        ],
        [
         "33",
         "Cabo Verde",
         "3941085.0",
         "37708.0",
         "3578423.0"
        ],
        [
         "34",
         "Cambodia",
         "955901.0",
         "5679.0",
         "538696.0"
        ],
        [
         "35",
         "Cameroon",
         "11346589.0",
         "197906.0",
         "8533833.0"
        ],
        [
         "36",
         "Canada",
         "193497537.0",
         "5692896.0",
         "171576903.0"
        ],
        [
         "37",
         "Cape Verde",
         "1.0",
         "0.0",
         "0.0"
        ],
        [
         "38",
         "Cayman Islands",
         "3.0",
         "0.0",
         "0.0"
        ],
        [
         "39",
         "Central African Republic",
         "1776825.0",
         "22498.0",
         "1070060.0"
        ],
        [
         "40",
         "Chad",
         "883727.0",
         "41453.0",
         "771319.0"
        ],
        [
         "41",
         "Channel Islands",
         "1.0",
         "0.0",
         "0.0"
        ],
        [
         "42",
         "Chile",
         "232444395.0",
         "5717374.0",
         "217049223.0"
        ],
        [
         "43",
         "China",
         "0.0",
         "0.0",
         "0.0"
        ],
        [
         "44",
         "Colombia",
         "515307146.0",
         "13981703.0",
         "468747010.0"
        ],
        [
         "45",
         "Comoros",
         "579705.0",
         "19520.0",
         "521329.0"
        ],
        [
         "46",
         "Congo (Brazzaville)",
         "2286750.0",
         "36012.0",
         "1677347.0"
        ],
        [
         "47",
         "Congo (Kinshasa)",
         "6148539.0",
         "164914.0",
         "4960011.0"
        ],
        [
         "48",
         "Costa Rica",
         "47395838.0",
         "610944.0",
         "35964758.0"
        ],
        [
         "49",
         "Croatia",
         "50531146.0",
         "1040275.0",
         "46987667.0"
        ]
       ],
       "shape": {
        "columns": 4,
        "rows": 229
       }
      },
      "text/html": [
       "<div>\n",
       "<style scoped>\n",
       "    .dataframe tbody tr th:only-of-type {\n",
       "        vertical-align: middle;\n",
       "    }\n",
       "\n",
       "    .dataframe tbody tr th {\n",
       "        vertical-align: top;\n",
       "    }\n",
       "\n",
       "    .dataframe thead th {\n",
       "        text-align: right;\n",
       "    }\n",
       "</style>\n",
       "<table border=\"1\" class=\"dataframe\">\n",
       "  <thead>\n",
       "    <tr style=\"text-align: right;\">\n",
       "      <th></th>\n",
       "      <th>Country</th>\n",
       "      <th>Confirmed</th>\n",
       "      <th>Deaths</th>\n",
       "      <th>Recovered</th>\n",
       "    </tr>\n",
       "  </thead>\n",
       "  <tbody>\n",
       "    <tr>\n",
       "      <th>0</th>\n",
       "      <td>Azerbaijan</td>\n",
       "      <td>1.0</td>\n",
       "      <td>0.0</td>\n",
       "      <td>0.0</td>\n",
       "    </tr>\n",
       "    <tr>\n",
       "      <th>1</th>\n",
       "      <td>('St. Martin',)</td>\n",
       "      <td>2.0</td>\n",
       "      <td>0.0</td>\n",
       "      <td>0.0</td>\n",
       "    </tr>\n",
       "    <tr>\n",
       "      <th>2</th>\n",
       "      <td>Afghanistan</td>\n",
       "      <td>17026442.0</td>\n",
       "      <td>669075.0</td>\n",
       "      <td>13464399.0</td>\n",
       "    </tr>\n",
       "    <tr>\n",
       "      <th>3</th>\n",
       "      <td>Albania</td>\n",
       "      <td>19768869.0</td>\n",
       "      <td>375955.0</td>\n",
       "      <td>13945256.0</td>\n",
       "    </tr>\n",
       "    <tr>\n",
       "      <th>4</th>\n",
       "      <td>Algeria</td>\n",
       "      <td>27684358.0</td>\n",
       "      <td>834464.0</td>\n",
       "      <td>18959299.0</td>\n",
       "    </tr>\n",
       "    <tr>\n",
       "      <th>...</th>\n",
       "      <td>...</td>\n",
       "      <td>...</td>\n",
       "      <td>...</td>\n",
       "      <td>...</td>\n",
       "    </tr>\n",
       "    <tr>\n",
       "      <th>224</th>\n",
       "      <td>West Bank and Gaza</td>\n",
       "      <td>41819444.0</td>\n",
       "      <td>440378.0</td>\n",
       "      <td>37003116.0</td>\n",
       "    </tr>\n",
       "    <tr>\n",
       "      <th>225</th>\n",
       "      <td>Yemen</td>\n",
       "      <td>962066.0</td>\n",
       "      <td>237613.0</td>\n",
       "      <td>506523.0</td>\n",
       "    </tr>\n",
       "    <tr>\n",
       "      <th>226</th>\n",
       "      <td>Zambia</td>\n",
       "      <td>13493953.0</td>\n",
       "      <td>205990.0</td>\n",
       "      <td>12625626.0</td>\n",
       "    </tr>\n",
       "    <tr>\n",
       "      <th>227</th>\n",
       "      <td>Zimbabwe</td>\n",
       "      <td>6484581.0</td>\n",
       "      <td>237234.0</td>\n",
       "      <td>5594887.0</td>\n",
       "    </tr>\n",
       "    <tr>\n",
       "      <th>228</th>\n",
       "      <td>occupied Palestinian territory</td>\n",
       "      <td>25.0</td>\n",
       "      <td>0.0</td>\n",
       "      <td>0.0</td>\n",
       "    </tr>\n",
       "  </tbody>\n",
       "</table>\n",
       "<p>229 rows × 4 columns</p>\n",
       "</div>"
      ],
      "text/plain": [
       "                            Country   Confirmed    Deaths   Recovered\n",
       "0                        Azerbaijan         1.0       0.0         0.0\n",
       "1                   ('St. Martin',)         2.0       0.0         0.0\n",
       "2                       Afghanistan  17026442.0  669075.0  13464399.0\n",
       "3                           Albania  19768869.0  375955.0  13945256.0\n",
       "4                           Algeria  27684358.0  834464.0  18959299.0\n",
       "..                              ...         ...       ...         ...\n",
       "224              West Bank and Gaza  41819444.0  440378.0  37003116.0\n",
       "225                           Yemen    962066.0  237613.0    506523.0\n",
       "226                          Zambia  13493953.0  205990.0  12625626.0\n",
       "227                        Zimbabwe   6484581.0  237234.0   5594887.0\n",
       "228  occupied Palestinian territory        25.0       0.0         0.0\n",
       "\n",
       "[229 rows x 4 columns]"
      ]
     },
     "execution_count": 56,
     "metadata": {},
     "output_type": "execute_result"
    }
   ],
   "source": [
    "df2 = df.groupby('Country')[['Confirmed','Deaths','Recovered']].sum().reset_index()\n",
    "df2"
   ]
  },
  {
   "cell_type": "markdown",
   "id": "3d5d1a52",
   "metadata": {},
   "source": [
    "Group by Country and Date"
   ]
  },
  {
   "cell_type": "code",
   "execution_count": 61,
   "id": "781a8ec4",
   "metadata": {},
   "outputs": [
    {
     "data": {
      "application/vnd.microsoft.datawrangler.viewer.v0+json": {
       "columns": [
        {
         "name": "index",
         "rawType": "int64",
         "type": "integer"
        },
        {
         "name": "Country",
         "rawType": "object",
         "type": "string"
        },
        {
         "name": "Date",
         "rawType": "datetime64[ns]",
         "type": "datetime"
        },
        {
         "name": "Confirmed",
         "rawType": "float64",
         "type": "float"
        },
        {
         "name": "Deaths",
         "rawType": "float64",
         "type": "float"
        },
        {
         "name": "Recovered",
         "rawType": "float64",
         "type": "float"
        }
       ],
       "conversionMethod": "pd.DataFrame",
       "ref": "5344df4f-695d-4585-8f68-8814190af860",
       "rows": [
        [
         "0",
         " Azerbaijan",
         "2020-02-28 00:00:00",
         "1.0",
         "0.0",
         "0.0"
        ],
        [
         "1",
         "('St. Martin',)",
         "2020-03-10 00:00:00",
         "2.0",
         "0.0",
         "0.0"
        ],
        [
         "2",
         "Afghanistan",
         "2020-02-24 00:00:00",
         "1.0",
         "0.0",
         "0.0"
        ],
        [
         "3",
         "Afghanistan",
         "2020-02-25 00:00:00",
         "1.0",
         "0.0",
         "0.0"
        ],
        [
         "4",
         "Afghanistan",
         "2020-02-26 00:00:00",
         "1.0",
         "0.0",
         "0.0"
        ],
        [
         "5",
         "Afghanistan",
         "2020-02-27 00:00:00",
         "1.0",
         "0.0",
         "0.0"
        ],
        [
         "6",
         "Afghanistan",
         "2020-02-28 00:00:00",
         "1.0",
         "0.0",
         "0.0"
        ],
        [
         "7",
         "Afghanistan",
         "2020-02-29 00:00:00",
         "1.0",
         "0.0",
         "0.0"
        ],
        [
         "8",
         "Afghanistan",
         "2020-03-01 00:00:00",
         "1.0",
         "0.0",
         "0.0"
        ],
        [
         "9",
         "Afghanistan",
         "2020-03-02 00:00:00",
         "1.0",
         "0.0",
         "0.0"
        ],
        [
         "10",
         "Afghanistan",
         "2020-03-03 00:00:00",
         "2.0",
         "0.0",
         "0.0"
        ],
        [
         "11",
         "Afghanistan",
         "2020-03-04 00:00:00",
         "4.0",
         "0.0",
         "0.0"
        ],
        [
         "12",
         "Afghanistan",
         "2020-03-05 00:00:00",
         "4.0",
         "0.0",
         "0.0"
        ],
        [
         "13",
         "Afghanistan",
         "2020-03-06 00:00:00",
         "4.0",
         "0.0",
         "0.0"
        ],
        [
         "14",
         "Afghanistan",
         "2020-03-07 00:00:00",
         "4.0",
         "0.0",
         "0.0"
        ],
        [
         "15",
         "Afghanistan",
         "2020-03-08 00:00:00",
         "5.0",
         "0.0",
         "0.0"
        ],
        [
         "16",
         "Afghanistan",
         "2020-03-09 00:00:00",
         "7.0",
         "0.0",
         "0.0"
        ],
        [
         "17",
         "Afghanistan",
         "2020-03-10 00:00:00",
         "8.0",
         "0.0",
         "0.0"
        ],
        [
         "18",
         "Afghanistan",
         "2020-03-11 00:00:00",
         "11.0",
         "0.0",
         "0.0"
        ],
        [
         "19",
         "Afghanistan",
         "2020-03-12 00:00:00",
         "12.0",
         "0.0",
         "0.0"
        ],
        [
         "20",
         "Afghanistan",
         "2020-03-13 00:00:00",
         "13.0",
         "0.0",
         "0.0"
        ],
        [
         "21",
         "Afghanistan",
         "2020-03-14 00:00:00",
         "15.0",
         "0.0",
         "0.0"
        ],
        [
         "22",
         "Afghanistan",
         "2020-03-15 00:00:00",
         "16.0",
         "0.0",
         "0.0"
        ],
        [
         "23",
         "Afghanistan",
         "2020-03-16 00:00:00",
         "18.0",
         "0.0",
         "1.0"
        ],
        [
         "24",
         "Afghanistan",
         "2020-03-17 00:00:00",
         "20.0",
         "0.0",
         "1.0"
        ],
        [
         "25",
         "Afghanistan",
         "2020-03-18 00:00:00",
         "24.0",
         "0.0",
         "1.0"
        ],
        [
         "26",
         "Afghanistan",
         "2020-03-19 00:00:00",
         "25.0",
         "0.0",
         "1.0"
        ],
        [
         "27",
         "Afghanistan",
         "2020-03-20 00:00:00",
         "29.0",
         "0.0",
         "1.0"
        ],
        [
         "28",
         "Afghanistan",
         "2020-03-21 00:00:00",
         "30.0",
         "0.0",
         "1.0"
        ],
        [
         "29",
         "Afghanistan",
         "2020-03-22 00:00:00",
         "34.0",
         "1.0",
         "1.0"
        ],
        [
         "30",
         "Afghanistan",
         "2020-03-23 00:00:00",
         "41.0",
         "1.0",
         "1.0"
        ],
        [
         "31",
         "Afghanistan",
         "2020-03-24 00:00:00",
         "43.0",
         "1.0",
         "1.0"
        ],
        [
         "32",
         "Afghanistan",
         "2020-03-25 00:00:00",
         "76.0",
         "2.0",
         "2.0"
        ],
        [
         "33",
         "Afghanistan",
         "2020-03-26 00:00:00",
         "80.0",
         "3.0",
         "2.0"
        ],
        [
         "34",
         "Afghanistan",
         "2020-03-27 00:00:00",
         "91.0",
         "3.0",
         "2.0"
        ],
        [
         "35",
         "Afghanistan",
         "2020-03-28 00:00:00",
         "107.0",
         "4.0",
         "2.0"
        ],
        [
         "36",
         "Afghanistan",
         "2020-03-29 00:00:00",
         "118.0",
         "4.0",
         "2.0"
        ],
        [
         "37",
         "Afghanistan",
         "2020-03-30 00:00:00",
         "146.0",
         "4.0",
         "2.0"
        ],
        [
         "38",
         "Afghanistan",
         "2020-03-31 00:00:00",
         "175.0",
         "4.0",
         "5.0"
        ],
        [
         "39",
         "Afghanistan",
         "2020-04-01 00:00:00",
         "197.0",
         "4.0",
         "5.0"
        ],
        [
         "40",
         "Afghanistan",
         "2020-04-02 00:00:00",
         "240.0",
         "4.0",
         "10.0"
        ],
        [
         "41",
         "Afghanistan",
         "2020-04-03 00:00:00",
         "275.0",
         "8.0",
         "10.0"
        ],
        [
         "42",
         "Afghanistan",
         "2020-04-04 00:00:00",
         "300.0",
         "10.0",
         "10.0"
        ],
        [
         "43",
         "Afghanistan",
         "2020-04-05 00:00:00",
         "338.0",
         "12.0",
         "15.0"
        ],
        [
         "44",
         "Afghanistan",
         "2020-04-06 00:00:00",
         "368.0",
         "15.0",
         "18.0"
        ],
        [
         "45",
         "Afghanistan",
         "2020-04-07 00:00:00",
         "424.0",
         "16.0",
         "18.0"
        ],
        [
         "46",
         "Afghanistan",
         "2020-04-08 00:00:00",
         "445.0",
         "16.0",
         "29.0"
        ],
        [
         "47",
         "Afghanistan",
         "2020-04-09 00:00:00",
         "485.0",
         "17.0",
         "32.0"
        ],
        [
         "48",
         "Afghanistan",
         "2020-04-10 00:00:00",
         "532.0",
         "18.0",
         "32.0"
        ],
        [
         "49",
         "Afghanistan",
         "2020-04-11 00:00:00",
         "556.0",
         "18.0",
         "32.0"
        ]
       ],
       "shape": {
        "columns": 5,
        "rows": 87281
       }
      },
      "text/html": [
       "<div>\n",
       "<style scoped>\n",
       "    .dataframe tbody tr th:only-of-type {\n",
       "        vertical-align: middle;\n",
       "    }\n",
       "\n",
       "    .dataframe tbody tr th {\n",
       "        vertical-align: top;\n",
       "    }\n",
       "\n",
       "    .dataframe thead th {\n",
       "        text-align: right;\n",
       "    }\n",
       "</style>\n",
       "<table border=\"1\" class=\"dataframe\">\n",
       "  <thead>\n",
       "    <tr style=\"text-align: right;\">\n",
       "      <th></th>\n",
       "      <th>Country</th>\n",
       "      <th>Date</th>\n",
       "      <th>Confirmed</th>\n",
       "      <th>Deaths</th>\n",
       "      <th>Recovered</th>\n",
       "    </tr>\n",
       "  </thead>\n",
       "  <tbody>\n",
       "    <tr>\n",
       "      <th>0</th>\n",
       "      <td>Azerbaijan</td>\n",
       "      <td>2020-02-28</td>\n",
       "      <td>1.0</td>\n",
       "      <td>0.0</td>\n",
       "      <td>0.0</td>\n",
       "    </tr>\n",
       "    <tr>\n",
       "      <th>1</th>\n",
       "      <td>('St. Martin',)</td>\n",
       "      <td>2020-03-10</td>\n",
       "      <td>2.0</td>\n",
       "      <td>0.0</td>\n",
       "      <td>0.0</td>\n",
       "    </tr>\n",
       "    <tr>\n",
       "      <th>2</th>\n",
       "      <td>Afghanistan</td>\n",
       "      <td>2020-02-24</td>\n",
       "      <td>1.0</td>\n",
       "      <td>0.0</td>\n",
       "      <td>0.0</td>\n",
       "    </tr>\n",
       "    <tr>\n",
       "      <th>3</th>\n",
       "      <td>Afghanistan</td>\n",
       "      <td>2020-02-25</td>\n",
       "      <td>1.0</td>\n",
       "      <td>0.0</td>\n",
       "      <td>0.0</td>\n",
       "    </tr>\n",
       "    <tr>\n",
       "      <th>4</th>\n",
       "      <td>Afghanistan</td>\n",
       "      <td>2020-02-26</td>\n",
       "      <td>1.0</td>\n",
       "      <td>0.0</td>\n",
       "      <td>0.0</td>\n",
       "    </tr>\n",
       "    <tr>\n",
       "      <th>...</th>\n",
       "      <td>...</td>\n",
       "      <td>...</td>\n",
       "      <td>...</td>\n",
       "      <td>...</td>\n",
       "      <td>...</td>\n",
       "    </tr>\n",
       "    <tr>\n",
       "      <th>87276</th>\n",
       "      <td>occupied Palestinian territory</td>\n",
       "      <td>2020-03-12</td>\n",
       "      <td>0.0</td>\n",
       "      <td>0.0</td>\n",
       "      <td>0.0</td>\n",
       "    </tr>\n",
       "    <tr>\n",
       "      <th>87277</th>\n",
       "      <td>occupied Palestinian territory</td>\n",
       "      <td>2020-03-14</td>\n",
       "      <td>0.0</td>\n",
       "      <td>0.0</td>\n",
       "      <td>0.0</td>\n",
       "    </tr>\n",
       "    <tr>\n",
       "      <th>87278</th>\n",
       "      <td>occupied Palestinian territory</td>\n",
       "      <td>2020-03-15</td>\n",
       "      <td>0.0</td>\n",
       "      <td>0.0</td>\n",
       "      <td>0.0</td>\n",
       "    </tr>\n",
       "    <tr>\n",
       "      <th>87279</th>\n",
       "      <td>occupied Palestinian territory</td>\n",
       "      <td>2020-03-16</td>\n",
       "      <td>0.0</td>\n",
       "      <td>0.0</td>\n",
       "      <td>0.0</td>\n",
       "    </tr>\n",
       "    <tr>\n",
       "      <th>87280</th>\n",
       "      <td>occupied Palestinian territory</td>\n",
       "      <td>2020-03-17</td>\n",
       "      <td>0.0</td>\n",
       "      <td>0.0</td>\n",
       "      <td>0.0</td>\n",
       "    </tr>\n",
       "  </tbody>\n",
       "</table>\n",
       "<p>87281 rows × 5 columns</p>\n",
       "</div>"
      ],
      "text/plain": [
       "                              Country       Date  Confirmed  Deaths  Recovered\n",
       "0                          Azerbaijan 2020-02-28        1.0     0.0        0.0\n",
       "1                     ('St. Martin',) 2020-03-10        2.0     0.0        0.0\n",
       "2                         Afghanistan 2020-02-24        1.0     0.0        0.0\n",
       "3                         Afghanistan 2020-02-25        1.0     0.0        0.0\n",
       "4                         Afghanistan 2020-02-26        1.0     0.0        0.0\n",
       "...                               ...        ...        ...     ...        ...\n",
       "87276  occupied Palestinian territory 2020-03-12        0.0     0.0        0.0\n",
       "87277  occupied Palestinian territory 2020-03-14        0.0     0.0        0.0\n",
       "87278  occupied Palestinian territory 2020-03-15        0.0     0.0        0.0\n",
       "87279  occupied Palestinian territory 2020-03-16        0.0     0.0        0.0\n",
       "87280  occupied Palestinian territory 2020-03-17        0.0     0.0        0.0\n",
       "\n",
       "[87281 rows x 5 columns]"
      ]
     },
     "execution_count": 61,
     "metadata": {},
     "output_type": "execute_result"
    }
   ],
   "source": [
    "df2 = df.groupby(['Country','Date'])[['Confirmed','Deaths','Recovered']].sum().reset_index()\n",
    "df2"
   ]
  },
  {
   "cell_type": "markdown",
   "id": "d16486bf",
   "metadata": {},
   "source": [
    "Search for all records > 100"
   ]
  },
  {
   "cell_type": "code",
   "execution_count": 63,
   "id": "cc6c43dd",
   "metadata": {},
   "outputs": [
    {
     "data": {
      "application/vnd.microsoft.datawrangler.viewer.v0+json": {
       "columns": [
        {
         "name": "index",
         "rawType": "int64",
         "type": "integer"
        },
        {
         "name": "Country",
         "rawType": "object",
         "type": "string"
        },
        {
         "name": "Date",
         "rawType": "datetime64[ns]",
         "type": "datetime"
        },
        {
         "name": "Confirmed",
         "rawType": "float64",
         "type": "float"
        },
        {
         "name": "Deaths",
         "rawType": "float64",
         "type": "float"
        },
        {
         "name": "Recovered",
         "rawType": "float64",
         "type": "float"
        }
       ],
       "conversionMethod": "pd.DataFrame",
       "ref": "54326415-048c-4399-a245-83e6fae72ea5",
       "rows": [
        [
         "35",
         "Afghanistan",
         "2020-03-28 00:00:00",
         "107.0",
         "4.0",
         "2.0"
        ],
        [
         "36",
         "Afghanistan",
         "2020-03-29 00:00:00",
         "118.0",
         "4.0",
         "2.0"
        ],
        [
         "37",
         "Afghanistan",
         "2020-03-30 00:00:00",
         "146.0",
         "4.0",
         "2.0"
        ],
        [
         "38",
         "Afghanistan",
         "2020-03-31 00:00:00",
         "175.0",
         "4.0",
         "5.0"
        ],
        [
         "39",
         "Afghanistan",
         "2020-04-01 00:00:00",
         "197.0",
         "4.0",
         "5.0"
        ],
        [
         "40",
         "Afghanistan",
         "2020-04-02 00:00:00",
         "240.0",
         "4.0",
         "10.0"
        ],
        [
         "41",
         "Afghanistan",
         "2020-04-03 00:00:00",
         "275.0",
         "8.0",
         "10.0"
        ],
        [
         "42",
         "Afghanistan",
         "2020-04-04 00:00:00",
         "300.0",
         "10.0",
         "10.0"
        ],
        [
         "43",
         "Afghanistan",
         "2020-04-05 00:00:00",
         "338.0",
         "12.0",
         "15.0"
        ],
        [
         "44",
         "Afghanistan",
         "2020-04-06 00:00:00",
         "368.0",
         "15.0",
         "18.0"
        ],
        [
         "45",
         "Afghanistan",
         "2020-04-07 00:00:00",
         "424.0",
         "16.0",
         "18.0"
        ],
        [
         "46",
         "Afghanistan",
         "2020-04-08 00:00:00",
         "445.0",
         "16.0",
         "29.0"
        ],
        [
         "47",
         "Afghanistan",
         "2020-04-09 00:00:00",
         "485.0",
         "17.0",
         "32.0"
        ],
        [
         "48",
         "Afghanistan",
         "2020-04-10 00:00:00",
         "532.0",
         "18.0",
         "32.0"
        ],
        [
         "49",
         "Afghanistan",
         "2020-04-11 00:00:00",
         "556.0",
         "18.0",
         "32.0"
        ],
        [
         "50",
         "Afghanistan",
         "2020-04-12 00:00:00",
         "608.0",
         "19.0",
         "32.0"
        ],
        [
         "51",
         "Afghanistan",
         "2020-04-13 00:00:00",
         "666.0",
         "22.0",
         "32.0"
        ],
        [
         "52",
         "Afghanistan",
         "2020-04-14 00:00:00",
         "715.0",
         "23.0",
         "40.0"
        ],
        [
         "53",
         "Afghanistan",
         "2020-04-15 00:00:00",
         "785.0",
         "29.0",
         "43.0"
        ],
        [
         "54",
         "Afghanistan",
         "2020-04-16 00:00:00",
         "841.0",
         "30.0",
         "54.0"
        ],
        [
         "55",
         "Afghanistan",
         "2020-04-17 00:00:00",
         "907.0",
         "30.0",
         "99.0"
        ],
        [
         "56",
         "Afghanistan",
         "2020-04-18 00:00:00",
         "934.0",
         "30.0",
         "112.0"
        ],
        [
         "57",
         "Afghanistan",
         "2020-04-19 00:00:00",
         "997.0",
         "33.0",
         "131.0"
        ],
        [
         "58",
         "Afghanistan",
         "2020-04-20 00:00:00",
         "1027.0",
         "36.0",
         "135.0"
        ],
        [
         "59",
         "Afghanistan",
         "2020-04-21 00:00:00",
         "1093.0",
         "36.0",
         "150.0"
        ],
        [
         "60",
         "Afghanistan",
         "2020-04-22 00:00:00",
         "1177.0",
         "40.0",
         "166.0"
        ],
        [
         "61",
         "Afghanistan",
         "2020-04-23 00:00:00",
         "1236.0",
         "40.0",
         "179.0"
        ],
        [
         "62",
         "Afghanistan",
         "2020-04-24 00:00:00",
         "1331.0",
         "43.0",
         "188.0"
        ],
        [
         "63",
         "Afghanistan",
         "2020-04-25 00:00:00",
         "1464.0",
         "47.0",
         "188.0"
        ],
        [
         "64",
         "Afghanistan",
         "2020-04-26 00:00:00",
         "1532.0",
         "52.0",
         "207.0"
        ],
        [
         "65",
         "Afghanistan",
         "2020-04-27 00:00:00",
         "1704.0",
         "58.0",
         "220.0"
        ],
        [
         "66",
         "Afghanistan",
         "2020-04-28 00:00:00",
         "1830.0",
         "59.0",
         "228.0"
        ],
        [
         "67",
         "Afghanistan",
         "2020-04-29 00:00:00",
         "1940.0",
         "61.0",
         "252.0"
        ],
        [
         "68",
         "Afghanistan",
         "2020-04-30 00:00:00",
         "2127.0",
         "64.0",
         "260.0"
        ],
        [
         "69",
         "Afghanistan",
         "2020-05-01 00:00:00",
         "2291.0",
         "68.0",
         "310.0"
        ],
        [
         "70",
         "Afghanistan",
         "2020-05-02 00:00:00",
         "2470.0",
         "72.0",
         "331.0"
        ],
        [
         "71",
         "Afghanistan",
         "2020-05-03 00:00:00",
         "2705.0",
         "85.0",
         "345.0"
        ],
        [
         "72",
         "Afghanistan",
         "2020-05-04 00:00:00",
         "2895.0",
         "90.0",
         "397.0"
        ],
        [
         "73",
         "Afghanistan",
         "2020-05-05 00:00:00",
         "3225.0",
         "95.0",
         "421.0"
        ],
        [
         "74",
         "Afghanistan",
         "2020-05-06 00:00:00",
         "3393.0",
         "104.0",
         "458.0"
        ],
        [
         "75",
         "Afghanistan",
         "2020-05-07 00:00:00",
         "3564.0",
         "106.0",
         "468.0"
        ],
        [
         "76",
         "Afghanistan",
         "2020-05-08 00:00:00",
         "3781.0",
         "109.0",
         "472.0"
        ],
        [
         "77",
         "Afghanistan",
         "2020-05-09 00:00:00",
         "4042.0",
         "115.0",
         "502.0"
        ],
        [
         "78",
         "Afghanistan",
         "2020-05-10 00:00:00",
         "4403.0",
         "120.0",
         "558.0"
        ],
        [
         "79",
         "Afghanistan",
         "2020-05-11 00:00:00",
         "4687.0",
         "122.0",
         "558.0"
        ],
        [
         "80",
         "Afghanistan",
         "2020-05-12 00:00:00",
         "4968.0",
         "127.0",
         "610.0"
        ],
        [
         "81",
         "Afghanistan",
         "2020-05-13 00:00:00",
         "5227.0",
         "132.0",
         "648.0"
        ],
        [
         "82",
         "Afghanistan",
         "2020-05-14 00:00:00",
         "5640.0",
         "136.0",
         "691.0"
        ],
        [
         "83",
         "Afghanistan",
         "2020-05-15 00:00:00",
         "6054.0",
         "153.0",
         "745.0"
        ],
        [
         "84",
         "Afghanistan",
         "2020-05-16 00:00:00",
         "6403.0",
         "168.0",
         "745.0"
        ]
       ],
       "shape": {
        "columns": 5,
        "rows": 75055
       }
      },
      "text/html": [
       "<div>\n",
       "<style scoped>\n",
       "    .dataframe tbody tr th:only-of-type {\n",
       "        vertical-align: middle;\n",
       "    }\n",
       "\n",
       "    .dataframe tbody tr th {\n",
       "        vertical-align: top;\n",
       "    }\n",
       "\n",
       "    .dataframe thead th {\n",
       "        text-align: right;\n",
       "    }\n",
       "</style>\n",
       "<table border=\"1\" class=\"dataframe\">\n",
       "  <thead>\n",
       "    <tr style=\"text-align: right;\">\n",
       "      <th></th>\n",
       "      <th>Country</th>\n",
       "      <th>Date</th>\n",
       "      <th>Confirmed</th>\n",
       "      <th>Deaths</th>\n",
       "      <th>Recovered</th>\n",
       "    </tr>\n",
       "  </thead>\n",
       "  <tbody>\n",
       "    <tr>\n",
       "      <th>35</th>\n",
       "      <td>Afghanistan</td>\n",
       "      <td>2020-03-28</td>\n",
       "      <td>107.0</td>\n",
       "      <td>4.0</td>\n",
       "      <td>2.0</td>\n",
       "    </tr>\n",
       "    <tr>\n",
       "      <th>36</th>\n",
       "      <td>Afghanistan</td>\n",
       "      <td>2020-03-29</td>\n",
       "      <td>118.0</td>\n",
       "      <td>4.0</td>\n",
       "      <td>2.0</td>\n",
       "    </tr>\n",
       "    <tr>\n",
       "      <th>37</th>\n",
       "      <td>Afghanistan</td>\n",
       "      <td>2020-03-30</td>\n",
       "      <td>146.0</td>\n",
       "      <td>4.0</td>\n",
       "      <td>2.0</td>\n",
       "    </tr>\n",
       "    <tr>\n",
       "      <th>38</th>\n",
       "      <td>Afghanistan</td>\n",
       "      <td>2020-03-31</td>\n",
       "      <td>175.0</td>\n",
       "      <td>4.0</td>\n",
       "      <td>5.0</td>\n",
       "    </tr>\n",
       "    <tr>\n",
       "      <th>39</th>\n",
       "      <td>Afghanistan</td>\n",
       "      <td>2020-04-01</td>\n",
       "      <td>197.0</td>\n",
       "      <td>4.0</td>\n",
       "      <td>5.0</td>\n",
       "    </tr>\n",
       "    <tr>\n",
       "      <th>...</th>\n",
       "      <td>...</td>\n",
       "      <td>...</td>\n",
       "      <td>...</td>\n",
       "      <td>...</td>\n",
       "      <td>...</td>\n",
       "    </tr>\n",
       "    <tr>\n",
       "      <th>87269</th>\n",
       "      <td>Zimbabwe</td>\n",
       "      <td>2021-05-25</td>\n",
       "      <td>38706.0</td>\n",
       "      <td>1587.0</td>\n",
       "      <td>36517.0</td>\n",
       "    </tr>\n",
       "    <tr>\n",
       "      <th>87270</th>\n",
       "      <td>Zimbabwe</td>\n",
       "      <td>2021-05-26</td>\n",
       "      <td>38819.0</td>\n",
       "      <td>1589.0</td>\n",
       "      <td>36531.0</td>\n",
       "    </tr>\n",
       "    <tr>\n",
       "      <th>87271</th>\n",
       "      <td>Zimbabwe</td>\n",
       "      <td>2021-05-27</td>\n",
       "      <td>38854.0</td>\n",
       "      <td>1592.0</td>\n",
       "      <td>36541.0</td>\n",
       "    </tr>\n",
       "    <tr>\n",
       "      <th>87272</th>\n",
       "      <td>Zimbabwe</td>\n",
       "      <td>2021-05-28</td>\n",
       "      <td>38918.0</td>\n",
       "      <td>1592.0</td>\n",
       "      <td>36563.0</td>\n",
       "    </tr>\n",
       "    <tr>\n",
       "      <th>87273</th>\n",
       "      <td>Zimbabwe</td>\n",
       "      <td>2021-05-29</td>\n",
       "      <td>38933.0</td>\n",
       "      <td>1594.0</td>\n",
       "      <td>36578.0</td>\n",
       "    </tr>\n",
       "  </tbody>\n",
       "</table>\n",
       "<p>75055 rows × 5 columns</p>\n",
       "</div>"
      ],
      "text/plain": [
       "           Country       Date  Confirmed  Deaths  Recovered\n",
       "35     Afghanistan 2020-03-28      107.0     4.0        2.0\n",
       "36     Afghanistan 2020-03-29      118.0     4.0        2.0\n",
       "37     Afghanistan 2020-03-30      146.0     4.0        2.0\n",
       "38     Afghanistan 2020-03-31      175.0     4.0        5.0\n",
       "39     Afghanistan 2020-04-01      197.0     4.0        5.0\n",
       "...            ...        ...        ...     ...        ...\n",
       "87269     Zimbabwe 2021-05-25    38706.0  1587.0    36517.0\n",
       "87270     Zimbabwe 2021-05-26    38819.0  1589.0    36531.0\n",
       "87271     Zimbabwe 2021-05-27    38854.0  1592.0    36541.0\n",
       "87272     Zimbabwe 2021-05-28    38918.0  1592.0    36563.0\n",
       "87273     Zimbabwe 2021-05-29    38933.0  1594.0    36578.0\n",
       "\n",
       "[75055 rows x 5 columns]"
      ]
     },
     "execution_count": 63,
     "metadata": {},
     "output_type": "execute_result"
    }
   ],
   "source": [
    "df3 = df2[df2['Confirmed'] > 100]\n",
    "df3"
   ]
  },
  {
   "cell_type": "markdown",
   "id": "65b51a6d",
   "metadata": {},
   "source": [
    "All records for Colombia and Deaths > 0"
   ]
  },
  {
   "cell_type": "code",
   "execution_count": 69,
   "id": "4ea0bd7f",
   "metadata": {},
   "outputs": [
    {
     "data": {
      "application/vnd.microsoft.datawrangler.viewer.v0+json": {
       "columns": [
        {
         "name": "index",
         "rawType": "int64",
         "type": "integer"
        },
        {
         "name": "Date",
         "rawType": "datetime64[ns]",
         "type": "datetime"
        },
        {
         "name": "Province",
         "rawType": "object",
         "type": "string"
        },
        {
         "name": "Country",
         "rawType": "object",
         "type": "string"
        },
        {
         "name": "Confirmed",
         "rawType": "float64",
         "type": "float"
        },
        {
         "name": "Deaths",
         "rawType": "float64",
         "type": "float"
        },
        {
         "name": "Recovered",
         "rawType": "float64",
         "type": "float"
        }
       ],
       "conversionMethod": "pd.DataFrame",
       "ref": "a65fb750-ec3b-49e7-9492-1e549301133e",
       "rows": [
        [
         "7767",
         "2020-03-22 00:00:00",
         "NA",
         "Colombia",
         "231.0",
         "2.0",
         "3.0"
        ],
        [
         "8071",
         "2020-03-23 00:00:00",
         "NA",
         "Colombia",
         "277.0",
         "3.0",
         "3.0"
        ],
        [
         "8370",
         "2020-03-24 00:00:00",
         "NA",
         "Colombia",
         "378.0",
         "3.0",
         "6.0"
        ],
        [
         "8673",
         "2020-03-25 00:00:00",
         "NA",
         "Colombia",
         "470.0",
         "4.0",
         "8.0"
        ],
        [
         "8980",
         "2020-03-26 00:00:00",
         "NA",
         "Colombia",
         "491.0",
         "6.0",
         "8.0"
        ],
        [
         "9292",
         "2020-03-27 00:00:00",
         "NA",
         "Colombia",
         "539.0",
         "6.0",
         "10.0"
        ],
        [
         "9604",
         "2020-03-28 00:00:00",
         "NA",
         "Colombia",
         "608.0",
         "6.0",
         "10.0"
        ],
        [
         "9920",
         "2020-03-29 00:00:00",
         "NA",
         "Colombia",
         "702.0",
         "10.0",
         "10.0"
        ],
        [
         "10237",
         "2020-03-30 00:00:00",
         "NA",
         "Colombia",
         "798.0",
         "12.0",
         "15.0"
        ],
        [
         "10555",
         "2020-03-31 00:00:00",
         "NA",
         "Colombia",
         "906.0",
         "16.0",
         "31.0"
        ],
        [
         "10873",
         "2020-04-01 00:00:00",
         "NA",
         "Colombia",
         "1065.0",
         "17.0",
         "39.0"
        ],
        [
         "11191",
         "2020-04-02 00:00:00",
         "NA",
         "Colombia",
         "1161.0",
         "19.0",
         "55.0"
        ],
        [
         "11511",
         "2020-04-03 00:00:00",
         "NA",
         "Colombia",
         "1267.0",
         "25.0",
         "55.0"
        ],
        [
         "11831",
         "2020-04-04 00:00:00",
         "NA",
         "Colombia",
         "1406.0",
         "32.0",
         "85.0"
        ],
        [
         "12152",
         "2020-04-05 00:00:00",
         "NA",
         "Colombia",
         "1485.0",
         "35.0",
         "88.0"
        ],
        [
         "12475",
         "2020-04-06 00:00:00",
         "NA",
         "Colombia",
         "1579.0",
         "46.0",
         "88.0"
        ],
        [
         "12799",
         "2020-04-07 00:00:00",
         "NA",
         "Colombia",
         "1780.0",
         "50.0",
         "100.0"
        ],
        [
         "13123",
         "2020-04-08 00:00:00",
         "NA",
         "Colombia",
         "2054.0",
         "54.0",
         "123.0"
        ],
        [
         "13447",
         "2020-04-09 00:00:00",
         "NA",
         "Colombia",
         "2223.0",
         "69.0",
         "174.0"
        ],
        [
         "13771",
         "2020-04-10 00:00:00",
         "NA",
         "Colombia",
         "2473.0",
         "80.0",
         "197.0"
        ],
        [
         "14096",
         "2020-04-11 00:00:00",
         "NA",
         "Colombia",
         "2709.0",
         "100.0",
         "214.0"
        ],
        [
         "14421",
         "2020-04-12 00:00:00",
         "NA",
         "Colombia",
         "2776.0",
         "109.0",
         "270.0"
        ],
        [
         "14745",
         "2020-04-13 00:00:00",
         "NA",
         "Colombia",
         "2852.0",
         "112.0",
         "319.0"
        ],
        [
         "15069",
         "2020-04-14 00:00:00",
         "NA",
         "Colombia",
         "2979.0",
         "127.0",
         "354.0"
        ],
        [
         "15393",
         "2020-04-15 00:00:00",
         "NA",
         "Colombia",
         "3105.0",
         "131.0",
         "452.0"
        ],
        [
         "15717",
         "2020-04-16 00:00:00",
         "NA",
         "Colombia",
         "3233.0",
         "144.0",
         "550.0"
        ],
        [
         "16041",
         "2020-04-17 00:00:00",
         "NA",
         "Colombia",
         "3439.0",
         "153.0",
         "634.0"
        ],
        [
         "16365",
         "2020-04-18 00:00:00",
         "NA",
         "Colombia",
         "3439.0",
         "153.0",
         "634.0"
        ],
        [
         "16689",
         "2020-04-19 00:00:00",
         "NA",
         "Colombia",
         "3792.0",
         "179.0",
         "711.0"
        ],
        [
         "17013",
         "2020-04-20 00:00:00",
         "NA",
         "Colombia",
         "3977.0",
         "189.0",
         "804.0"
        ],
        [
         "17337",
         "2020-04-21 00:00:00",
         "NA",
         "Colombia",
         "4149.0",
         "196.0",
         "804.0"
        ],
        [
         "17661",
         "2020-04-22 00:00:00",
         "NA",
         "Colombia",
         "4356.0",
         "206.0",
         "870.0"
        ],
        [
         "17984",
         "2020-04-23 00:00:00",
         "NA",
         "Colombia",
         "4561.0",
         "215.0",
         "927.0"
        ],
        [
         "18308",
         "2020-04-24 00:00:00",
         "NA",
         "Colombia",
         "4881.0",
         "225.0",
         "1003.0"
        ],
        [
         "18629",
         "2020-04-25 00:00:00",
         "NA",
         "Colombia",
         "5142.0",
         "233.0",
         "1067.0"
        ],
        [
         "18950",
         "2020-04-26 00:00:00",
         "NA",
         "Colombia",
         "5379.0",
         "244.0",
         "1133.0"
        ],
        [
         "19271",
         "2020-04-27 00:00:00",
         "NA",
         "Colombia",
         "5597.0",
         "253.0",
         "1210.0"
        ],
        [
         "19596",
         "2020-04-28 00:00:00",
         "NA",
         "Colombia",
         "5949.0",
         "269.0",
         "1268.0"
        ],
        [
         "19921",
         "2020-04-29 00:00:00",
         "NA",
         "Colombia",
         "6207.0",
         "278.0",
         "1411.0"
        ],
        [
         "20246",
         "2020-04-30 00:00:00",
         "NA",
         "Colombia",
         "6507.0",
         "293.0",
         "1439.0"
        ],
        [
         "20573",
         "2020-05-01 00:00:00",
         "NA",
         "Colombia",
         "7006.0",
         "314.0",
         "1551.0"
        ],
        [
         "20900",
         "2020-05-02 00:00:00",
         "NA",
         "Colombia",
         "7285.0",
         "324.0",
         "1666.0"
        ],
        [
         "21227",
         "2020-05-03 00:00:00",
         "NA",
         "Colombia",
         "7668.0",
         "340.0",
         "1722.0"
        ],
        [
         "21554",
         "2020-05-04 00:00:00",
         "NA",
         "Colombia",
         "7973.0",
         "358.0",
         "1807.0"
        ],
        [
         "21881",
         "2020-05-05 00:00:00",
         "NA",
         "Colombia",
         "8613.0",
         "378.0",
         "2013.0"
        ],
        [
         "22208",
         "2020-05-06 00:00:00",
         "NA",
         "Colombia",
         "8959.0",
         "397.0",
         "2148.0"
        ],
        [
         "22535",
         "2020-05-07 00:00:00",
         "NA",
         "Colombia",
         "9456.0",
         "407.0",
         "2300.0"
        ],
        [
         "22862",
         "2020-05-08 00:00:00",
         "NA",
         "Colombia",
         "10051.0",
         "428.0",
         "2424.0"
        ],
        [
         "23189",
         "2020-05-09 00:00:00",
         "NA",
         "Colombia",
         "10495.0",
         "445.0",
         "2569.0"
        ],
        [
         "23516",
         "2020-05-10 00:00:00",
         "NA",
         "Colombia",
         "11063.0",
         "463.0",
         "2705.0"
        ]
       ],
       "shape": {
        "columns": 6,
        "rows": 11807
       }
      },
      "text/html": [
       "<div>\n",
       "<style scoped>\n",
       "    .dataframe tbody tr th:only-of-type {\n",
       "        vertical-align: middle;\n",
       "    }\n",
       "\n",
       "    .dataframe tbody tr th {\n",
       "        vertical-align: top;\n",
       "    }\n",
       "\n",
       "    .dataframe thead th {\n",
       "        text-align: right;\n",
       "    }\n",
       "</style>\n",
       "<table border=\"1\" class=\"dataframe\">\n",
       "  <thead>\n",
       "    <tr style=\"text-align: right;\">\n",
       "      <th></th>\n",
       "      <th>Date</th>\n",
       "      <th>Province</th>\n",
       "      <th>Country</th>\n",
       "      <th>Confirmed</th>\n",
       "      <th>Deaths</th>\n",
       "      <th>Recovered</th>\n",
       "    </tr>\n",
       "  </thead>\n",
       "  <tbody>\n",
       "    <tr>\n",
       "      <th>7767</th>\n",
       "      <td>2020-03-22</td>\n",
       "      <td>NA</td>\n",
       "      <td>Colombia</td>\n",
       "      <td>231.0</td>\n",
       "      <td>2.0</td>\n",
       "      <td>3.0</td>\n",
       "    </tr>\n",
       "    <tr>\n",
       "      <th>8071</th>\n",
       "      <td>2020-03-23</td>\n",
       "      <td>NA</td>\n",
       "      <td>Colombia</td>\n",
       "      <td>277.0</td>\n",
       "      <td>3.0</td>\n",
       "      <td>3.0</td>\n",
       "    </tr>\n",
       "    <tr>\n",
       "      <th>8370</th>\n",
       "      <td>2020-03-24</td>\n",
       "      <td>NA</td>\n",
       "      <td>Colombia</td>\n",
       "      <td>378.0</td>\n",
       "      <td>3.0</td>\n",
       "      <td>6.0</td>\n",
       "    </tr>\n",
       "    <tr>\n",
       "      <th>8673</th>\n",
       "      <td>2020-03-25</td>\n",
       "      <td>NA</td>\n",
       "      <td>Colombia</td>\n",
       "      <td>470.0</td>\n",
       "      <td>4.0</td>\n",
       "      <td>8.0</td>\n",
       "    </tr>\n",
       "    <tr>\n",
       "      <th>8980</th>\n",
       "      <td>2020-03-26</td>\n",
       "      <td>NA</td>\n",
       "      <td>Colombia</td>\n",
       "      <td>491.0</td>\n",
       "      <td>6.0</td>\n",
       "      <td>8.0</td>\n",
       "    </tr>\n",
       "    <tr>\n",
       "      <th>...</th>\n",
       "      <td>...</td>\n",
       "      <td>...</td>\n",
       "      <td>...</td>\n",
       "      <td>...</td>\n",
       "      <td>...</td>\n",
       "      <td>...</td>\n",
       "    </tr>\n",
       "    <tr>\n",
       "      <th>306323</th>\n",
       "      <td>2021-05-29</td>\n",
       "      <td>Sucre</td>\n",
       "      <td>Colombia</td>\n",
       "      <td>34809.0</td>\n",
       "      <td>1147.0</td>\n",
       "      <td>32259.0</td>\n",
       "    </tr>\n",
       "    <tr>\n",
       "      <th>306346</th>\n",
       "      <td>2021-05-29</td>\n",
       "      <td>Tolima</td>\n",
       "      <td>Colombia</td>\n",
       "      <td>75296.0</td>\n",
       "      <td>2432.0</td>\n",
       "      <td>71624.0</td>\n",
       "    </tr>\n",
       "    <tr>\n",
       "      <th>306380</th>\n",
       "      <td>2021-05-29</td>\n",
       "      <td>Valle del Cauca</td>\n",
       "      <td>Colombia</td>\n",
       "      <td>266414.0</td>\n",
       "      <td>8461.0</td>\n",
       "      <td>251388.0</td>\n",
       "    </tr>\n",
       "    <tr>\n",
       "      <th>306387</th>\n",
       "      <td>2021-05-29</td>\n",
       "      <td>Vaupes</td>\n",
       "      <td>Colombia</td>\n",
       "      <td>1528.0</td>\n",
       "      <td>14.0</td>\n",
       "      <td>1481.0</td>\n",
       "    </tr>\n",
       "    <tr>\n",
       "      <th>306391</th>\n",
       "      <td>2021-05-29</td>\n",
       "      <td>Vichada</td>\n",
       "      <td>Colombia</td>\n",
       "      <td>1772.0</td>\n",
       "      <td>25.0</td>\n",
       "      <td>1727.0</td>\n",
       "    </tr>\n",
       "  </tbody>\n",
       "</table>\n",
       "<p>11807 rows × 6 columns</p>\n",
       "</div>"
      ],
      "text/plain": [
       "             Date         Province   Country  Confirmed  Deaths  Recovered\n",
       "7767   2020-03-22               NA  Colombia      231.0     2.0        3.0\n",
       "8071   2020-03-23               NA  Colombia      277.0     3.0        3.0\n",
       "8370   2020-03-24               NA  Colombia      378.0     3.0        6.0\n",
       "8673   2020-03-25               NA  Colombia      470.0     4.0        8.0\n",
       "8980   2020-03-26               NA  Colombia      491.0     6.0        8.0\n",
       "...           ...              ...       ...        ...     ...        ...\n",
       "306323 2021-05-29            Sucre  Colombia    34809.0  1147.0    32259.0\n",
       "306346 2021-05-29           Tolima  Colombia    75296.0  2432.0    71624.0\n",
       "306380 2021-05-29  Valle del Cauca  Colombia   266414.0  8461.0   251388.0\n",
       "306387 2021-05-29           Vaupes  Colombia     1528.0    14.0     1481.0\n",
       "306391 2021-05-29          Vichada  Colombia     1772.0    25.0     1727.0\n",
       "\n",
       "[11807 rows x 6 columns]"
      ]
     },
     "execution_count": 69,
     "metadata": {},
     "output_type": "execute_result"
    }
   ],
   "source": [
    "df4 = df[(df['Country'] == 'Colombia') & (df['Deaths'] > 0)]\n",
    "df4"
   ]
  }
 ],
 "metadata": {
  "kernelspec": {
   "display_name": ".venv",
   "language": "python",
   "name": "python3"
  },
  "language_info": {
   "codemirror_mode": {
    "name": "ipython",
    "version": 3
   },
   "file_extension": ".py",
   "mimetype": "text/x-python",
   "name": "python",
   "nbconvert_exporter": "python",
   "pygments_lexer": "ipython3",
   "version": "3.13.2"
  }
 },
 "nbformat": 4,
 "nbformat_minor": 5
}
