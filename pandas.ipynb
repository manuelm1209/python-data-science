{
 "cells": [
  {
   "cell_type": "markdown",
   "id": "d9d6a766",
   "metadata": {},
   "source": [
    "# Pandas"
   ]
  },
  {
   "cell_type": "code",
   "execution_count": 1,
   "id": "82f34fd4",
   "metadata": {},
   "outputs": [],
   "source": [
    "import numpy as np\n",
    "import pandas as pd\n",
    "import matplotlib.pyplot as plt"
   ]
  },
  {
   "cell_type": "markdown",
   "id": "a31387d2",
   "metadata": {},
   "source": [
    "Print Pandas version"
   ]
  },
  {
   "cell_type": "code",
   "execution_count": 6,
   "id": "ee20168c",
   "metadata": {},
   "outputs": [
    {
     "name": "stdout",
     "output_type": "stream",
     "text": [
      "2.2.3\n"
     ]
    }
   ],
   "source": [
    "print(pd.__version__)"
   ]
  },
  {
   "cell_type": "code",
   "execution_count": 7,
   "id": "fd940f51",
   "metadata": {},
   "outputs": [],
   "source": [
    "A = pd.Series([0.25, 0.5, 0.75, 1.0], index=['a', 'b', 'c', 'd'])"
   ]
  },
  {
   "cell_type": "markdown",
   "id": "09ea7e88",
   "metadata": {},
   "source": [
    "Call the values"
   ]
  },
  {
   "cell_type": "code",
   "execution_count": 8,
   "id": "c84bd9c8",
   "metadata": {},
   "outputs": [
    {
     "data": {
      "text/plain": [
       "array([0.25, 0.5 , 0.75, 1.  ])"
      ]
     },
     "execution_count": 8,
     "metadata": {},
     "output_type": "execute_result"
    }
   ],
   "source": [
    "A.values"
   ]
  },
  {
   "cell_type": "markdown",
   "id": "108e985d",
   "metadata": {},
   "source": [
    "Call the index"
   ]
  },
  {
   "cell_type": "code",
   "execution_count": 9,
   "id": "733d8344",
   "metadata": {},
   "outputs": [
    {
     "data": {
      "text/plain": [
       "Index(['a', 'b', 'c', 'd'], dtype='object')"
      ]
     },
     "execution_count": 9,
     "metadata": {},
     "output_type": "execute_result"
    }
   ],
   "source": [
    "A.index"
   ]
  },
  {
   "cell_type": "markdown",
   "id": "bad6d8fd",
   "metadata": {},
   "source": [
    "Pandas uses NumPy"
   ]
  },
  {
   "cell_type": "code",
   "execution_count": 10,
   "id": "369c0f40",
   "metadata": {},
   "outputs": [
    {
     "data": {
      "text/plain": [
       "numpy.ndarray"
      ]
     },
     "execution_count": 10,
     "metadata": {},
     "output_type": "execute_result"
    }
   ],
   "source": [
    "type(A.values)"
   ]
  },
  {
   "cell_type": "markdown",
   "id": "a95d5ee0",
   "metadata": {},
   "source": [
    "Access a value using the index"
   ]
  },
  {
   "cell_type": "code",
   "execution_count": 13,
   "id": "df882c3a",
   "metadata": {},
   "outputs": [
    {
     "data": {
      "text/plain": [
       "np.float64(0.75)"
      ]
     },
     "execution_count": 13,
     "metadata": {},
     "output_type": "execute_result"
    }
   ],
   "source": [
    "A['c']"
   ]
  },
  {
   "cell_type": "markdown",
   "id": "fd0684e2",
   "metadata": {},
   "source": [
    "### Slicing"
   ]
  },
  {
   "cell_type": "code",
   "execution_count": 14,
   "id": "72f91544",
   "metadata": {},
   "outputs": [
    {
     "data": {
      "text/plain": [
       "a    0.25\n",
       "b    0.50\n",
       "c    0.75\n",
       "dtype: float64"
      ]
     },
     "execution_count": 14,
     "metadata": {},
     "output_type": "execute_result"
    }
   ],
   "source": [
    "A['a':'c']"
   ]
  },
  {
   "cell_type": "code",
   "execution_count": 15,
   "id": "d150afb1",
   "metadata": {},
   "outputs": [],
   "source": [
    "grades_dict = {'A': 4,'A-': 3.5,'B': 3,'B-': 2.5,'B': 2}\n",
    "grades = pd.Series(grades_dict)"
   ]
  },
  {
   "cell_type": "code",
   "execution_count": 16,
   "id": "8c20c046",
   "metadata": {},
   "outputs": [
    {
     "data": {
      "text/plain": [
       "A     4.0\n",
       "A-    3.5\n",
       "B     2.0\n",
       "B-    2.5\n",
       "dtype: float64"
      ]
     },
     "execution_count": 16,
     "metadata": {},
     "output_type": "execute_result"
    }
   ],
   "source": [
    "grades"
   ]
  },
  {
   "cell_type": "code",
   "execution_count": 17,
   "id": "eddfb6ca",
   "metadata": {},
   "outputs": [],
   "source": [
    "marks_dict = {'A': 85,'A-':80,'B':75,'B-':70,'B': 65}\n",
    "marks = pd.Series(marks_dict)"
   ]
  },
  {
   "cell_type": "code",
   "execution_count": 18,
   "id": "d2828fe8",
   "metadata": {},
   "outputs": [
    {
     "data": {
      "text/plain": [
       "A     85\n",
       "A-    80\n",
       "B     65\n",
       "B-    70\n",
       "dtype: int64"
      ]
     },
     "execution_count": 18,
     "metadata": {},
     "output_type": "execute_result"
    }
   ],
   "source": [
    "marks"
   ]
  },
  {
   "cell_type": "code",
   "execution_count": null,
   "id": "ae80ed1c",
   "metadata": {},
   "outputs": [],
   "source": []
  }
 ],
 "metadata": {
  "kernelspec": {
   "display_name": ".venv",
   "language": "python",
   "name": "python3"
  },
  "language_info": {
   "codemirror_mode": {
    "name": "ipython",
    "version": 3
   },
   "file_extension": ".py",
   "mimetype": "text/x-python",
   "name": "python",
   "nbconvert_exporter": "python",
   "pygments_lexer": "ipython3",
   "version": "3.13.2"
  }
 },
 "nbformat": 4,
 "nbformat_minor": 5
}
